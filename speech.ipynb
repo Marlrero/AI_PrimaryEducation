{
  "nbformat": 4,
  "nbformat_minor": 0,
  "metadata": {
    "colab": {
      "name": "speech.ipynb",
      "provenance": [],
      "collapsed_sections": [],
      "mount_file_id": "1hlzAA7jy7-4wj-8W4Dn30TOQ9RXlLpf1",
      "authorship_tag": "ABX9TyPcjh/tHu0fueXFWzi0fcuz",
      "include_colab_link": true
    },
    "kernelspec": {
      "name": "python3",
      "display_name": "Python 3"
    },
    "accelerator": "GPU"
  },
  "cells": [
    {
      "cell_type": "markdown",
      "metadata": {
        "id": "view-in-github",
        "colab_type": "text"
      },
      "source": [
        "<a href=\"https://colab.research.google.com/github/Marlrero/AI_PrimaryEducation/blob/main/speech.ipynb\" target=\"_parent\"><img src=\"https://colab.research.google.com/assets/colab-badge.svg\" alt=\"Open In Colab\"/></a>"
      ]
    },
    {
      "cell_type": "markdown",
      "metadata": {
        "id": "9wWQe85ug49I"
      },
      "source": [
        "### Keras CNN과 RNN(GRU)으로 음성 인식"
      ]
    },
    {
      "cell_type": "markdown",
      "metadata": {
        "id": "iBX9x14fg_at"
      },
      "source": [
        "#### 1. import packages & set hyperparameters"
      ]
    },
    {
      "cell_type": "code",
      "metadata": {
        "id": "vAr_CVB9g3O-"
      },
      "source": [
        "import os\r\n",
        "import numpy as np\r\n",
        "import matplotlib.pyplot as plt\r\n",
        "import random\r\n",
        "from time import time\r\n",
        "\r\n",
        "from sklearn.preprocessing import LabelEncoder\r\n",
        "from sklearn.model_selection import train_test_split\r\n",
        "from keras.utils.np_utils import to_categorical # One-hot encoding\r\n",
        "from keras.layers import BatchNormalization, Bidirectional, Conv1D, Dense, \\\r\n",
        "                         Dropout, GRU, Input, MaxPooling1D\r\n",
        "from keras.models import Model\r\n",
        "\r\n",
        "from tqdm import tqdm\r\n",
        "import librosa\r\n",
        "import librosa.display"
      ],
      "execution_count": 1,
      "outputs": []
    },
    {
      "cell_type": "code",
      "metadata": {
        "id": "oM5xEGOaixs-"
      },
      "source": [
        "# hyperparameters\r\n",
        "MY_SPLIT = 0.8\r\n",
        "MY_HIDDEN = 128\r\n",
        "MY_DROP = 0.3    # dropout\r\n",
        "MY_BATCH = 128\r\n",
        "MY_EPOCH = 100\r\n",
        "MY_PATH = '/content/drive/MyDrive/dataset/audio'\r\n",
        "\r\n",
        "# mode selection\r\n",
        "READ_WAV = 0 #1\r\n",
        "TRAIN_MODE = 1"
      ],
      "execution_count": 2,
      "outputs": []
    },
    {
      "cell_type": "markdown",
      "metadata": {
        "id": "l7UZPkZEjjyT"
      },
      "source": [
        "#### 2. load dataset & data preprocessing"
      ]
    },
    {
      "cell_type": "code",
      "metadata": {
        "colab": {
          "base_uri": "https://localhost:8080/",
          "height": 334
        },
        "id": "pgw9guvxjoBi",
        "outputId": "d5e71947-c453-46cf-939c-602e90f41480"
      },
      "source": [
        "# 5가지 음성 라벨\r\n",
        "labels = ['go', 'happy', 'seven', 'stop', 'yes']\r\n",
        "\r\n",
        "# sample autio file\r\n",
        "# y: sampling data, sr: sampling rate\r\n",
        "y, sr = librosa.load('/content/drive/MyDrive/dataset/test.wav')\r\n",
        "print(y, len(y), sr) # 22.05 kHz\r\n",
        "librosa.display.waveplot(y, sr=sr)"
      ],
      "execution_count": 3,
      "outputs": [
        {
          "output_type": "stream",
          "text": [
            "[ 0.00045734  0.00092356  0.00115384 ...  0.00073417 -0.00068279\n",
            " -0.0008395 ] 22050 22050\n"
          ],
          "name": "stdout"
        },
        {
          "output_type": "execute_result",
          "data": {
            "text/plain": [
              "<matplotlib.collections.PolyCollection at 0x7f1458ddda20>"
            ]
          },
          "metadata": {
            "tags": []
          },
          "execution_count": 3
        },
        {
          "output_type": "display_data",
          "data": {
            "image/png": "[encoded data removed]",
            "text/plain": [
              "<Figure size 432x288 with 1 Axes>"
            ]
          },
          "metadata": {
            "tags": [],
            "needs_background": "light"
          }
        }
      ]
    },
    {
      "cell_type": "code",
      "metadata": {
        "id": "T5qYW5XFjoVR"
      },
      "source": [
        "# 오디오 파일 읽고 처리\r\n",
        "def read_wave():\r\n",
        "  begin = time()\r\n",
        "  print(\"Resampling start...\")\r\n",
        "  # 자연어 처리(기사 카테고리 분류)에서는 pad_sequences를 사용했었음\r\n",
        "  # 이는 뒤나 앞을 0으로 채우기 때문에 이는 안좋은 방법!\r\n",
        "  all_wave = []\r\n",
        "  all_label = []\r\n",
        "\r\n",
        "  # tqdm 함수는 진행 사항을 표시하기 위함\r\n",
        "  for label in tqdm(labels):\r\n",
        "    path = MY_PATH + '/' + label # 5가지 음성 라벨 폴더 경로\r\n",
        "    waves = [f for f in os.listdir(path)]\r\n",
        "\r\n",
        "    for wav in waves:\r\n",
        "      # 1개의 오디오 파일을 16kHz로 샘플링함 (기사 분류에서는 200개 기사 길이로 했었음)\r\n",
        "      # 1초당 16,000개의 숫자로 샘플링함\r\n",
        "      file = path + '/' + wav\r\n",
        "      samples, rate = librosa.load(file) #, sr=16000) # sampling rate\r\n",
        "      # orig_sr=22.05kHz -> target_sr=8kHz\r\n",
        "      # down-sampling (16kHz -> 8kHz)\r\n",
        "      samples = librosa.resample(samples, orig_sr=rate, target_sr=8000)\r\n",
        "      #print(\"샘플링 이후:\", len(samples))\r\n",
        "\r\n",
        "      # 어떤 sample은 8kHz가 아닐 수 있음 (8kHz보다 짧은 것도 리샘플링이 가능한가?)\r\n",
        "      if (len(samples) == 8000):\r\n",
        "        all_wave.append(samples)\r\n",
        "        all_label.append(label)\r\n",
        "\r\n",
        "  end = time()\r\n",
        "  print(\"Resampling finish...\")\r\n",
        "  print(\"Total sample num:\", len(all_wave))\r\n",
        "  print(\"Resampling time: {:.2f}\".format(end - begin))\r\n",
        "\r\n",
        "  return all_wave, all_label\r\n",
        "\r\n",
        "#read_wave() # 함수 정상 실행 여부 확인"
      ],
      "execution_count": 4,
      "outputs": []
    },
    {
      "cell_type": "code",
      "metadata": {
        "id": "2N67FXA8oAPo"
      },
      "source": [
        "# text label을 [0, 9], One-hot encoding 변환\r\n",
        "def set_arrays(all_wave, all_label):\r\n",
        "  encoder = LabelEncoder()\r\n",
        "  all_label = encoder.fit_transform(all_label)\r\n",
        "  #print(all_label)\r\n",
        "  all_label = to_categorical(all_label, num_classes=len(labels)) # all_label은 numpy 배열로 변환됨\r\n",
        "  #print(all_label)\r\n",
        "  #print(np.array(all_wave).shape) # (349(오디오 데이터 개수), 8000)\r\n",
        "\r\n",
        "  # 음성 데이터를 3차원으로 전환\r\n",
        "  # Keras Conv층을 사용하기 위한 조건\r\n",
        "  # 349, 8000, 1 대신에, -1(or np.array(all_wave).shape[0])을 앞에 넣어주는게 좋음\r\n",
        "  #     -1: 1차원 정보를 알아서 계산하라는 의미 (당연히 349를 보존할 것임)\r\n",
        "  all_wave = np.array(all_wave).reshape(-1, 8000, 1) # 3차원(배치->CNN채널정보 추가)으로 변경\r\n",
        "  #print(all_wave.shape)\r\n",
        "  return all_wave, all_label"
      ],
      "execution_count": 5,
      "outputs": []
    },
    {
      "cell_type": "code",
      "metadata": {
        "id": "evy4LL93oAhX"
      },
      "source": [
        "# 데이터 처리 모드 선택\r\n",
        "if READ_WAV:\r\n",
        "  all_wave, all_label = read_wave()\r\n",
        "  all_wave, all_label = set_arrays(all_wave, all_label)\r\n",
        "\r\n",
        "  # all_wave, all_label 처리가 오래 걸려 이를 파일로 저장해서 사용\r\n",
        "  with open('arrays.npy', 'wb') as f:\r\n",
        "    np.save(f, all_wave)\r\n",
        "    np.save(f, all_label)\r\n",
        "  \r\n",
        "  print('데이터 파일 완성!')\r\n",
        "  print('READ_WAV를 0으로 바꿔 진행하세요.')\r\n",
        "  exit() # 바꿔서 다시 실행하면 else로 넘어감\r\n",
        "else:\r\n",
        "  with open('arrays.npy', 'rb') as f:\r\n",
        "    all_wave = np.load(f)\r\n",
        "    all_label = np.load(f)"
      ],
      "execution_count": 6,
      "outputs": []
    },
    {
      "cell_type": "code",
      "metadata": {
        "colab": {
          "base_uri": "https://localhost:8080/"
        },
        "id": "Nnq6FtRHRFov",
        "outputId": "2d8ce294-3a2f-4cb3-c73e-bdd6d31a8160"
      },
      "source": [
        "print('음성 데이터 모양:', all_wave.shape)\r\n",
        "print('라벨 데이터 모양:', all_label.shape)"
      ],
      "execution_count": 7,
      "outputs": [
        {
          "output_type": "stream",
          "text": [
            "음성 데이터 모양: (889, 8000, 1)\n",
            "라벨 데이터 모양: (889, 5)\n"
          ],
          "name": "stdout"
        }
      ]
    },
    {
      "cell_type": "code",
      "metadata": {
        "colab": {
          "base_uri": "https://localhost:8080/"
        },
        "id": "RNUe_y0BRiHh",
        "outputId": "93b6cc5c-002f-478d-c091-9ad76c8b64f4"
      },
      "source": [
        "X_train, X_test, Y_train, Y_test = \\\r\n",
        "    train_test_split(all_wave, all_label, train_size=MY_SPLIT, shuffle=True)\r\n",
        "\r\n",
        "print(X_train.shape, Y_train.shape, X_test.shape, Y_test.shape)"
      ],
      "execution_count": 8,
      "outputs": [
        {
          "output_type": "stream",
          "text": [
            "(711, 8000, 1) (711, 5) (178, 8000, 1) (178, 5)\n"
          ],
          "name": "stdout"
        }
      ]
    },
    {
      "cell_type": "markdown",
      "metadata": {
        "id": "cX8LGDIQgOCa"
      },
      "source": [
        "#### 3. model(CNN+RNN) creating"
      ]
    },
    {
      "cell_type": "code",
      "metadata": {
        "colab": {
          "base_uri": "https://localhost:8080/"
        },
        "id": "ngoqp2CwRicq",
        "outputId": "89940cf0-4cc5-41d8-99b9-fd6ebe65d56c"
      },
      "source": [
        "inputs = Input(shape=(8000, 1))\r\n",
        "x = BatchNormalization()(inputs)\r\n",
        "\r\n",
        "# Conv output_shape = (input_shape - kernel_size + 2 * padding_size) / stride\r\n",
        "# padding='valid' -> padding을 주지 않음\r\n",
        "\r\n",
        "# Pool output_shape = (input_shape - pool_size + 1) / strides\r\n",
        "# stride=None(default -> pool_size)\r\n",
        "\r\n",
        "# First Conv\r\n",
        "x = Conv1D(filters=8, kernel_size=13, padding='valid', strides=1, activation='relu')(x)\r\n",
        "# 8000 - 13 + 2 * 0.5(?) / 1 = 7988 * 8\r\n",
        "x = MaxPooling1D(pool_size=3)(x)\r\n",
        "# 7988 - 3 + 1 / 3 = 2662 * 8\r\n",
        "x = Dropout(rate=MY_DROP)(x)\r\n",
        "\r\n",
        "# Second Conv\r\n",
        "x = Conv1D(filters=16, kernel_size=11, padding='valid', strides=1, activation='relu')(x)\r\n",
        "# 2662 - 11 + 2 * 0.5(?) / 1 = 2652 * 16\r\n",
        "x = MaxPooling1D(pool_size=3)(x)\r\n",
        "# 2652 - 3 + 1 / 3 = 883.3 = 884 * 16\r\n",
        "x = Dropout(rate=MY_DROP)(x)\r\n",
        "\r\n",
        "# Third Conv\r\n",
        "x = Conv1D(filters=32, kernel_size=9, padding='valid', strides=1, activation='relu')(x)\r\n",
        "# 884 - 9 + 2 * 0.5(?) / 1 = 876 * 32\r\n",
        "x = MaxPooling1D(pool_size=3)(x)\r\n",
        "# 876 - 3 + 1 / 3 = 291.3 = 292 * 32\r\n",
        "x = Dropout(rate=MY_DROP)(x)\r\n",
        "x = BatchNormalization()(x)\r\n",
        "\r\n",
        "# 소리(음성)은 시간 차원이(순서가) 존재함 -> RNN으로 해야 함\r\n",
        "\r\n",
        "# First GRU\r\n",
        "# RNN의 입력은 292개(unfold시 292개 cell처럼 보임)가 되고, 입력 차원은 32\r\n",
        "x = Bidirectional(GRU(units=MY_HIDDEN, return_sequences=True), merge_mode='sum')(x)\r\n",
        "# 차원이 32 -> 128(MY_HIDDEN)\r\n",
        "\r\n",
        "# Second GRU\r\n",
        "x = Bidirectional(GRU(units=MY_HIDDEN, return_sequences=True), merge_mode='sum')(x)\r\n",
        "\r\n",
        "# Third GRU\r\n",
        "x = Bidirectional(GRU(units=MY_HIDDEN, return_sequences=False), merge_mode='sum')(x)\r\n",
        "# 128개가 나옴! return_sequences=False\r\n",
        "\r\n",
        "# Output\r\n",
        "x = BatchNormalization()(x)\r\n",
        "x = Dense(units=256, activation='relu')(x)\r\n",
        "outputs = Dense(units=len(labels), activation='softmax')(x) # 5개 라벨 분류\r\n",
        "\r\n",
        "model = Model(inputs=inputs, outputs=outputs)\r\n",
        "model.summary()"
      ],
      "execution_count": 9,
      "outputs": [
        {
          "output_type": "stream",
          "text": [
            "Model: \"model\"\n",
            "_________________________________________________________________\n",
            "Layer (type)                 Output Shape              Param #   \n",
            "=================================================================\n",
            "input_1 (InputLayer)         [(None, 8000, 1)]         0         \n",
            "_________________________________________________________________\n",
            "batch_normalization (BatchNo (None, 8000, 1)           4         \n",
            "_________________________________________________________________\n",
            "conv1d (Conv1D)              (None, 7988, 8)           112       \n",
            "_________________________________________________________________\n",
            "max_pooling1d (MaxPooling1D) (None, 2662, 8)           0         \n",
            "_________________________________________________________________\n",
            "dropout (Dropout)            (None, 2662, 8)           0         \n",
            "_________________________________________________________________\n",
            "conv1d_1 (Conv1D)            (None, 2652, 16)          1424      \n",
            "_________________________________________________________________\n",
            "max_pooling1d_1 (MaxPooling1 (None, 884, 16)           0         \n",
            "_________________________________________________________________\n",
            "dropout_1 (Dropout)          (None, 884, 16)           0         \n",
            "_________________________________________________________________\n",
            "conv1d_2 (Conv1D)            (None, 876, 32)           4640      \n",
            "_________________________________________________________________\n",
            "max_pooling1d_2 (MaxPooling1 (None, 292, 32)           0         \n",
            "_________________________________________________________________\n",
            "dropout_2 (Dropout)          (None, 292, 32)           0         \n",
            "_________________________________________________________________\n",
            "batch_normalization_1 (Batch (None, 292, 32)           128       \n",
            "_________________________________________________________________\n",
            "bidirectional (Bidirectional (None, 292, 128)          124416    \n",
            "_________________________________________________________________\n",
            "bidirectional_1 (Bidirection (None, 292, 128)          198144    \n",
            "_________________________________________________________________\n",
            "bidirectional_2 (Bidirection (None, 128)               198144    \n",
            "_________________________________________________________________\n",
            "batch_normalization_2 (Batch (None, 128)               512       \n",
            "_________________________________________________________________\n",
            "dense (Dense)                (None, 256)               33024     \n",
            "_________________________________________________________________\n",
            "dense_1 (Dense)              (None, 5)                 1285      \n",
            "=================================================================\n",
            "Total params: 561,833\n",
            "Trainable params: 561,511\n",
            "Non-trainable params: 322\n",
            "_________________________________________________________________\n"
          ],
          "name": "stdout"
        }
      ]
    },
    {
      "cell_type": "code",
      "metadata": {
        "colab": {
          "base_uri": "https://localhost:8080/"
        },
        "id": "ThNx5HKYxeju",
        "outputId": "3c7dfddb-7b72-4d63-d1fb-4dbe2bc008f4"
      },
      "source": [
        "model.compile(loss='categorical_crossentropy', optimizer='nadam', metrics=['acc'])\r\n",
        "\r\n",
        "if TRAIN_MODE:\r\n",
        "  print('Learning start...')\r\n",
        "  begin = time()\r\n",
        "  model.fit(x=X_train, y=Y_train, epochs=MY_EPOCH, batch_size=MY_BATCH, verbose=1)\r\n",
        "  end = time()\r\n",
        "  print('Total learning time: {:.2f}sec'.format(end - begin))\r\n",
        "  model.save_weights('speech.h5') # 모델 저장\r\n",
        "else:\r\n",
        "  model.load_weights('speech.h5') # 모델 로드"
      ],
      "execution_count": 10,
      "outputs": [
        {
          "output_type": "stream",
          "text": [
            "Learning start...\n",
            "Epoch 1/100\n",
            "6/6 [==============================] - 12s 141ms/step - loss: 1.7226 - acc: 0.2140\n",
            "Epoch 2/100\n",
            "6/6 [==============================] - 1s 127ms/step - loss: 1.6721 - acc: 0.2213\n",
            "Epoch 3/100\n",
            "6/6 [==============================] - 1s 127ms/step - loss: 1.6217 - acc: 0.2431\n",
            "Epoch 4/100\n",
            "6/6 [==============================] - 1s 129ms/step - loss: 1.6489 - acc: 0.2424\n",
            "Epoch 5/100\n",
            "6/6 [==============================] - 1s 126ms/step - loss: 1.5852 - acc: 0.2297\n",
            "Epoch 6/100\n",
            "6/6 [==============================] - 1s 128ms/step - loss: 1.5590 - acc: 0.2438\n",
            "Epoch 7/100\n",
            "6/6 [==============================] - 1s 129ms/step - loss: 1.5865 - acc: 0.2560\n",
            "Epoch 8/100\n",
            "6/6 [==============================] - 1s 130ms/step - loss: 1.5314 - acc: 0.3076\n",
            "Epoch 9/100\n",
            "6/6 [==============================] - 1s 129ms/step - loss: 1.5317 - acc: 0.3017\n",
            "Epoch 10/100\n",
            "6/6 [==============================] - 1s 130ms/step - loss: 1.5333 - acc: 0.2973\n",
            "Epoch 11/100\n",
            "6/6 [==============================] - 1s 127ms/step - loss: 1.5137 - acc: 0.2919\n",
            "Epoch 12/100\n",
            "6/6 [==============================] - 1s 128ms/step - loss: 1.5087 - acc: 0.3302\n",
            "Epoch 13/100\n",
            "6/6 [==============================] - 1s 129ms/step - loss: 1.4755 - acc: 0.3178\n",
            "Epoch 14/100\n",
            "6/6 [==============================] - 1s 129ms/step - loss: 1.4971 - acc: 0.3058\n",
            "Epoch 15/100\n",
            "6/6 [==============================] - 1s 129ms/step - loss: 1.4479 - acc: 0.3482\n",
            "Epoch 16/100\n",
            "6/6 [==============================] - 1s 130ms/step - loss: 1.4301 - acc: 0.3709\n",
            "Epoch 17/100\n",
            "6/6 [==============================] - 1s 129ms/step - loss: 1.4344 - acc: 0.3836\n",
            "Epoch 18/100\n",
            "6/6 [==============================] - 1s 128ms/step - loss: 1.2921 - acc: 0.4552\n",
            "Epoch 19/100\n",
            "6/6 [==============================] - 1s 128ms/step - loss: 1.0671 - acc: 0.5516\n",
            "Epoch 20/100\n",
            "6/6 [==============================] - 1s 128ms/step - loss: 0.9353 - acc: 0.6106\n",
            "Epoch 21/100\n",
            "6/6 [==============================] - 1s 130ms/step - loss: 0.9917 - acc: 0.5633\n",
            "Epoch 22/100\n",
            "6/6 [==============================] - 1s 129ms/step - loss: 0.7617 - acc: 0.6996\n",
            "Epoch 23/100\n",
            "6/6 [==============================] - 1s 130ms/step - loss: 0.6900 - acc: 0.7324\n",
            "Epoch 24/100\n",
            "6/6 [==============================] - 1s 129ms/step - loss: 0.6668 - acc: 0.7276\n",
            "Epoch 25/100\n",
            "6/6 [==============================] - 1s 130ms/step - loss: 0.5951 - acc: 0.7604\n",
            "Epoch 26/100\n",
            "6/6 [==============================] - 1s 129ms/step - loss: 0.5252 - acc: 0.7934\n",
            "Epoch 27/100\n",
            "6/6 [==============================] - 1s 130ms/step - loss: 0.4809 - acc: 0.8167\n",
            "Epoch 28/100\n",
            "6/6 [==============================] - 1s 129ms/step - loss: 0.4031 - acc: 0.8562\n",
            "Epoch 29/100\n",
            "6/6 [==============================] - 1s 129ms/step - loss: 0.3165 - acc: 0.8873\n",
            "Epoch 30/100\n",
            "6/6 [==============================] - 1s 130ms/step - loss: 0.4338 - acc: 0.8395\n",
            "Epoch 31/100\n",
            "6/6 [==============================] - 1s 128ms/step - loss: 0.2820 - acc: 0.8880\n",
            "Epoch 32/100\n",
            "6/6 [==============================] - 1s 129ms/step - loss: 0.2229 - acc: 0.9412\n",
            "Epoch 33/100\n",
            "6/6 [==============================] - 1s 128ms/step - loss: 0.2184 - acc: 0.9297\n",
            "Epoch 34/100\n",
            "6/6 [==============================] - 1s 129ms/step - loss: 0.1673 - acc: 0.9503\n",
            "Epoch 35/100\n",
            "6/6 [==============================] - 1s 130ms/step - loss: 0.1238 - acc: 0.9685\n",
            "Epoch 36/100\n",
            "6/6 [==============================] - 1s 130ms/step - loss: 0.1208 - acc: 0.9685\n",
            "Epoch 37/100\n",
            "6/6 [==============================] - 1s 130ms/step - loss: 0.1447 - acc: 0.9575\n",
            "Epoch 38/100\n",
            "6/6 [==============================] - 1s 129ms/step - loss: 0.1551 - acc: 0.9513\n",
            "Epoch 39/100\n",
            "6/6 [==============================] - 1s 130ms/step - loss: 0.1297 - acc: 0.9469\n",
            "Epoch 40/100\n",
            "6/6 [==============================] - 1s 129ms/step - loss: 0.0902 - acc: 0.9712\n",
            "Epoch 41/100\n",
            "6/6 [==============================] - 1s 128ms/step - loss: 0.0917 - acc: 0.9731\n",
            "Epoch 42/100\n",
            "6/6 [==============================] - 1s 131ms/step - loss: 0.0893 - acc: 0.9731\n",
            "Epoch 43/100\n",
            "6/6 [==============================] - 1s 129ms/step - loss: 0.1297 - acc: 0.9444\n",
            "Epoch 44/100\n",
            "6/6 [==============================] - 1s 130ms/step - loss: 0.0642 - acc: 0.9889\n",
            "Epoch 45/100\n",
            "6/6 [==============================] - 1s 128ms/step - loss: 0.0552 - acc: 0.9811\n",
            "Epoch 46/100\n",
            "6/6 [==============================] - 1s 130ms/step - loss: 0.0559 - acc: 0.9844\n",
            "Epoch 47/100\n",
            "6/6 [==============================] - 1s 130ms/step - loss: 0.0597 - acc: 0.9865\n",
            "Epoch 48/100\n",
            "6/6 [==============================] - 1s 130ms/step - loss: 0.0542 - acc: 0.9792\n",
            "Epoch 49/100\n",
            "6/6 [==============================] - 1s 129ms/step - loss: 0.0379 - acc: 0.9904\n",
            "Epoch 50/100\n",
            "6/6 [==============================] - 1s 130ms/step - loss: 0.0730 - acc: 0.9801\n",
            "Epoch 51/100\n",
            "6/6 [==============================] - 1s 128ms/step - loss: 0.0392 - acc: 0.9877\n",
            "Epoch 52/100\n",
            "6/6 [==============================] - 1s 130ms/step - loss: 0.0470 - acc: 0.9900\n",
            "Epoch 53/100\n",
            "6/6 [==============================] - 1s 129ms/step - loss: 0.0305 - acc: 0.9922\n",
            "Epoch 54/100\n",
            "6/6 [==============================] - 1s 131ms/step - loss: 0.0406 - acc: 0.9848\n",
            "Epoch 55/100\n",
            "6/6 [==============================] - 1s 131ms/step - loss: 0.0305 - acc: 0.9903\n",
            "Epoch 56/100\n",
            "6/6 [==============================] - 1s 131ms/step - loss: 0.0318 - acc: 0.9934\n",
            "Epoch 57/100\n",
            "6/6 [==============================] - 1s 131ms/step - loss: 0.3829 - acc: 0.8798\n",
            "Epoch 58/100\n",
            "6/6 [==============================] - 1s 129ms/step - loss: 0.0562 - acc: 0.9898\n",
            "Epoch 59/100\n",
            "6/6 [==============================] - 1s 129ms/step - loss: 0.0473 - acc: 0.9829\n",
            "Epoch 60/100\n",
            "6/6 [==============================] - 1s 132ms/step - loss: 0.0382 - acc: 0.9902\n",
            "Epoch 61/100\n",
            "6/6 [==============================] - 1s 130ms/step - loss: 0.0384 - acc: 0.9817\n",
            "Epoch 62/100\n",
            "6/6 [==============================] - 1s 130ms/step - loss: 0.0327 - acc: 0.9894\n",
            "Epoch 63/100\n",
            "6/6 [==============================] - 1s 128ms/step - loss: 0.0231 - acc: 0.9972\n",
            "Epoch 64/100\n",
            "6/6 [==============================] - 1s 130ms/step - loss: 0.0220 - acc: 0.9920\n",
            "Epoch 65/100\n",
            "6/6 [==============================] - 1s 130ms/step - loss: 0.0177 - acc: 0.9968\n",
            "Epoch 66/100\n",
            "6/6 [==============================] - 1s 130ms/step - loss: 0.0304 - acc: 0.9929\n",
            "Epoch 67/100\n",
            "6/6 [==============================] - 1s 131ms/step - loss: 0.0237 - acc: 0.9936\n",
            "Epoch 68/100\n",
            "6/6 [==============================] - 1s 131ms/step - loss: 0.0172 - acc: 0.9956\n",
            "Epoch 69/100\n",
            "6/6 [==============================] - 1s 129ms/step - loss: 0.0204 - acc: 0.9955\n",
            "Epoch 70/100\n",
            "6/6 [==============================] - 1s 130ms/step - loss: 0.0384 - acc: 0.9797\n",
            "Epoch 71/100\n",
            "6/6 [==============================] - 1s 130ms/step - loss: 0.0275 - acc: 0.9888\n",
            "Epoch 72/100\n",
            "6/6 [==============================] - 1s 131ms/step - loss: 0.0203 - acc: 0.9915\n",
            "Epoch 73/100\n",
            "6/6 [==============================] - 1s 132ms/step - loss: 0.0306 - acc: 0.9896\n",
            "Epoch 74/100\n",
            "6/6 [==============================] - 1s 131ms/step - loss: 0.0198 - acc: 0.9968\n",
            "Epoch 75/100\n",
            "6/6 [==============================] - 1s 129ms/step - loss: 0.0599 - acc: 0.9887\n",
            "Epoch 76/100\n",
            "6/6 [==============================] - 1s 132ms/step - loss: 0.0170 - acc: 0.9951\n",
            "Epoch 77/100\n",
            "6/6 [==============================] - 1s 132ms/step - loss: 0.0269 - acc: 0.9945\n",
            "Epoch 78/100\n",
            "6/6 [==============================] - 1s 130ms/step - loss: 0.0129 - acc: 0.9996\n",
            "Epoch 79/100\n",
            "6/6 [==============================] - 1s 131ms/step - loss: 0.0526 - acc: 0.9755\n",
            "Epoch 80/100\n",
            "6/6 [==============================] - 1s 132ms/step - loss: 0.0265 - acc: 0.9906\n",
            "Epoch 81/100\n",
            "6/6 [==============================] - 1s 132ms/step - loss: 0.0169 - acc: 0.9941\n",
            "Epoch 82/100\n",
            "6/6 [==============================] - 1s 132ms/step - loss: 0.0110 - acc: 0.9960\n",
            "Epoch 83/100\n",
            "6/6 [==============================] - 1s 132ms/step - loss: 0.0202 - acc: 0.9944\n",
            "Epoch 84/100\n",
            "6/6 [==============================] - 1s 133ms/step - loss: 0.0157 - acc: 0.9929\n",
            "Epoch 85/100\n",
            "6/6 [==============================] - 1s 132ms/step - loss: 0.0185 - acc: 0.9932\n",
            "Epoch 86/100\n",
            "6/6 [==============================] - 1s 131ms/step - loss: 0.0155 - acc: 0.9982\n",
            "Epoch 87/100\n",
            "6/6 [==============================] - 1s 132ms/step - loss: 0.0238 - acc: 0.9965\n",
            "Epoch 88/100\n",
            "6/6 [==============================] - 1s 133ms/step - loss: 0.0318 - acc: 0.9853\n",
            "Epoch 89/100\n",
            "6/6 [==============================] - 1s 133ms/step - loss: 0.0224 - acc: 0.9970\n",
            "Epoch 90/100\n",
            "6/6 [==============================] - 1s 134ms/step - loss: 0.0368 - acc: 0.9796\n",
            "Epoch 91/100\n",
            "6/6 [==============================] - 1s 132ms/step - loss: 0.0346 - acc: 0.9864\n",
            "Epoch 92/100\n",
            "6/6 [==============================] - 1s 134ms/step - loss: 0.0361 - acc: 0.9883\n",
            "Epoch 93/100\n",
            "6/6 [==============================] - 1s 133ms/step - loss: 0.0324 - acc: 0.9906\n",
            "Epoch 94/100\n",
            "6/6 [==============================] - 1s 135ms/step - loss: 0.0137 - acc: 0.9936\n",
            "Epoch 95/100\n",
            "6/6 [==============================] - 1s 134ms/step - loss: 0.0294 - acc: 0.9884\n",
            "Epoch 96/100\n",
            "6/6 [==============================] - 1s 135ms/step - loss: 0.0333 - acc: 0.9897\n",
            "Epoch 97/100\n",
            "6/6 [==============================] - 1s 132ms/step - loss: 0.0093 - acc: 0.9994\n",
            "Epoch 98/100\n",
            "6/6 [==============================] - 1s 132ms/step - loss: 0.0182 - acc: 0.9896\n",
            "Epoch 99/100\n",
            "6/6 [==============================] - 1s 135ms/step - loss: 0.0097 - acc: 0.9970\n",
            "Epoch 100/100\n",
            "6/6 [==============================] - 1s 133ms/step - loss: 0.0096 - acc: 0.9966\n",
            "Total learning time: 90.15sec\n"
          ],
          "name": "stdout"
        }
      ]
    },
    {
      "cell_type": "markdown",
      "metadata": {
        "id": "hQBZuhe5jnhJ"
      },
      "source": [
        "#### 4. model evaluation"
      ]
    },
    {
      "cell_type": "code",
      "metadata": {
        "colab": {
          "base_uri": "https://localhost:8080/"
        },
        "id": "jpT2R3L4zEIL",
        "outputId": "dc1ff510-cdd3-4ebb-a311-81c64def3277"
      },
      "source": [
        "score = model.evaluate(x=X_test, y=Y_test, verbose=1)\r\n",
        "print('Total loss: {:.2f}'.format(score[0]))\r\n",
        "print('Accuarcy: {:.2f}'.format(score[1])) # 라벨이 5개 밖에 없음!"
      ],
      "execution_count": 13,
      "outputs": [
        {
          "output_type": "stream",
          "text": [
            "6/6 [==============================] - 0s 55ms/step - loss: 0.5217 - acc: 0.9213\n",
            "Total loss: 0.52\n",
            "Accuarcy: 0.92\n"
          ],
          "name": "stdout"
        }
      ]
    },
    {
      "cell_type": "markdown",
      "metadata": {
        "id": "j89TqDfs08Eq"
      },
      "source": [
        "#### 5. model prediction"
      ]
    },
    {
      "cell_type": "code",
      "metadata": {
        "id": "c5pyAKHm08Zs"
      },
      "source": [
        "# 주어진 음성으로 예측\r\n",
        "def audio_to_text(audio):\r\n",
        "  pred = model.predict(audio.reshape(1, 8000, 1)) # 채널 정보 없이 들어옴\r\n",
        "  index = np.argmax(pred[0]) # 확률 -> 가장 큰 확률의 인덱스\r\n",
        "  return labels[index]\r\n",
        "\r\n",
        "# 평가용 데이터에서 임의로 음성 추출\r\n",
        "pick = random.randint(0, len(X_test) - 1) # test 데이터 개수만큼 랜덤 정수\r\n",
        "sample = X_test[pick]\r\n",
        "truth = np.argmax(Y_test[pick])\r\n",
        "print('무작위 음성 정답:', labels[truth])\r\n",
        "\r\n",
        "audio, rate = librosa.load('/content/drive/MyDrive/dataset/SKL-yes.wav')\r\n",
        "print('Origin sampling rate:', rate)\r\n",
        "\r\n",
        "sample = librosa.resample(audio, orig_sr=rate, target_sr=8000)\r\n",
        "#print('Sampling ')"
      ],
      "execution_count": null,
      "outputs": []
    }
  ]
}