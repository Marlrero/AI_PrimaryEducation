{
  "nbformat": 4,
  "nbformat_minor": 0,
  "metadata": {
    "colab": {
      "name": "bitcoin.ipynb",
      "provenance": [],
      "collapsed_sections": [],
      "mount_file_id": "1JzPULPq2RVPbPERX0DGKthebYErMwdb7",
      "authorship_tag": "ABX9TyOtzzf6nK0+sIx4B0L2zWfp",
      "include_colab_link": true
    },
    "kernelspec": {
      "name": "python3",
      "display_name": "Python 3"
    },
    "accelerator": "GPU"
  },
  "cells": [
    {
      "cell_type": "markdown",
      "metadata": {
        "id": "view-in-github",
        "colab_type": "text"
      },
      "source": [
        "<a href=\"https://colab.research.google.com/github/Marlrero/AI_PrimaryEducation/blob/main/bitcoin.ipynb\" target=\"_parent\"><img src=\"https://colab.research.google.com/assets/colab-badge.svg\" alt=\"Open In Colab\"/></a>"
      ]
    },
    {
      "cell_type": "markdown",
      "metadata": {
        "id": "1o3YEpkNAxG6"
      },
      "source": [
        "### Keras RNN으로 Bitcoin 시세 예측"
      ]
    },
    {
      "cell_type": "markdown",
      "metadata": {
        "id": "lyyL6bImDndW"
      },
      "source": [
        "#### 1. import package & set hyperparameters"
      ]
    },
    {
      "cell_type": "code",
      "metadata": {
        "id": "seTjHUecAMmR"
      },
      "source": [
        "import numpy as np\r\n",
        "import pandas as pd\r\n",
        "import matplotlib.pyplot as plt\r\n",
        "from time import time\r\n",
        "\r\n",
        "from keras.models import Sequential\r\n",
        "from keras.layers import Dense, LSTM\r\n",
        "from sklearn.preprocessing import MinMaxScaler"
      ],
      "execution_count": 1,
      "outputs": []
    },
    {
      "cell_type": "code",
      "metadata": {
        "id": "r1gEjhIYDtPo"
      },
      "source": [
        "# hyperparameters\r\n",
        "MY_PAST = 5\r\n",
        "MY_HIDDEN = 256\r\n",
        "MY_EPOCH = 10"
      ],
      "execution_count": 2,
      "outputs": []
    },
    {
      "cell_type": "markdown",
      "metadata": {
        "id": "2C-SsMtPDsYo"
      },
      "source": [
        "#### 2. load dataset & data preprocessing"
      ]
    },
    {
      "cell_type": "code",
      "metadata": {
        "colab": {
          "base_uri": "https://localhost:8080/",
          "height": 378
        },
        "id": "5oOQVg_HE1ry",
        "outputId": "f8368e39-385f-4410-d02a-cad8f289c8b8"
      },
      "source": [
        "rawDB = pd.read_csv('/content/drive/MyDrive/dataset/BTC-USD.csv',\r\n",
        "                    header=0, # 헤더를 데이터로 인식하는 것을 방지함\r\n",
        "                    usecols=['Date', 'Close'], # Date와 Close 컬럼을 사용\r\n",
        "                    parse_dates=True, # 날짜에 대해 Parsing 허용\r\n",
        "                    index_col='Date')\r\n",
        "\r\n",
        "rawDB.head(10)"
      ],
      "execution_count": 3,
      "outputs": [
        {
          "output_type": "execute_result",
          "data": {
            "text/html": [
              "<div>\n",
              "<style scoped>\n",
              "    .dataframe tbody tr th:only-of-type {\n",
              "        vertical-align: middle;\n",
              "    }\n",
              "\n",
              "    .dataframe tbody tr th {\n",
              "        vertical-align: top;\n",
              "    }\n",
              "\n",
              "    .dataframe thead th {\n",
              "        text-align: right;\n",
              "    }\n",
              "</style>\n",
              "<table border=\"1\" class=\"dataframe\">\n",
              "  <thead>\n",
              "    <tr style=\"text-align: right;\">\n",
              "      <th></th>\n",
              "      <th>Close</th>\n",
              "    </tr>\n",
              "    <tr>\n",
              "      <th>Date</th>\n",
              "      <th></th>\n",
              "    </tr>\n",
              "  </thead>\n",
              "  <tbody>\n",
              "    <tr>\n",
              "      <th>2014-09-17</th>\n",
              "      <td>457.334015</td>\n",
              "    </tr>\n",
              "    <tr>\n",
              "      <th>2014-09-18</th>\n",
              "      <td>424.440002</td>\n",
              "    </tr>\n",
              "    <tr>\n",
              "      <th>2014-09-19</th>\n",
              "      <td>394.795990</td>\n",
              "    </tr>\n",
              "    <tr>\n",
              "      <th>2014-09-20</th>\n",
              "      <td>408.903992</td>\n",
              "    </tr>\n",
              "    <tr>\n",
              "      <th>2014-09-21</th>\n",
              "      <td>398.821014</td>\n",
              "    </tr>\n",
              "    <tr>\n",
              "      <th>2014-09-22</th>\n",
              "      <td>402.152008</td>\n",
              "    </tr>\n",
              "    <tr>\n",
              "      <th>2014-09-23</th>\n",
              "      <td>435.790985</td>\n",
              "    </tr>\n",
              "    <tr>\n",
              "      <th>2014-09-24</th>\n",
              "      <td>423.204987</td>\n",
              "    </tr>\n",
              "    <tr>\n",
              "      <th>2014-09-25</th>\n",
              "      <td>411.574005</td>\n",
              "    </tr>\n",
              "    <tr>\n",
              "      <th>2014-09-26</th>\n",
              "      <td>404.424988</td>\n",
              "    </tr>\n",
              "  </tbody>\n",
              "</table>\n",
              "</div>"
            ],
            "text/plain": [
              "                 Close\n",
              "Date                  \n",
              "2014-09-17  457.334015\n",
              "2014-09-18  424.440002\n",
              "2014-09-19  394.795990\n",
              "2014-09-20  408.903992\n",
              "2014-09-21  398.821014\n",
              "2014-09-22  402.152008\n",
              "2014-09-23  435.790985\n",
              "2014-09-24  423.204987\n",
              "2014-09-25  411.574005\n",
              "2014-09-26  404.424988"
            ]
          },
          "metadata": {
            "tags": []
          },
          "execution_count": 3
        }
      ]
    },
    {
      "cell_type": "code",
      "metadata": {
        "colab": {
          "base_uri": "https://localhost:8080/",
          "height": 288
        },
        "id": "9doHPHE9E1Th",
        "outputId": "b6e1969e-3251-4ac3-d4fe-e0ba2124f671"
      },
      "source": [
        "rawDB.describe()"
      ],
      "execution_count": 4,
      "outputs": [
        {
          "output_type": "execute_result",
          "data": {
            "text/html": [
              "<div>\n",
              "<style scoped>\n",
              "    .dataframe tbody tr th:only-of-type {\n",
              "        vertical-align: middle;\n",
              "    }\n",
              "\n",
              "    .dataframe tbody tr th {\n",
              "        vertical-align: top;\n",
              "    }\n",
              "\n",
              "    .dataframe thead th {\n",
              "        text-align: right;\n",
              "    }\n",
              "</style>\n",
              "<table border=\"1\" class=\"dataframe\">\n",
              "  <thead>\n",
              "    <tr style=\"text-align: right;\">\n",
              "      <th></th>\n",
              "      <th>Close</th>\n",
              "    </tr>\n",
              "  </thead>\n",
              "  <tbody>\n",
              "    <tr>\n",
              "      <th>count</th>\n",
              "      <td>2309.000000</td>\n",
              "    </tr>\n",
              "    <tr>\n",
              "      <th>mean</th>\n",
              "      <td>5080.521166</td>\n",
              "    </tr>\n",
              "    <tr>\n",
              "      <th>std</th>\n",
              "      <td>5268.144533</td>\n",
              "    </tr>\n",
              "    <tr>\n",
              "      <th>min</th>\n",
              "      <td>178.102997</td>\n",
              "    </tr>\n",
              "    <tr>\n",
              "      <th>25%</th>\n",
              "      <td>446.721985</td>\n",
              "    </tr>\n",
              "    <tr>\n",
              "      <th>50%</th>\n",
              "      <td>3906.717285</td>\n",
              "    </tr>\n",
              "    <tr>\n",
              "      <th>75%</th>\n",
              "      <td>8510.379883</td>\n",
              "    </tr>\n",
              "    <tr>\n",
              "      <th>max</th>\n",
              "      <td>40797.609375</td>\n",
              "    </tr>\n",
              "  </tbody>\n",
              "</table>\n",
              "</div>"
            ],
            "text/plain": [
              "              Close\n",
              "count   2309.000000\n",
              "mean    5080.521166\n",
              "std     5268.144533\n",
              "min      178.102997\n",
              "25%      446.721985\n",
              "50%     3906.717285\n",
              "75%     8510.379883\n",
              "max    40797.609375"
            ]
          },
          "metadata": {
            "tags": []
          },
          "execution_count": 4
        }
      ]
    },
    {
      "cell_type": "code",
      "metadata": {
        "colab": {
          "base_uri": "https://localhost:8080/",
          "height": 320
        },
        "id": "iPv0kVxPF6X7",
        "outputId": "ae339923-2240-4773-8aed-a7970ae8caaa"
      },
      "source": [
        "plt.figure(figsize=(10, 5))\r\n",
        "plt.plot(rawDB)\r\n",
        "plt.show()"
      ],
      "execution_count": 5,
      "outputs": [
        {
          "output_type": "display_data",
          "data": {
            "image/png": "[encoded data removed]",
            "text/plain": [
              "<Figure size 720x360 with 1 Axes>"
            ]
          },
          "metadata": {
            "tags": [],
            "needs_background": "light"
          }
        }
      ]
    },
    {
      "cell_type": "code",
      "metadata": {
        "colab": {
          "base_uri": "https://localhost:8080/"
        },
        "id": "MWq6A4lJF6qT",
        "outputId": "68447a43-ea8b-4dcc-fdd2-1f5879e94a13"
      },
      "source": [
        "# MinMax Normalization\r\n",
        "scaler = MinMaxScaler() # (data - min) / (|max - min|)\r\n",
        "scaledDB = scaler.fit_transform(rawDB)\r\n",
        "\r\n",
        "print(\"Origin data shape:\", type(rawDB))\r\n",
        "print(\"Normalized data shape:\", type(scaledDB))"
      ],
      "execution_count": 6,
      "outputs": [
        {
          "output_type": "stream",
          "text": [
            "Origin data shape: <class 'pandas.core.frame.DataFrame'>\n",
            "Normalized data shape: <class 'numpy.ndarray'>\n"
          ],
          "name": "stdout"
        }
      ]
    },
    {
      "cell_type": "code",
      "metadata": {
        "colab": {
          "base_uri": "https://localhost:8080/"
        },
        "id": "rSMBqlmuF7Gf",
        "outputId": "92c5975c-d32a-49a9-fe8d-f213fe854a9a"
      },
      "source": [
        "# pandas.DataFrame -> numpy.ndarray\r\n",
        "summary = pd.DataFrame(scaledDB)\r\n",
        "print(summary.head(10))\r\n",
        "print(summary.describe())"
      ],
      "execution_count": 7,
      "outputs": [
        {
          "output_type": "stream",
          "text": [
            "          0\n",
            "0  0.006874\n",
            "1  0.006065\n",
            "2  0.005335\n",
            "3  0.005682\n",
            "4  0.005434\n",
            "5  0.005516\n",
            "6  0.006344\n",
            "7  0.006034\n",
            "8  0.005748\n",
            "9  0.005572\n",
            "                 0\n",
            "count  2309.000000\n",
            "mean      0.120691\n",
            "std       0.129695\n",
            "min       0.000000\n",
            "25%       0.006613\n",
            "50%       0.091794\n",
            "75%       0.205130\n",
            "max       1.000000\n"
          ],
          "name": "stdout"
        }
      ]
    },
    {
      "cell_type": "code",
      "metadata": {
        "colab": {
          "base_uri": "https://localhost:8080/",
          "height": 145
        },
        "id": "ZekonrW6Hht-",
        "outputId": "870041f6-6df2-4ca5-dabd-69b50044c6c2"
      },
      "source": [
        "'''\r\n",
        "# 입력, 타깃 분할\r\n",
        "X_train, Y_train = [], []\r\n",
        "total = len(scaledDB)\r\n",
        "\r\n",
        "# 시계열 데이터를 6개로 묶음\r\n",
        "  전체: 2309개\r\n",
        "  0 ~ 5, 1 ~ 6, 2 ~ 7, ... , 2303 ~ 2308(마지막)\r\n",
        "  ----   전체: 2304개 묶음 ----\r\n",
        "  -- X_train은 1개의 묶음 안에 5개 데이터\r\n",
        "  -- Y_train은 1개의 묶음 안에 마지막(1개) 데이터\r\n",
        "for i in range(total - MY_PAST): # 2309 - 6 = 2303까지 반복해야 함\r\n",
        "  input = scaledDB[i:i + MY_PAST, :] # 0~4번째 (훈련)\r\n",
        "  X_train.append(input)\r\n",
        "  output = scaledDB[i + MY_PAST, :] # 5번째 (타깃)\r\n",
        "  Y_train.append(output)\r\n",
        "\r\n",
        "X_train = np.array(X_train)\r\n",
        "Y_train = np.array(Y_train)\r\n",
        "\r\n",
        "print(total, X_train.shape, Y_train.shape)\r\n",
        "'''"
      ],
      "execution_count": 8,
      "outputs": [
        {
          "output_type": "execute_result",
          "data": {
            "application/vnd.google.colaboratory.intrinsic+json": {
              "type": "string"
            },
            "text/plain": [
              "'\\n# 입력, 타깃 분할\\nX_train, Y_train = [], []\\ntotal = len(scaledDB)\\n\\n# 시계열 데이터를 6개로 묶음\\n  전체: 2309개\\n  0 ~ 5, 1 ~ 6, 2 ~ 7, ... , 2303 ~ 2308(마지막)\\n  ----   전체: 2304개 묶음 ----\\n  -- X_train은 1개의 묶음 안에 5개 데이터\\n  -- Y_train은 1개의 묶음 안에 마지막(1개) 데이터\\nfor i in range(total - MY_PAST): # 2309 - 6 = 2303까지 반복해야 함\\n  input = scaledDB[i:i + MY_PAST, :] # 0~4번째 (훈련)\\n  X_train.append(input)\\n  output = scaledDB[i + MY_PAST, :] # 5번째 (타깃)\\n  Y_train.append(output)\\n\\nX_train = np.array(X_train)\\nY_train = np.array(Y_train)\\n\\nprint(total, X_train.shape, Y_train.shape)\\n'"
            ]
          },
          "metadata": {
            "tags": []
          },
          "execution_count": 8
        }
      ]
    },
    {
      "cell_type": "markdown",
      "metadata": {
        "id": "uSKQN3xuOu-C"
      },
      "source": [
        "* 왜 값에 대해 단독 차원을 가지고 있는가?\r\n",
        "  - LSTM은 3차원 데이터를 필요로 하기 때문임!"
      ]
    },
    {
      "cell_type": "code",
      "metadata": {
        "colab": {
          "base_uri": "https://localhost:8080/"
        },
        "id": "RXFWeyr4SEk6",
        "outputId": "0fff3ee5-ff41-427e-89aa-ac9b336c5d69"
      },
      "source": [
        "# 시계열 데이터를 6개 묶음으로 분할 (위랑 동일 코드)\r\n",
        "data = []\r\n",
        "print(len(scaledDB))\r\n",
        "for i in range(len(scaledDB) - MY_PAST):\r\n",
        "  data.append(scaledDB[i: i+MY_PAST+1])\r\n",
        "\r\n",
        "print('한 묶음의 크기 :',len(data[0]))\r\n",
        "print('총 묶음의 수:',len(data))\r\n",
        "print('첫번째 묶음 내용\\n', data[0])\r\n",
        "\r\n",
        "data = np.array(data)\r\n",
        "#np.random.shuffle(data) # 섞음 (섞으면 오늘 예측 불가)\r\n",
        "\r\n",
        "X_data = data[:, :MY_PAST]\r\n",
        "Y_data = data[:, -1]\r\n",
        "\r\n",
        "print('입력 데이터 모양:',X_data.shape)\r\n",
        "print('출력 데이터 모양:',Y_data.shape)\r\n",
        "\r\n",
        "X_train, Y_train = X_data, Y_data"
      ],
      "execution_count": 9,
      "outputs": [
        {
          "output_type": "stream",
          "text": [
            "2309\n",
            "한 묶음의 크기 : 6\n",
            "총 묶음의 수: 2304\n",
            "첫번째 묶음 내용\n",
            " [[0.00687431]\n",
            " [0.0060645 ]\n",
            " [0.0053347 ]\n",
            " [0.00568202]\n",
            " [0.00543379]\n",
            " [0.0055158 ]]\n",
            "입력 데이터 모양: (2304, 5, 1)\n",
            "출력 데이터 모양: (2304, 1)\n"
          ],
          "name": "stdout"
        }
      ]
    },
    {
      "cell_type": "markdown",
      "metadata": {
        "id": "oNFjTWElE0_J"
      },
      "source": [
        "#### 3. RNN(LSTM) Model & Learning"
      ]
    },
    {
      "cell_type": "markdown",
      "metadata": {
        "id": "_fnGXYS2Tr0I"
      },
      "source": [
        "* 가격(숫자)을 예측하는 것인데 마지막 Activation을 할 필요가 없음. 있는 그대로 가지고 오는 것이 좋음.\r\n",
        "  - 항등 함수(Identity function)을 사용한다고 말함."
      ]
    },
    {
      "cell_type": "code",
      "metadata": {
        "colab": {
          "base_uri": "https://localhost:8080/"
        },
        "id": "s51vfYpNTemn",
        "outputId": "8f809d5d-b5a3-4927-8c97-6c2b791b0825"
      },
      "source": [
        "model = Sequential(name='RNN_LSTM_0')\r\n",
        "model.add(LSTM(name='LSTM_0', units=MY_HIDDEN, input_shape=(MY_PAST, 1)))\r\n",
        "model.add(Dense(name='FC_0', units=1)) # Regression activation -> identity function\r\n",
        "model.summary()"
      ],
      "execution_count": 10,
      "outputs": [
        {
          "output_type": "stream",
          "text": [
            "Model: \"RNN_LSTM_0\"\n",
            "_________________________________________________________________\n",
            "Layer (type)                 Output Shape              Param #   \n",
            "=================================================================\n",
            "LSTM_0 (LSTM)                (None, 256)               264192    \n",
            "_________________________________________________________________\n",
            "FC_0 (Dense)                 (None, 1)                 257       \n",
            "=================================================================\n",
            "Total params: 264,449\n",
            "Trainable params: 264,449\n",
            "Non-trainable params: 0\n",
            "_________________________________________________________________\n"
          ],
          "name": "stdout"
        }
      ]
    },
    {
      "cell_type": "code",
      "metadata": {
        "colab": {
          "base_uri": "https://localhost:8080/"
        },
        "id": "IfXmer0rVJJE",
        "outputId": "469c906b-2877-4836-e49b-676d454ec01b"
      },
      "source": [
        "model.compile(optimizer='adam', loss='mse')\r\n",
        "\r\n",
        "begin = time()\r\n",
        "model.fit(x=X_train, y=Y_train, epochs=MY_EPOCH, verbose=2)\r\n",
        "end = time()\r\n",
        "print(\"Learning time: {:.2f}sec\".format(end - begin))"
      ],
      "execution_count": 11,
      "outputs": [
        {
          "output_type": "stream",
          "text": [
            "Epoch 1/10\n",
            "72/72 - 3s - loss: 0.0020\n",
            "Epoch 2/10\n",
            "72/72 - 0s - loss: 2.3975e-04\n",
            "Epoch 3/10\n",
            "72/72 - 0s - loss: 1.8870e-04\n",
            "Epoch 4/10\n",
            "72/72 - 0s - loss: 2.1120e-04\n",
            "Epoch 5/10\n",
            "72/72 - 0s - loss: 2.4121e-04\n",
            "Epoch 6/10\n",
            "72/72 - 0s - loss: 1.8604e-04\n",
            "Epoch 7/10\n",
            "72/72 - 0s - loss: 1.9441e-04\n",
            "Epoch 8/10\n",
            "72/72 - 0s - loss: 2.0467e-04\n",
            "Epoch 9/10\n",
            "72/72 - 0s - loss: 2.1625e-04\n",
            "Epoch 10/10\n",
            "72/72 - 0s - loss: 1.9593e-04\n",
            "Learning time: 4.50sec\n"
          ],
          "name": "stdout"
        }
      ]
    },
    {
      "cell_type": "markdown",
      "metadata": {
        "id": "vWR1JSBpXLvV"
      },
      "source": [
        "#### 4. Model Prediction"
      ]
    },
    {
      "cell_type": "code",
      "metadata": {
        "colab": {
          "base_uri": "https://localhost:8080/"
        },
        "id": "oaPjhNHOY1jq",
        "outputId": "adebe521-557c-4c07-e69d-1829ce8f394a"
      },
      "source": [
        "#최근 시세 출력\r\n",
        "print('최근 6일 비트코인 시세:')\r\n",
        "print(rawDB.tail(MY_PAST + 1))"
      ],
      "execution_count": 12,
      "outputs": [
        {
          "output_type": "stream",
          "text": [
            "최근 6일 비트코인 시세:\n",
            "                   Close\n",
            "Date                    \n",
            "2021-01-06  36824.363281\n",
            "2021-01-07  39371.042969\n",
            "2021-01-08  40797.609375\n",
            "2021-01-09  40254.546875\n",
            "2021-01-10  38356.441406\n",
            "2021-01-11  34954.035156\n"
          ],
          "name": "stdout"
        }
      ]
    },
    {
      "cell_type": "code",
      "metadata": {
        "colab": {
          "base_uri": "https://localhost:8080/"
        },
        "id": "EnyT9sH_Y7Ix",
        "outputId": "43835539-9cb2-4f08-8b69-2e7d69554eec"
      },
      "source": [
        "# 오늘 비트코인 가격 예측하기\r\n",
        "last = X_train[-1] # 맨 마지막 행\r\n",
        "#last가 정상적으로 위에 셸 처럼 복구되었는지 확인하는 코드\r\n",
        "#last = scaler.inverse_transform(last)\r\n",
        "#print(last)\r\n",
        "\r\n",
        "# 3차원으로 증가 (배치 정보 추가)\r\n",
        "print(last.shape) # 5, 1\r\n",
        "last = np.expand_dims(last, axis=0)\r\n",
        "# 아래 코드도 동일한 코드\r\n",
        "#last = last.reshape(1, 5, 1)\r\n",
        "print(last.shape) # 1, 5, 1\r\n",
        "\r\n",
        "pred = model.predict(last)\r\n",
        "pred = scaler.inverse_transform(pred)\r\n",
        "print(\"Today Predicted Bitcoin:\", pred, \"dollar\")\r\n",
        "\r\n",
        "truth = Y_train[-1] # 맨 마지막 행\r\n",
        "truth = np.expand_dims(truth, axis=0)\r\n",
        "truth = scaler.inverse_transform(truth)\r\n",
        "print(\"Today Truth Bitcoin:\", truth, \"dollar\")\r\n",
        "print(\"Error:\", np.abs(truth[0][0] - pred[0][0]))"
      ],
      "execution_count": 13,
      "outputs": [
        {
          "output_type": "stream",
          "text": [
            "(5, 1)\n",
            "(1, 5, 1)\n",
            "Today Predicted Bitcoin: [[41730.273]] dollar\n",
            "Today Truth Bitcoin: [[34954.035156]] dollar\n",
            "Error: 6776.238281500002\n"
          ],
          "name": "stdout"
        }
      ]
    },
    {
      "cell_type": "code",
      "metadata": {
        "colab": {
          "base_uri": "https://localhost:8080/"
        },
        "id": "yeqQPhIzjSp9",
        "outputId": "f90ccad1-51b6-4737-eb9d-ad7fea706906"
      },
      "source": [
        "# 내일 비트코인 가격 예측하기\r\n",
        "tmp = rawDB.to_numpy()\r\n",
        "tom = tmp[len(tmp) - MY_PAST:] # 마지막 5개 행\r\n",
        "print(tom)\r\n",
        "\r\n",
        "tom = scaler.fit_transform(tom)\r\n",
        "tom = np.expand_dims(tom, axis=0)\r\n",
        "\r\n",
        "pred = model.predict(tom)\r\n",
        "pred = scaler.inverse_transform(pred)\r\n",
        "print(\"Tomorrow:\", pred, \"dollar\")"
      ],
      "execution_count": 14,
      "outputs": [
        {
          "output_type": "stream",
          "text": [
            "[[39371.042969]\n",
            " [40797.609375]\n",
            " [40254.546875]\n",
            " [38356.441406]\n",
            " [34954.035156]]\n",
            "Tomorrow: [[38886.652]] dollar\n"
          ],
          "name": "stdout"
        }
      ]
    }
  ]
}