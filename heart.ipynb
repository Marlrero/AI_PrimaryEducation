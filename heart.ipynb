{
  "nbformat": 4,
  "nbformat_minor": 0,
  "metadata": {
    "colab": {
      "name": "heart.ipynb",
      "provenance": [],
      "collapsed_sections": [],
      "mount_file_id": "1Uly2JQaS_up0qg9Pg-6SeZ4t64hVK7KC",
      "authorship_tag": "ABX9TyOYw8h4B78zJjVsMj1OeU1P",
      "include_colab_link": true
    },
    "kernelspec": {
      "name": "python3",
      "display_name": "Python 3"
    },
    "accelerator": "GPU"
  },
  "cells": [
    {
      "cell_type": "markdown",
      "metadata": {
        "id": "view-in-github",
        "colab_type": "text"
      },
      "source": [
        "<a href=\"https://colab.research.google.com/github/Marlrero/AI_PrimaryEducation/blob/main/heart.ipynb\" target=\"_parent\"><img src=\"https://colab.research.google.com/assets/colab-badge.svg\" alt=\"Open In Colab\"/></a>"
      ]
    },
    {
      "cell_type": "markdown",
      "metadata": {
        "id": "bhO0Q7jN_k1j"
      },
      "source": [
        "### Keras DNN으로 심장병 판별"
      ]
    },
    {
      "cell_type": "markdown",
      "metadata": {
        "id": "bu6DY01b_p7p"
      },
      "source": [
        "#### 1. import package & set hyperparameter"
      ]
    },
    {
      "cell_type": "code",
      "metadata": {
        "id": "dpQW9XUf_i4z"
      },
      "source": [
        "import numpy as np\r\n",
        "import pandas as pd\r\n",
        "import matplotlib.pyplot as plt\r\n",
        "import seaborn as sns\r\n",
        "from time import time\r\n",
        "\r\n",
        "from keras.models import Sequential\r\n",
        "from keras.layers import Dense\r\n",
        "from sklearn.model_selection import train_test_split\r\n",
        "from sklearn.preprocessing import StandardScaler\r\n",
        "from sklearn.metrics import f1_score, confusion_matrix"
      ],
      "execution_count": 1,
      "outputs": []
    },
    {
      "cell_type": "code",
      "metadata": {
        "id": "Cxbdh2x2AeGV"
      },
      "source": [
        "# Hyperparameters\r\n",
        "INPUT_DIM = 13\r\n",
        "MY_SPLIT = 0.7\r\n",
        "MY_HIDDEN = 500\r\n",
        "MY_EPOCH = 1000"
      ],
      "execution_count": 2,
      "outputs": []
    },
    {
      "cell_type": "code",
      "metadata": {
        "id": "6Ax9Q9JSCBPQ"
      },
      "source": [
        "# 추가 옵션 설정\r\n",
        "pd.set_option('display.max_columns', None)\r\n",
        "np.random.seed(111) # 랜덤을 동일하게 유지하기 위함\r\n",
        "sns.set(font_scale=1.5)"
      ],
      "execution_count": 3,
      "outputs": []
    },
    {
      "cell_type": "markdown",
      "metadata": {
        "id": "6HXfErsuAeaV"
      },
      "source": [
        "#### 2. load dataset & data preprocessing"
      ]
    },
    {
      "cell_type": "code",
      "metadata": {
        "id": "ZD1ojSshCYK6"
      },
      "source": [
        "raw = pd.read_csv('/content/drive/MyDrive/dataset/heart.csv')"
      ],
      "execution_count": 4,
      "outputs": []
    },
    {
      "cell_type": "code",
      "metadata": {
        "colab": {
          "base_uri": "https://localhost:8080/",
          "height": 1000
        },
        "id": "Zj934JloAe3s",
        "outputId": "ac399d1a-6281-4abf-db4b-97ede5de71c1"
      },
      "source": [
        "# 샘플 내용 확인 함수\r\n",
        "def show_sample(data):\r\n",
        "  print(\"\\n샘플 10개\")\r\n",
        "  print(data.head(10))\r\n",
        "\r\n",
        "  print('\\n샘플 통계')\r\n",
        "  print(data.describe())\r\n",
        "\r\n",
        "  print('\\nBoxplot 출력')\r\n",
        "  plt.figure(figsize=(15, 8)) # figure size\r\n",
        "  sns.boxplot(data=data, palette='colorblind')\r\n",
        "  plt.show()\r\n",
        "\r\n",
        "show_sample(raw)"
      ],
      "execution_count": 5,
      "outputs": [
        {
          "output_type": "stream",
          "text": [
            "\n",
            "샘플 10개\n",
            "   age  sex  cp  trestbps  chol  fbs  restecg  thalach  exang  oldpeak  slope  \\\n",
            "0   63    1   3       145   233    1        0      150      0      2.3      0   \n",
            "1   37    1   2       130   250    0        1      187      0      3.5      0   \n",
            "2   41    0   1       130   204    0        0      172      0      1.4      2   \n",
            "3   56    1   1       120   236    0        1      178      0      0.8      2   \n",
            "4   57    0   0       120   354    0        1      163      1      0.6      2   \n",
            "5   57    1   0       140   192    0        1      148      0      0.4      1   \n",
            "6   56    0   1       140   294    0        0      153      0      1.3      1   \n",
            "7   44    1   1       120   263    0        1      173      0      0.0      2   \n",
            "8   52    1   2       172   199    1        1      162      0      0.5      2   \n",
            "9   57    1   2       150   168    0        1      174      0      1.6      2   \n",
            "\n",
            "   ca  thal  target  \n",
            "0   0     1       1  \n",
            "1   0     2       1  \n",
            "2   0     2       1  \n",
            "3   0     2       1  \n",
            "4   0     2       1  \n",
            "5   0     1       1  \n",
            "6   0     2       1  \n",
            "7   0     3       1  \n",
            "8   0     3       1  \n",
            "9   0     2       1  \n",
            "\n",
            "샘플 통계\n",
            "              age         sex          cp    trestbps        chol         fbs  \\\n",
            "count  303.000000  303.000000  303.000000  303.000000  303.000000  303.000000   \n",
            "mean    54.366337    0.683168    0.966997  131.623762  246.264026    0.148515   \n",
            "std      9.082101    0.466011    1.032052   17.538143   51.830751    0.356198   \n",
            "min     29.000000    0.000000    0.000000   94.000000  126.000000    0.000000   \n",
            "25%     47.500000    0.000000    0.000000  120.000000  211.000000    0.000000   \n",
            "50%     55.000000    1.000000    1.000000  130.000000  240.000000    0.000000   \n",
            "75%     61.000000    1.000000    2.000000  140.000000  274.500000    0.000000   \n",
            "max     77.000000    1.000000    3.000000  200.000000  564.000000    1.000000   \n",
            "\n",
            "          restecg     thalach       exang     oldpeak       slope          ca  \\\n",
            "count  303.000000  303.000000  303.000000  303.000000  303.000000  303.000000   \n",
            "mean     0.528053  149.646865    0.326733    1.039604    1.399340    0.729373   \n",
            "std      0.525860   22.905161    0.469794    1.161075    0.616226    1.022606   \n",
            "min      0.000000   71.000000    0.000000    0.000000    0.000000    0.000000   \n",
            "25%      0.000000  133.500000    0.000000    0.000000    1.000000    0.000000   \n",
            "50%      1.000000  153.000000    0.000000    0.800000    1.000000    0.000000   \n",
            "75%      1.000000  166.000000    1.000000    1.600000    2.000000    1.000000   \n",
            "max      2.000000  202.000000    1.000000    6.200000    2.000000    4.000000   \n",
            "\n",
            "             thal      target  \n",
            "count  303.000000  303.000000  \n",
            "mean     2.313531    0.544554  \n",
            "std      0.612277    0.498835  \n",
            "min      0.000000    0.000000  \n",
            "25%      2.000000    0.000000  \n",
            "50%      2.000000    1.000000  \n",
            "75%      3.000000    1.000000  \n",
            "max      3.000000    1.000000  \n",
            "\n",
            "Boxplot 출력\n"
          ],
          "name": "stdout"
        },
        {
          "output_type": "display_data",
          "data": {
            "image/png": "[encoded data removed]",
            "text/plain": [
              "<Figure size 1080x576 with 1 Axes>"
            ]
          },
          "metadata": {
            "tags": []
          }
        }
      ]
    },
    {
      "cell_type": "code",
      "metadata": {
        "id": "9fBRt1WpF_ah"
      },
      "source": [
        "# 데이터를 입력과 출력으로 분리\r\n",
        "X_data = raw.drop('target', axis=1)\r\n",
        "Y_data = raw['target']\r\n",
        "names = X_data.columns"
      ],
      "execution_count": 6,
      "outputs": []
    },
    {
      "cell_type": "code",
      "metadata": {
        "colab": {
          "base_uri": "https://localhost:8080/",
          "height": 1000
        },
        "id": "cq8NtEYqGL8V",
        "outputId": "b8e0ebf3-c5cf-4bc0-a208-c4d2133dd972"
      },
      "source": [
        "# Z-점수 정규화\r\n",
        "scaler = StandardScaler()\r\n",
        "X_data = scaler.fit_transform(X_data)\r\n",
        "\r\n",
        "# numpy -> pandas.dataframe\r\n",
        "X_data = pd.DataFrame(X_data, columns=names)\r\n",
        "show_sample(X_data)"
      ],
      "execution_count": 7,
      "outputs": [
        {
          "output_type": "stream",
          "text": [
            "\n",
            "샘플 10개\n",
            "        age       sex        cp  trestbps      chol       fbs   restecg  \\\n",
            "0  0.952197  0.681005  1.973123  0.763956 -0.256334  2.394438 -1.005832   \n",
            "1 -1.915313  0.681005  1.002577 -0.092738  0.072199 -0.417635  0.898962   \n",
            "2 -1.474158 -1.468418  0.032031 -0.092738 -0.816773 -0.417635 -1.005832   \n",
            "3  0.180175  0.681005  0.032031 -0.663867 -0.198357 -0.417635  0.898962   \n",
            "4  0.290464 -1.468418 -0.938515 -0.663867  2.082050 -0.417635  0.898962   \n",
            "5  0.290464  0.681005 -0.938515  0.478391 -1.048678 -0.417635  0.898962   \n",
            "6  0.180175 -1.468418  0.032031  0.478391  0.922521 -0.417635 -1.005832   \n",
            "7 -1.143291  0.681005  0.032031 -0.663867  0.323431 -0.417635  0.898962   \n",
            "8 -0.260980  0.681005  1.002577  2.306004 -0.913400  2.394438  0.898962   \n",
            "9  0.290464  0.681005  1.002577  1.049520 -1.512490 -0.417635  0.898962   \n",
            "\n",
            "    thalach     exang   oldpeak     slope        ca      thal  \n",
            "0  0.015443 -0.696631  1.087338 -2.274579 -0.714429 -2.148873  \n",
            "1  1.633471 -0.696631  2.122573 -2.274579 -0.714429 -0.512922  \n",
            "2  0.977514 -0.696631  0.310912  0.976352 -0.714429 -0.512922  \n",
            "3  1.239897 -0.696631 -0.206705  0.976352 -0.714429 -0.512922  \n",
            "4  0.583939  1.435481 -0.379244  0.976352 -0.714429 -0.512922  \n",
            "5 -0.072018 -0.696631 -0.551783 -0.649113 -0.714429 -2.148873  \n",
            "6  0.146634 -0.696631  0.224643 -0.649113 -0.714429 -0.512922  \n",
            "7  1.021244 -0.696631 -0.896862  0.976352 -0.714429  1.123029  \n",
            "8  0.540209 -0.696631 -0.465514  0.976352 -0.714429  1.123029  \n",
            "9  1.064975 -0.696631  0.483451  0.976352 -0.714429 -0.512922  \n",
            "\n",
            "샘플 통계\n",
            "                age           sex            cp      trestbps          chol  \\\n",
            "count  3.030000e+02  3.030000e+02  3.030000e+02  3.030000e+02  3.030000e+02   \n",
            "mean   5.825923e-17 -1.319077e-17 -5.562565e-17 -7.146832e-16 -9.828955e-17   \n",
            "std    1.001654e+00  1.001654e+00  1.001654e+00  1.001654e+00  1.001654e+00   \n",
            "min   -2.797624e+00 -1.468418e+00 -9.385146e-01 -2.148802e+00 -2.324160e+00   \n",
            "25%   -7.572802e-01 -1.468418e+00 -9.385146e-01 -6.638668e-01 -6.814943e-01   \n",
            "50%    6.988599e-02  6.810052e-01  3.203122e-02 -9.273778e-02 -1.210553e-01   \n",
            "75%    7.316189e-01  6.810052e-01  1.002577e+00  4.783913e-01  5.456738e-01   \n",
            "max    2.496240e+00  6.810052e-01  1.973123e+00  3.905165e+00  6.140401e+00   \n",
            "\n",
            "                fbs       restecg       thalach         exang       oldpeak  \\\n",
            "count  3.030000e+02  3.030000e+02  3.030000e+02  3.030000e+02  3.030000e+02   \n",
            "mean  -3.664102e-19  2.652810e-16 -5.203025e-16 -5.203025e-16 -3.140136e-16   \n",
            "std    1.001654e+00  1.001654e+00  1.001654e+00  1.001654e+00  1.001654e+00   \n",
            "min   -4.176345e-01 -1.005832e+00 -3.439267e+00 -6.966305e-01 -8.968617e-01   \n",
            "25%   -4.176345e-01 -1.005832e+00 -7.061105e-01 -6.966305e-01 -8.968617e-01   \n",
            "50%   -4.176345e-01  8.989622e-01  1.466343e-01 -6.966305e-01 -2.067053e-01   \n",
            "75%   -4.176345e-01  8.989622e-01  7.151309e-01  1.435481e+00  4.834512e-01   \n",
            "max    2.394438e+00  2.803756e+00  2.289429e+00  1.435481e+00  4.451851e+00   \n",
            "\n",
            "              slope            ca          thal  \n",
            "count  3.030000e+02  3.030000e+02  3.030000e+02  \n",
            "mean   1.355718e-16  4.752341e-16  3.484561e-16  \n",
            "std    1.001654e+00  1.001654e+00  1.001654e+00  \n",
            "min   -2.274579e+00 -7.144289e-01 -3.784824e+00  \n",
            "25%   -6.491132e-01 -7.144289e-01 -5.129219e-01  \n",
            "50%   -6.491132e-01 -7.144289e-01 -5.129219e-01  \n",
            "75%    9.763521e-01  2.650822e-01  1.123029e+00  \n",
            "max    9.763521e-01  3.203615e+00  1.123029e+00  \n",
            "\n",
            "Boxplot 출력\n"
          ],
          "name": "stdout"
        },
        {
          "output_type": "display_data",
          "data": {
            "image/png": "[encoded data removed]",
            "text/plain": [
              "<Figure size 1080x576 with 1 Axes>"
            ]
          },
          "metadata": {
            "tags": []
          }
        }
      ]
    },
    {
      "cell_type": "code",
      "metadata": {
        "colab": {
          "base_uri": "https://localhost:8080/"
        },
        "id": "mmtiXtGdGOfF",
        "outputId": "18411d2c-2ff8-4762-b887-23dbbb16bf72"
      },
      "source": [
        "# 훈련 데이터와 테스트 데이터 나누기\r\n",
        "# shuffle=True: 섞음\r\n",
        "X_train, X_test, Y_train, Y_test = train_test_split(X_data, Y_data, \r\n",
        "                                                    train_size=MY_SPLIT, shuffle=True)\r\n",
        "\r\n",
        "print(\"Train set:\", X_train.shape)\r\n",
        "print(\"Train label set:\", Y_train.shape)\r\n",
        "print(\"Test set:\", X_test.shape)\r\n",
        "print(\"Test label set:\", Y_test.shape)"
      ],
      "execution_count": 8,
      "outputs": [
        {
          "output_type": "stream",
          "text": [
            "Train set: (212, 13)\n",
            "Train label set: (212,)\n",
            "Test set: (91, 13)\n",
            "Test label set: (91,)\n"
          ],
          "name": "stdout"
        }
      ]
    },
    {
      "cell_type": "markdown",
      "metadata": {
        "id": "87wZGz6hCYei"
      },
      "source": [
        "#### 3. DNN model"
      ]
    },
    {
      "cell_type": "code",
      "metadata": {
        "colab": {
          "base_uri": "https://localhost:8080/"
        },
        "id": "3DBRS8wbOqBR",
        "outputId": "23055931-74b5-4d6d-8d4c-14d56ec5606b"
      },
      "source": [
        "model = Sequential(name='DNN')\r\n",
        "# units 파라미터는 생략 가능\r\n",
        "model.add(Dense(name='1', units=MY_HIDDEN, input_dim=INPUT_DIM, activation='tanh'))\r\n",
        "model.add(Dense(name='2', units=MY_HIDDEN, activation='tanh'))\r\n",
        "model.add(Dense(name='output', units=1, activation='sigmoid'))\r\n",
        "model.summary()"
      ],
      "execution_count": 9,
      "outputs": [
        {
          "output_type": "stream",
          "text": [
            "Model: \"DNN\"\n",
            "_________________________________________________________________\n",
            "Layer (type)                 Output Shape              Param #   \n",
            "=================================================================\n",
            "1 (Dense)                    (None, 500)               7000      \n",
            "_________________________________________________________________\n",
            "2 (Dense)                    (None, 500)               250500    \n",
            "_________________________________________________________________\n",
            "output (Dense)               (None, 1)                 501       \n",
            "=================================================================\n",
            "Total params: 258,001\n",
            "Trainable params: 258,001\n",
            "Non-trainable params: 0\n",
            "_________________________________________________________________\n"
          ],
          "name": "stdout"
        }
      ]
    },
    {
      "cell_type": "code",
      "metadata": {
        "colab": {
          "base_uri": "https://localhost:8080/"
        },
        "id": "cs6gW9BPOqZg",
        "outputId": "3ed28481-4d0c-4d27-a8eb-10052cfd73a3"
      },
      "source": [
        "model.compile(optimizer='adam', loss='binary_crossentropy', metrics=['acc'])\r\n",
        "\r\n",
        "begin = time()\r\n",
        "model.fit(x=X_train, y=Y_train, epochs=MY_EPOCH, verbose=0)\r\n",
        "end = time()\r\n",
        "print(\"Learning time: {:.2f}sec\".format(end - begin))"
      ],
      "execution_count": 10,
      "outputs": [
        {
          "output_type": "stream",
          "text": [
            "Learning time: 14.73sec\n"
          ],
          "name": "stdout"
        }
      ]
    },
    {
      "cell_type": "markdown",
      "metadata": {
        "id": "dK3ktiF6VN2F"
      },
      "source": [
        "#### 4. Model evaluating"
      ]
    },
    {
      "cell_type": "code",
      "metadata": {
        "colab": {
          "base_uri": "https://localhost:8080/"
        },
        "id": "v-dA1-rtTaYn",
        "outputId": "137e1d18-cc07-4632-b89a-caf2983a258e"
      },
      "source": [
        "score = model.evaluate(x=X_test, y=Y_test, verbose=0)\r\n",
        "print(\"Total loss:\", score[0])\r\n",
        "print(\"Accuracy:\", score[1])"
      ],
      "execution_count": 11,
      "outputs": [
        {
          "output_type": "stream",
          "text": [
            "Total loss: 1.116501808166504\n",
            "Accuracy: 0.8461538553237915\n"
          ],
          "name": "stdout"
        }
      ]
    },
    {
      "cell_type": "markdown",
      "metadata": {
        "id": "4jPaPQlOOq1Q"
      },
      "source": [
        "#### 5. Model prediction"
      ]
    },
    {
      "cell_type": "code",
      "metadata": {
        "colab": {
          "base_uri": "https://localhost:8080/"
        },
        "id": "rZ4DewhSXeWy",
        "outputId": "5b3d4efb-5ea7-4d8c-cad1-2cc706c06d2d"
      },
      "source": [
        "pred = model.predict(X_test)\r\n",
        "print(pred) # 확률이 나옴. ~%의 확률로 True, False -> 너무 낮은 확률이면 False\r\n",
        "pred = (pred > 0.5) # 추측값을 이진수로 전환 (Binary이므로)\r\n",
        "print('Predicted value:', pred.flatten())\r\n",
        "print('Truth:', np.array(Y_test, dtype=np.bool))"
      ],
      "execution_count": 12,
      "outputs": [
        {
          "output_type": "stream",
          "text": [
            "[[9.9980551e-01]\n",
            " [1.0000000e+00]\n",
            " [4.8830720e-05]\n",
            " [9.9409866e-01]\n",
            " [9.9980015e-01]\n",
            " [1.0000000e+00]\n",
            " [8.6783366e-05]\n",
            " [1.0000000e+00]\n",
            " [3.2231455e-13]\n",
            " [9.9994683e-01]\n",
            " [9.9986410e-01]\n",
            " [9.9999893e-01]\n",
            " [1.0000000e+00]\n",
            " [9.9999821e-01]\n",
            " [4.3766174e-01]\n",
            " [8.1549418e-01]\n",
            " [9.9969876e-01]\n",
            " [1.4105271e-01]\n",
            " [1.0000000e+00]\n",
            " [9.9999845e-01]\n",
            " [1.0000000e+00]\n",
            " [6.0301943e-08]\n",
            " [1.3956584e-01]\n",
            " [2.2258902e-01]\n",
            " [9.9999940e-01]\n",
            " [2.9971098e-08]\n",
            " [9.9981731e-01]\n",
            " [7.8308773e-01]\n",
            " [9.9041969e-01]\n",
            " [3.4149230e-01]\n",
            " [3.4969676e-02]\n",
            " [8.0599552e-01]\n",
            " [9.9997890e-01]\n",
            " [9.3538366e-02]\n",
            " [9.9999988e-01]\n",
            " [1.0000000e+00]\n",
            " [1.1712818e-06]\n",
            " [5.7764515e-02]\n",
            " [3.3822907e-08]\n",
            " [2.5627897e-13]\n",
            " [6.9519694e-13]\n",
            " [2.3645974e-10]\n",
            " [4.5288098e-09]\n",
            " [9.9983990e-01]\n",
            " [9.9984944e-01]\n",
            " [1.0000000e+00]\n",
            " [3.7268284e-01]\n",
            " [9.9145848e-01]\n",
            " [9.9999702e-01]\n",
            " [9.9999845e-01]\n",
            " [2.4142432e-07]\n",
            " [5.3204126e-06]\n",
            " [1.0000000e+00]\n",
            " [3.8696539e-01]\n",
            " [9.9985576e-01]\n",
            " [9.3283540e-01]\n",
            " [9.9999166e-01]\n",
            " [9.9999952e-01]\n",
            " [6.8860544e-08]\n",
            " [1.0000000e+00]\n",
            " [9.9999642e-01]\n",
            " [1.6782784e-01]\n",
            " [9.9792331e-01]\n",
            " [9.9999988e-01]\n",
            " [1.1022911e-05]\n",
            " [1.4634401e-03]\n",
            " [9.1852021e-01]\n",
            " [6.0392436e-02]\n",
            " [1.0000000e+00]\n",
            " [9.9999988e-01]\n",
            " [9.9998069e-01]\n",
            " [5.8340874e-11]\n",
            " [1.0000000e+00]\n",
            " [3.5900991e-02]\n",
            " [8.6417276e-01]\n",
            " [9.9999988e-01]\n",
            " [6.1276501e-06]\n",
            " [7.1313547e-04]\n",
            " [1.6121494e-10]\n",
            " [3.7464960e-09]\n",
            " [1.0000000e+00]\n",
            " [9.9999833e-01]\n",
            " [9.9998605e-01]\n",
            " [7.9484446e-09]\n",
            " [1.0000000e+00]\n",
            " [9.9999988e-01]\n",
            " [9.9999785e-01]\n",
            " [2.5468185e-07]\n",
            " [9.9911827e-01]\n",
            " [1.0000000e+00]\n",
            " [9.9633956e-01]]\n",
            "Predicted value: [ True  True False  True  True  True False  True False  True  True  True\n",
            "  True  True False  True  True False  True  True  True False False False\n",
            "  True False  True  True  True False False  True  True False  True  True\n",
            " False False False False False False False  True  True  True False  True\n",
            "  True  True False False  True False  True  True  True  True False  True\n",
            "  True False  True  True False False  True False  True  True  True False\n",
            "  True False  True  True False False False False  True  True  True False\n",
            "  True  True  True False  True  True  True]\n",
            "Truth: [ True  True False  True  True  True False  True False  True False  True\n",
            "  True  True False False  True False  True False  True False False False\n",
            "  True False  True False  True  True  True  True  True False  True  True\n",
            "  True  True False False False False  True  True  True  True  True  True\n",
            "  True  True False False  True False  True  True  True  True False  True\n",
            "  True False False  True False False  True False  True  True  True False\n",
            "  True  True  True False False False False False  True  True  True False\n",
            "  True  True  True False False  True  True]\n"
          ],
          "name": "stdout"
        }
      ]
    },
    {
      "cell_type": "code",
      "metadata": {
        "colab": {
          "base_uri": "https://localhost:8080/"
        },
        "id": "MBe4OtjVqks9",
        "outputId": "1c649d36-3832-45e3-96ff-5445bc556ff8"
      },
      "source": [
        "confusion_matrix(y_true=Y_test, y_pred=pred)"
      ],
      "execution_count": 13,
      "outputs": [
        {
          "output_type": "execute_result",
          "data": {
            "text/plain": [
              "array([[29,  7],\n",
              "       [ 7, 48]])"
            ]
          },
          "metadata": {
            "tags": []
          },
          "execution_count": 13
        }
      ]
    },
    {
      "cell_type": "code",
      "metadata": {
        "colab": {
          "base_uri": "https://localhost:8080/"
        },
        "id": "e6GlDwZGrFZ2",
        "outputId": "3e0b3517-80cd-4d52-e8f6-2351edabd0ab"
      },
      "source": [
        "tn, fp, fn, tp = confusion_matrix(y_true=Y_test, y_pred=pred).ravel()\r\n",
        "print(tn, fp, fn, tp)\r\n",
        "\r\n",
        "acc = (tp + tn) / (tn + fp + fn + tp)\r\n",
        "precision = tp / (tp + fp)\r\n",
        "recall = tp / (tp + fn)\r\n",
        "f1 = (2 * precision * recall) / (precision + recall)\r\n",
        "print(\"Accuarcy:\", acc)\r\n",
        "print(\"Precision:\", precision)\r\n",
        "print(\"Recall:\", recall)\r\n",
        "print(\"F1-score:\", f1)"
      ],
      "execution_count": 14,
      "outputs": [
        {
          "output_type": "stream",
          "text": [
            "29 7 7 48\n",
            "Accuarcy: 0.8461538461538461\n",
            "Precision: 0.8727272727272727\n",
            "Recall: 0.8727272727272727\n",
            "F1-score: 0.8727272727272727\n"
          ],
          "name": "stdout"
        }
      ]
    },
    {
      "cell_type": "code",
      "metadata": {
        "colab": {
          "base_uri": "https://localhost:8080/"
        },
        "id": "Y-wayd89ncD6",
        "outputId": "d10bda7a-308c-4c6c-8206-b5981200e999"
      },
      "source": [
        "print(f1_score(y_true=Y_test, y_pred=pred, average='micro'))"
      ],
      "execution_count": 15,
      "outputs": [
        {
          "output_type": "stream",
          "text": [
            "0.8461538461538461\n"
          ],
          "name": "stdout"
        }
      ]
    },
    {
      "cell_type": "markdown",
      "metadata": {
        "id": "taJr9965wo4h"
      },
      "source": [
        "#### 실습문제"
      ]
    },
    {
      "cell_type": "code",
      "metadata": {
        "colab": {
          "base_uri": "https://localhost:8080/"
        },
        "id": "SerDG9znwqno",
        "outputId": "418e77c9-3e8e-4b6e-df88-f51c507914c3"
      },
      "source": [
        "raw = pd.read_csv('/content/drive/MyDrive/dataset/heart.csv')\r\n",
        "\r\n",
        "X_data = raw.drop('target', axis=1)\r\n",
        "Y_data = raw['target']\r\n",
        "names = X_data.columns\r\n",
        "\r\n",
        "# Z-점수 정규화\r\n",
        "scaler = StandardScaler()\r\n",
        "X_data = scaler.fit_transform(X_data)\r\n",
        "\r\n",
        "# numpy -> pandas.dataframe\r\n",
        "X_data = pd.DataFrame(X_data, columns=names)\r\n",
        "\r\n",
        "# 훈련 데이터와 테스트 데이터 나누기\r\n",
        "# shuffle=True: 섞음\r\n",
        "X_train, X_test, Y_train, Y_test = train_test_split(X_data, Y_data, \r\n",
        "                                                    train_size=MY_SPLIT, shuffle=True)\r\n",
        "\r\n",
        "model = Sequential(name='DNN_2')\r\n",
        "# units 파라미터는 생략 가능\r\n",
        "model.add(Dense(name='DNN_2_1', units=MY_HIDDEN, input_dim=INPUT_DIM, activation='tanh'))\r\n",
        "model.add(Dense(name='DNN_2_2', units=MY_HIDDEN, activation='tanh'))\r\n",
        "model.add(Dense(name='DNN_2_output', units=1, activation='sigmoid'))\r\n",
        "model.summary()\r\n",
        "\r\n",
        "model.compile(optimizer='rmsprop', loss='binary_crossentropy', metrics=['acc']) # RMSprop\r\n",
        "\r\n",
        "begin = time()\r\n",
        "model.fit(x=X_train, y=Y_train, epochs=MY_EPOCH, verbose=0)\r\n",
        "end = time()\r\n",
        "print(\"Learning time: {:.2f}sec\".format(end - begin))\r\n",
        "\r\n",
        "score = model.evaluate(x=X_test, y=Y_test, verbose=0)\r\n",
        "print(\"Total loss:\", score[0])\r\n",
        "print(\"Accuracy:\", score[1])\r\n",
        "\r\n",
        "pred = model.predict(X_test)\r\n",
        "pred = (pred > 0.5) # 추측값을 이진수로 전환 (Binary이므로)\r\n",
        "tn, fp, fn, tp = confusion_matrix(y_true=Y_test, y_pred=pred).ravel()\r\n",
        "print(\"tn, fp, fn, tp:\", tn, fp, fn, tp)\r\n",
        "print(f1_score(y_true=Y_test, y_pred=pred, average='micro'))"
      ],
      "execution_count": 16,
      "outputs": [
        {
          "output_type": "stream",
          "text": [
            "Model: \"DNN_2\"\n",
            "_________________________________________________________________\n",
            "Layer (type)                 Output Shape              Param #   \n",
            "=================================================================\n",
            "DNN_2_1 (Dense)              (None, 500)               7000      \n",
            "_________________________________________________________________\n",
            "DNN_2_2 (Dense)              (None, 500)               250500    \n",
            "_________________________________________________________________\n",
            "DNN_2_output (Dense)         (None, 1)                 501       \n",
            "=================================================================\n",
            "Total params: 258,001\n",
            "Trainable params: 258,001\n",
            "Non-trainable params: 0\n",
            "_________________________________________________________________\n",
            "Learning time: 16.42sec\n",
            "Total loss: 4.5413126945495605\n",
            "Accuracy: 0.7142857313156128\n",
            "tn, fp, fn, tp: 27 13 13 38\n",
            "0.7142857142857143\n"
          ],
          "name": "stdout"
        }
      ]
    },
    {
      "cell_type": "code",
      "metadata": {
        "colab": {
          "base_uri": "https://localhost:8080/"
        },
        "id": "Y3i0aFVDyEee",
        "outputId": "0fa923f2-6d1c-40c4-a41e-ce37269bff24"
      },
      "source": [
        "MY_HIDDEN = 5000\r\n",
        "\r\n",
        "raw = pd.read_csv('/content/drive/MyDrive/dataset/heart.csv')\r\n",
        "\r\n",
        "X_data = raw.drop('target', axis=1)\r\n",
        "Y_data = raw['target']\r\n",
        "names = X_data.columns\r\n",
        "\r\n",
        "# Z-점수 정규화\r\n",
        "scaler = StandardScaler()\r\n",
        "X_data = scaler.fit_transform(X_data)\r\n",
        "\r\n",
        "# numpy -> pandas.dataframe\r\n",
        "X_data = pd.DataFrame(X_data, columns=names)\r\n",
        "\r\n",
        "# 훈련 데이터와 테스트 데이터 나누기\r\n",
        "# shuffle=True: 섞음\r\n",
        "X_train, X_test, Y_train, Y_test = train_test_split(X_data, Y_data, \r\n",
        "                                                    train_size=MY_SPLIT, shuffle=True)\r\n",
        "\r\n",
        "model = Sequential(name='DNN_3')\r\n",
        "# units 파라미터는 생략 가능\r\n",
        "model.add(Dense(name='DNN_3_1', units=MY_HIDDEN, input_dim=INPUT_DIM, activation='tanh'))\r\n",
        "model.add(Dense(name='DNN_3_2', units=MY_HIDDEN, activation='tanh'))\r\n",
        "model.add(Dense(name='DNN_3_output', units=1, activation='sigmoid'))\r\n",
        "model.summary()\r\n",
        "\r\n",
        "model.compile(optimizer='adam', loss='binary_crossentropy', metrics=['acc'])\r\n",
        "\r\n",
        "begin = time()\r\n",
        "model.fit(x=X_train, y=Y_train, epochs=MY_EPOCH, verbose=0)\r\n",
        "end = time()\r\n",
        "print(\"Learning time: {:.2f}sec\".format(end - begin))\r\n",
        "\r\n",
        "score = model.evaluate(x=X_test, y=Y_test, verbose=0)\r\n",
        "print(\"Total loss:\", score[0])\r\n",
        "print(\"Accuracy:\", score[1])\r\n",
        "\r\n",
        "pred = model.predict(X_test)\r\n",
        "pred = (pred > 0.5) # 추측값을 이진수로 전환 (Binary이므로)\r\n",
        "tn, fp, fn, tp = confusion_matrix(y_true=Y_test, y_pred=pred).ravel()\r\n",
        "print(\"tn, fp, fn, tp:\", tn, fp, fn, tp)\r\n",
        "print(f1_score(y_true=Y_test, y_pred=pred, average='micro'))\r\n",
        "\r\n",
        "MY_HIDDEN = 500 # 원래대로 되돌리기"
      ],
      "execution_count": 17,
      "outputs": [
        {
          "output_type": "stream",
          "text": [
            "Model: \"DNN_3\"\n",
            "_________________________________________________________________\n",
            "Layer (type)                 Output Shape              Param #   \n",
            "=================================================================\n",
            "DNN_3_1 (Dense)              (None, 5000)              70000     \n",
            "_________________________________________________________________\n",
            "DNN_3_2 (Dense)              (None, 5000)              25005000  \n",
            "_________________________________________________________________\n",
            "DNN_3_output (Dense)         (None, 1)                 5001      \n",
            "=================================================================\n",
            "Total params: 25,080,001\n",
            "Trainable params: 25,080,001\n",
            "Non-trainable params: 0\n",
            "_________________________________________________________________\n",
            "Learning time: 44.74sec\n",
            "Total loss: 2.2992610931396484\n",
            "Accuracy: 0.7692307829856873\n",
            "tn, fp, fn, tp: 33 12 9 37\n",
            "0.7692307692307693\n"
          ],
          "name": "stdout"
        }
      ]
    },
    {
      "cell_type": "code",
      "metadata": {
        "colab": {
          "base_uri": "https://localhost:8080/"
        },
        "id": "Nq-hUcXK2O0E",
        "outputId": "88fed1e8-f551-436f-81c8-e457b5c07698"
      },
      "source": [
        "raw = pd.read_csv('/content/drive/MyDrive/dataset/heart.csv')\r\n",
        "\r\n",
        "X_data = raw.drop('target', axis=1)\r\n",
        "Y_data = raw['target']\r\n",
        "names = X_data.columns\r\n",
        "\r\n",
        "# Z-점수 정규화\r\n",
        "scaler = StandardScaler()\r\n",
        "X_data = scaler.fit_transform(X_data)\r\n",
        "\r\n",
        "# numpy -> pandas.dataframe\r\n",
        "X_data = pd.DataFrame(X_data, columns=names)\r\n",
        "\r\n",
        "# 훈련 데이터와 테스트 데이터 나누기\r\n",
        "# shuffle=True: 섞음\r\n",
        "X_train, X_test, Y_train, Y_test = train_test_split(X_data, Y_data, \r\n",
        "                                                    train_size=MY_SPLIT, shuffle=True)\r\n",
        "\r\n",
        "model = Sequential(name='DNN_4')\r\n",
        "# units 파라미터는 생략 가능\r\n",
        "model.add(Dense(name='DNN_4_1', units=MY_HIDDEN, input_dim=INPUT_DIM, activation='relu')) # relu\r\n",
        "model.add(Dense(name='DNN_4_2', units=MY_HIDDEN, activation='relu')) # relu\r\n",
        "model.add(Dense(name='DNN_4_output', units=1, activation='sigmoid'))\r\n",
        "model.summary()\r\n",
        "\r\n",
        "model.compile(optimizer='adam', loss='binary_crossentropy', metrics=['acc'])\r\n",
        "\r\n",
        "begin = time()\r\n",
        "model.fit(x=X_train, y=Y_train, epochs=MY_EPOCH, verbose=0)\r\n",
        "end = time()\r\n",
        "print(\"Learning time: {:.2f}sec\".format(end - begin))\r\n",
        "\r\n",
        "score = model.evaluate(x=X_test, y=Y_test, verbose=0)\r\n",
        "print(\"Total loss:\", score[0])\r\n",
        "print(\"Accuracy:\", score[1])\r\n",
        "\r\n",
        "pred = model.predict(X_test)\r\n",
        "pred = (pred > 0.5) # 추측값을 이진수로 전환 (Binary이므로)\r\n",
        "tn, fp, fn, tp = confusion_matrix(y_true=Y_test, y_pred=pred).ravel()\r\n",
        "print(\"tn, fp, fn, tp:\", tn, fp, fn, tp)\r\n",
        "print(f1_score(y_true=Y_test, y_pred=pred, average='micro'))"
      ],
      "execution_count": 18,
      "outputs": [
        {
          "output_type": "stream",
          "text": [
            "Model: \"DNN_4\"\n",
            "_________________________________________________________________\n",
            "Layer (type)                 Output Shape              Param #   \n",
            "=================================================================\n",
            "DNN_4_1 (Dense)              (None, 500)               7000      \n",
            "_________________________________________________________________\n",
            "DNN_4_2 (Dense)              (None, 500)               250500    \n",
            "_________________________________________________________________\n",
            "DNN_4_output (Dense)         (None, 1)                 501       \n",
            "=================================================================\n",
            "Total params: 258,001\n",
            "Trainable params: 258,001\n",
            "Non-trainable params: 0\n",
            "_________________________________________________________________\n",
            "Learning time: 14.00sec\n",
            "Total loss: 3.570107936859131\n",
            "Accuracy: 0.7472527623176575\n",
            "tn, fp, fn, tp: 32 12 11 36\n",
            "0.7472527472527473\n"
          ],
          "name": "stdout"
        }
      ]
    },
    {
      "cell_type": "code",
      "metadata": {
        "colab": {
          "base_uri": "https://localhost:8080/"
        },
        "id": "leBJl7Mu24HT",
        "outputId": "3c52f0ed-3ead-417f-eb18-1d5ce1b142d8"
      },
      "source": [
        "raw = pd.read_csv('/content/drive/MyDrive/dataset/heart.csv')\r\n",
        "\r\n",
        "X_data = raw.drop('target', axis=1)\r\n",
        "Y_data = raw['target']\r\n",
        "names = X_data.columns\r\n",
        "\r\n",
        "# Z-점수 정규화\r\n",
        "#scaler = StandardScaler()\r\n",
        "#X_data = scaler.fit_transform(X_data)\r\n",
        "\r\n",
        "# numpy -> pandas.dataframe\r\n",
        "X_data = pd.DataFrame(X_data, columns=names)\r\n",
        "\r\n",
        "# 훈련 데이터와 테스트 데이터 나누기\r\n",
        "# shuffle=True: 섞음\r\n",
        "X_train, X_test, Y_train, Y_test = train_test_split(X_data, Y_data, \r\n",
        "                                                    train_size=MY_SPLIT, shuffle=True)\r\n",
        "\r\n",
        "model = Sequential(name='DNN_5')\r\n",
        "# units 파라미터는 생략 가능\r\n",
        "model.add(Dense(name='DNN_5_1', units=MY_HIDDEN, input_dim=INPUT_DIM, activation='tanh'))\r\n",
        "model.add(Dense(name='DNN_5_2', units=MY_HIDDEN, activation='tanh'))\r\n",
        "model.add(Dense(name='DNN_5_output', units=1, activation='sigmoid'))\r\n",
        "model.summary()\r\n",
        "\r\n",
        "model.compile(optimizer='adam', loss='binary_crossentropy', metrics=['acc'])\r\n",
        "\r\n",
        "begin = time()\r\n",
        "model.fit(x=X_train, y=Y_train, epochs=MY_EPOCH, verbose=0)\r\n",
        "end = time()\r\n",
        "print(\"Learning time: {:.2f}sec\".format(end - begin))\r\n",
        "\r\n",
        "score = model.evaluate(x=X_test, y=Y_test, verbose=0)\r\n",
        "print(\"Total loss:\", score[0])\r\n",
        "print(\"Accuracy:\", score[1])\r\n",
        "\r\n",
        "pred = model.predict(X_test)\r\n",
        "pred = (pred > 0.5) # 추측값을 이진수로 전환 (Binary이므로)\r\n",
        "tn, fp, fn, tp = confusion_matrix(y_true=Y_test, y_pred=pred).ravel()\r\n",
        "print(\"tn, fp, fn, tp:\", tn, fp, fn, tp)\r\n",
        "print(f1_score(y_true=Y_test, y_pred=pred, average='micro'))"
      ],
      "execution_count": 19,
      "outputs": [
        {
          "output_type": "stream",
          "text": [
            "Model: \"DNN_5\"\n",
            "_________________________________________________________________\n",
            "Layer (type)                 Output Shape              Param #   \n",
            "=================================================================\n",
            "DNN_5_1 (Dense)              (None, 500)               7000      \n",
            "_________________________________________________________________\n",
            "DNN_5_2 (Dense)              (None, 500)               250500    \n",
            "_________________________________________________________________\n",
            "DNN_5_output (Dense)         (None, 1)                 501       \n",
            "=================================================================\n",
            "Total params: 258,001\n",
            "Trainable params: 258,001\n",
            "Non-trainable params: 0\n",
            "_________________________________________________________________\n",
            "Learning time: 14.08sec\n",
            "WARNING:tensorflow:5 out of the last 13 calls to <function Model.make_test_function.<locals>.test_function at 0x7f0cfe0f0158> triggered tf.function retracing. Tracing is expensive and the excessive number of tracings could be due to (1) creating @tf.function repeatedly in a loop, (2) passing tensors with different shapes, (3) passing Python objects instead of tensors. For (1), please define your @tf.function outside of the loop. For (2), @tf.function has experimental_relax_shapes=True option that relaxes argument shapes that can avoid unnecessary retracing. For (3), please refer to https://www.tensorflow.org/guide/function#controlling_retracing and https://www.tensorflow.org/api_docs/python/tf/function for  more details.\n",
            "Total loss: 1.982782244682312\n",
            "Accuracy: 0.7802197933197021\n",
            "WARNING:tensorflow:5 out of the last 13 calls to <function Model.make_predict_function.<locals>.predict_function at 0x7f0cec7148c8> triggered tf.function retracing. Tracing is expensive and the excessive number of tracings could be due to (1) creating @tf.function repeatedly in a loop, (2) passing tensors with different shapes, (3) passing Python objects instead of tensors. For (1), please define your @tf.function outside of the loop. For (2), @tf.function has experimental_relax_shapes=True option that relaxes argument shapes that can avoid unnecessary retracing. For (3), please refer to https://www.tensorflow.org/guide/function#controlling_retracing and https://www.tensorflow.org/api_docs/python/tf/function for  more details.\n",
            "tn, fp, fn, tp: 30 12 8 41\n",
            "0.7802197802197802\n"
          ],
          "name": "stdout"
        }
      ]
    },
    {
      "cell_type": "code",
      "metadata": {
        "colab": {
          "base_uri": "https://localhost:8080/",
          "height": 1000
        },
        "id": "5uvSBN0s3dyy",
        "outputId": "2f964809-5f38-422a-ced6-d599c086eda3"
      },
      "source": [
        "raw = pd.read_csv('/content/drive/MyDrive/dataset/heart.csv')\r\n",
        "\r\n",
        "X_data = raw.drop('target', axis=1)\r\n",
        "# fbs와 chol 컬럼을 빼야 함\r\n",
        "X_data = X_data.drop('fbs', axis=1)\r\n",
        "X_data = X_data.drop('chol', axis=1)\r\n",
        "INPUT_DIM = 13 - 2\r\n",
        "\r\n",
        "Y_data = raw['target']\r\n",
        "names = X_data.columns\r\n",
        "\r\n",
        "show_sample(X_data)\r\n",
        "\r\n",
        "# Z-점수 정규화\r\n",
        "scaler = StandardScaler()\r\n",
        "X_data = scaler.fit_transform(X_data)\r\n",
        "\r\n",
        "# numpy -> pandas.dataframe\r\n",
        "X_data = pd.DataFrame(X_data, columns=names)\r\n",
        "\r\n",
        "# 훈련 데이터와 테스트 데이터 나누기\r\n",
        "# shuffle=True: 섞음\r\n",
        "X_train, X_test, Y_train, Y_test = train_test_split(X_data, Y_data, \r\n",
        "                                                    train_size=MY_SPLIT, shuffle=True)\r\n",
        "\r\n",
        "model = Sequential(name='DNN_6')\r\n",
        "# units 파라미터는 생략 가능\r\n",
        "model.add(Dense(name='DNN_6_1', units=MY_HIDDEN, input_dim=INPUT_DIM, activation='tanh'))\r\n",
        "model.add(Dense(name='DNN_6_2', units=MY_HIDDEN, activation='tanh'))\r\n",
        "model.add(Dense(name='DNN_6_output', units=1, activation='sigmoid'))\r\n",
        "model.summary()\r\n",
        "\r\n",
        "model.compile(optimizer='adam', loss='binary_crossentropy', metrics=['acc'])\r\n",
        "\r\n",
        "begin = time()\r\n",
        "model.fit(x=X_train, y=Y_train, epochs=MY_EPOCH, verbose=0)\r\n",
        "end = time()\r\n",
        "print(\"Learning time: {:.2f}sec\".format(end - begin))\r\n",
        "\r\n",
        "score = model.evaluate(x=X_test, y=Y_test, verbose=0)\r\n",
        "print(\"Total loss:\", score[0])\r\n",
        "print(\"Accuracy:\", score[1])\r\n",
        "\r\n",
        "pred = model.predict(X_test)\r\n",
        "pred = (pred > 0.5) # 추측값을 이진수로 전환 (Binary이므로)\r\n",
        "tn, fp, fn, tp = confusion_matrix(y_true=Y_test, y_pred=pred).ravel()\r\n",
        "print(\"tn, fp, fn, tp:\", tn, fp, fn, tp)\r\n",
        "print(f1_score(y_true=Y_test, y_pred=pred, average='micro'))\r\n",
        "\r\n",
        "INPUT_DIM = 13 # 원래대로 돌리기"
      ],
      "execution_count": 20,
      "outputs": [
        {
          "output_type": "stream",
          "text": [
            "\n",
            "샘플 10개\n",
            "   age  sex  cp  trestbps  restecg  thalach  exang  oldpeak  slope  ca  thal\n",
            "0   63    1   3       145        0      150      0      2.3      0   0     1\n",
            "1   37    1   2       130        1      187      0      3.5      0   0     2\n",
            "2   41    0   1       130        0      172      0      1.4      2   0     2\n",
            "3   56    1   1       120        1      178      0      0.8      2   0     2\n",
            "4   57    0   0       120        1      163      1      0.6      2   0     2\n",
            "5   57    1   0       140        1      148      0      0.4      1   0     1\n",
            "6   56    0   1       140        0      153      0      1.3      1   0     2\n",
            "7   44    1   1       120        1      173      0      0.0      2   0     3\n",
            "8   52    1   2       172        1      162      0      0.5      2   0     3\n",
            "9   57    1   2       150        1      174      0      1.6      2   0     2\n",
            "\n",
            "샘플 통계\n",
            "              age         sex          cp    trestbps     restecg     thalach  \\\n",
            "count  303.000000  303.000000  303.000000  303.000000  303.000000  303.000000   \n",
            "mean    54.366337    0.683168    0.966997  131.623762    0.528053  149.646865   \n",
            "std      9.082101    0.466011    1.032052   17.538143    0.525860   22.905161   \n",
            "min     29.000000    0.000000    0.000000   94.000000    0.000000   71.000000   \n",
            "25%     47.500000    0.000000    0.000000  120.000000    0.000000  133.500000   \n",
            "50%     55.000000    1.000000    1.000000  130.000000    1.000000  153.000000   \n",
            "75%     61.000000    1.000000    2.000000  140.000000    1.000000  166.000000   \n",
            "max     77.000000    1.000000    3.000000  200.000000    2.000000  202.000000   \n",
            "\n",
            "            exang     oldpeak       slope          ca        thal  \n",
            "count  303.000000  303.000000  303.000000  303.000000  303.000000  \n",
            "mean     0.326733    1.039604    1.399340    0.729373    2.313531  \n",
            "std      0.469794    1.161075    0.616226    1.022606    0.612277  \n",
            "min      0.000000    0.000000    0.000000    0.000000    0.000000  \n",
            "25%      0.000000    0.000000    1.000000    0.000000    2.000000  \n",
            "50%      0.000000    0.800000    1.000000    0.000000    2.000000  \n",
            "75%      1.000000    1.600000    2.000000    1.000000    3.000000  \n",
            "max      1.000000    6.200000    2.000000    4.000000    3.000000  \n",
            "\n",
            "Boxplot 출력\n"
          ],
          "name": "stdout"
        },
        {
          "output_type": "display_data",
          "data": {
            "image/png": "[encoded data removed]",
            "text/plain": [
              "<Figure size 1080x576 with 1 Axes>"
            ]
          },
          "metadata": {
            "tags": []
          }
        },
        {
          "output_type": "stream",
          "text": [
            "Model: \"DNN_6\"\n",
            "_________________________________________________________________\n",
            "Layer (type)                 Output Shape              Param #   \n",
            "=================================================================\n",
            "DNN_6_1 (Dense)              (None, 500)               6000      \n",
            "_________________________________________________________________\n",
            "DNN_6_2 (Dense)              (None, 500)               250500    \n",
            "_________________________________________________________________\n",
            "DNN_6_output (Dense)         (None, 1)                 501       \n",
            "=================================================================\n",
            "Total params: 257,001\n",
            "Trainable params: 257,001\n",
            "Non-trainable params: 0\n",
            "_________________________________________________________________\n",
            "Learning time: 13.98sec\n",
            "WARNING:tensorflow:5 out of the last 13 calls to <function Model.make_test_function.<locals>.test_function at 0x7f0cec5e3620> triggered tf.function retracing. Tracing is expensive and the excessive number of tracings could be due to (1) creating @tf.function repeatedly in a loop, (2) passing tensors with different shapes, (3) passing Python objects instead of tensors. For (1), please define your @tf.function outside of the loop. For (2), @tf.function has experimental_relax_shapes=True option that relaxes argument shapes that can avoid unnecessary retracing. For (3), please refer to https://www.tensorflow.org/guide/function#controlling_retracing and https://www.tensorflow.org/api_docs/python/tf/function for  more details.\n",
            "Total loss: 1.8651654720306396\n",
            "Accuracy: 0.7582417726516724\n",
            "WARNING:tensorflow:5 out of the last 13 calls to <function Model.make_predict_function.<locals>.predict_function at 0x7f0cec43ea60> triggered tf.function retracing. Tracing is expensive and the excessive number of tracings could be due to (1) creating @tf.function repeatedly in a loop, (2) passing tensors with different shapes, (3) passing Python objects instead of tensors. For (1), please define your @tf.function outside of the loop. For (2), @tf.function has experimental_relax_shapes=True option that relaxes argument shapes that can avoid unnecessary retracing. For (3), please refer to https://www.tensorflow.org/guide/function#controlling_retracing and https://www.tensorflow.org/api_docs/python/tf/function for  more details.\n",
            "tn, fp, fn, tp: 26 9 13 43\n",
            "0.7582417582417583\n"
          ],
          "name": "stdout"
        }
      ]
    },
    {
      "cell_type": "code",
      "metadata": {
        "colab": {
          "base_uri": "https://localhost:8080/"
        },
        "id": "mNpDNZvt4qNi",
        "outputId": "0731bb82-18db-424c-e48c-e99e1d315a8a"
      },
      "source": [
        "raw = pd.read_csv('/content/drive/MyDrive/dataset/heart.csv')\r\n",
        "raw = raw.head(100) # 100개만 사용\r\n",
        "\r\n",
        "X_data = raw.drop('target', axis=1)\r\n",
        "Y_data = raw['target']\r\n",
        "names = X_data.columns\r\n",
        "\r\n",
        "# Z-점수 정규화\r\n",
        "scaler = StandardScaler()\r\n",
        "X_data = scaler.fit_transform(X_data)\r\n",
        "\r\n",
        "# numpy -> pandas.dataframe\r\n",
        "X_data = pd.DataFrame(X_data, columns=names)\r\n",
        "\r\n",
        "# 훈련 데이터와 테스트 데이터 나누기\r\n",
        "# shuffle=True: 섞음\r\n",
        "X_train, X_test, Y_train, Y_test = train_test_split(X_data, Y_data, \r\n",
        "                                                    train_size=MY_SPLIT, shuffle=True)\r\n",
        "\r\n",
        "#X_train = X_data[:100] # 훈련 데이터 100개만 사용함\r\n",
        "#X_test = X_data[100:]\r\n",
        "#Y_train = Y_data[:100] # 훈련 데이터 100개만 사용함\r\n",
        "#Y_test = Y_data[100:]\r\n",
        "\r\n",
        "print(\"훈련 데이터 형상:\", X_train.shape)\r\n",
        "print(\"훈련 타깃 형상:\", Y_train.shape)\r\n",
        "print(\"검증 데이터 형상:\", X_test.shape)\r\n",
        "print(\"검증 타깃 형상:\", Y_test.shape)\r\n",
        "\r\n",
        "model = Sequential(name='DNN_7')\r\n",
        "# units 파라미터는 생략 가능\r\n",
        "model.add(Dense(name='DNN_7_1', units=MY_HIDDEN, input_dim=INPUT_DIM, activation='tanh'))\r\n",
        "model.add(Dense(name='DNN_7_2', units=MY_HIDDEN, activation='tanh'))\r\n",
        "model.add(Dense(name='DNN_7_output', units=1, activation='sigmoid'))\r\n",
        "model.summary()\r\n",
        "\r\n",
        "model.compile(optimizer='adam', loss='binary_crossentropy', metrics=['acc'])\r\n",
        "\r\n",
        "begin = time()\r\n",
        "model.fit(x=X_train, y=Y_train, epochs=MY_EPOCH, verbose=0)\r\n",
        "end = time()\r\n",
        "print(\"Learning time: {:.2f}sec\".format(end - begin))\r\n",
        "\r\n",
        "score = model.evaluate(x=X_test, y=Y_test, verbose=0)\r\n",
        "print(\"Total loss:\", score[0])\r\n",
        "print(\"Accuracy:\", score[1])\r\n",
        "\r\n",
        "pred = model.predict(X_test)\r\n",
        "pred = (pred > 0.5) # 추측값을 이진수로 전환 (Binary이므로)\r\n",
        "print(confusion_matrix(y_true=Y_test, y_pred=pred))\r\n",
        "#print(\"tn, fp, fn, tp:\", tn, fp, fn, tp)\r\n",
        "print(f1_score(y_true=Y_test, y_pred=pred, average='micro'))"
      ],
      "execution_count": 21,
      "outputs": [
        {
          "output_type": "stream",
          "text": [
            "훈련 데이터 형상: (70, 13)\n",
            "훈련 타깃 형상: (70,)\n",
            "검증 데이터 형상: (30, 13)\n",
            "검증 타깃 형상: (30,)\n",
            "Model: \"DNN_7\"\n",
            "_________________________________________________________________\n",
            "Layer (type)                 Output Shape              Param #   \n",
            "=================================================================\n",
            "DNN_7_1 (Dense)              (None, 500)               7000      \n",
            "_________________________________________________________________\n",
            "DNN_7_2 (Dense)              (None, 500)               250500    \n",
            "_________________________________________________________________\n",
            "DNN_7_output (Dense)         (None, 1)                 501       \n",
            "=================================================================\n",
            "Total params: 258,001\n",
            "Trainable params: 258,001\n",
            "Non-trainable params: 0\n",
            "_________________________________________________________________\n",
            "Learning time: 7.09sec\n",
            "WARNING:tensorflow:5 out of the last 13 calls to <function Model.make_test_function.<locals>.test_function at 0x7f0cec438488> triggered tf.function retracing. Tracing is expensive and the excessive number of tracings could be due to (1) creating @tf.function repeatedly in a loop, (2) passing tensors with different shapes, (3) passing Python objects instead of tensors. For (1), please define your @tf.function outside of the loop. For (2), @tf.function has experimental_relax_shapes=True option that relaxes argument shapes that can avoid unnecessary retracing. For (3), please refer to https://www.tensorflow.org/guide/function#controlling_retracing and https://www.tensorflow.org/api_docs/python/tf/function for  more details.\n",
            "Total loss: 6.770513209630735e-06\n",
            "Accuracy: 1.0\n",
            "WARNING:tensorflow:5 out of the last 13 calls to <function Model.make_predict_function.<locals>.predict_function at 0x7f0cec2ee1e0> triggered tf.function retracing. Tracing is expensive and the excessive number of tracings could be due to (1) creating @tf.function repeatedly in a loop, (2) passing tensors with different shapes, (3) passing Python objects instead of tensors. For (1), please define your @tf.function outside of the loop. For (2), @tf.function has experimental_relax_shapes=True option that relaxes argument shapes that can avoid unnecessary retracing. For (3), please refer to https://www.tensorflow.org/guide/function#controlling_retracing and https://www.tensorflow.org/api_docs/python/tf/function for  more details.\n",
            "[[30]]\n",
            "1.0\n"
          ],
          "name": "stdout"
        }
      ]
    },
    {
      "cell_type": "markdown",
      "metadata": {
        "id": "7DBminXh8ad_"
      },
      "source": [
        "* 처음 100명의 환자들이 모두 심장병이었으므로, 점수가 1이 나옴"
      ]
    },
    {
      "cell_type": "code",
      "metadata": {
        "colab": {
          "base_uri": "https://localhost:8080/",
          "height": 427
        },
        "id": "tsLRm6yy8evM",
        "outputId": "d71e2888-3b2a-4d58-b18c-1fa09b8ae8c1"
      },
      "source": [
        "raw"
      ],
      "execution_count": 22,
      "outputs": [
        {
          "output_type": "execute_result",
          "data": {
            "text/html": [
              "<div>\n",
              "<style scoped>\n",
              "    .dataframe tbody tr th:only-of-type {\n",
              "        vertical-align: middle;\n",
              "    }\n",
              "\n",
              "    .dataframe tbody tr th {\n",
              "        vertical-align: top;\n",
              "    }\n",
              "\n",
              "    .dataframe thead th {\n",
              "        text-align: right;\n",
              "    }\n",
              "</style>\n",
              "<table border=\"1\" class=\"dataframe\">\n",
              "  <thead>\n",
              "    <tr style=\"text-align: right;\">\n",
              "      <th></th>\n",
              "      <th>age</th>\n",
              "      <th>sex</th>\n",
              "      <th>cp</th>\n",
              "      <th>trestbps</th>\n",
              "      <th>chol</th>\n",
              "      <th>fbs</th>\n",
              "      <th>restecg</th>\n",
              "      <th>thalach</th>\n",
              "      <th>exang</th>\n",
              "      <th>oldpeak</th>\n",
              "      <th>slope</th>\n",
              "      <th>ca</th>\n",
              "      <th>thal</th>\n",
              "      <th>target</th>\n",
              "    </tr>\n",
              "  </thead>\n",
              "  <tbody>\n",
              "    <tr>\n",
              "      <th>0</th>\n",
              "      <td>63</td>\n",
              "      <td>1</td>\n",
              "      <td>3</td>\n",
              "      <td>145</td>\n",
              "      <td>233</td>\n",
              "      <td>1</td>\n",
              "      <td>0</td>\n",
              "      <td>150</td>\n",
              "      <td>0</td>\n",
              "      <td>2.3</td>\n",
              "      <td>0</td>\n",
              "      <td>0</td>\n",
              "      <td>1</td>\n",
              "      <td>1</td>\n",
              "    </tr>\n",
              "    <tr>\n",
              "      <th>1</th>\n",
              "      <td>37</td>\n",
              "      <td>1</td>\n",
              "      <td>2</td>\n",
              "      <td>130</td>\n",
              "      <td>250</td>\n",
              "      <td>0</td>\n",
              "      <td>1</td>\n",
              "      <td>187</td>\n",
              "      <td>0</td>\n",
              "      <td>3.5</td>\n",
              "      <td>0</td>\n",
              "      <td>0</td>\n",
              "      <td>2</td>\n",
              "      <td>1</td>\n",
              "    </tr>\n",
              "    <tr>\n",
              "      <th>2</th>\n",
              "      <td>41</td>\n",
              "      <td>0</td>\n",
              "      <td>1</td>\n",
              "      <td>130</td>\n",
              "      <td>204</td>\n",
              "      <td>0</td>\n",
              "      <td>0</td>\n",
              "      <td>172</td>\n",
              "      <td>0</td>\n",
              "      <td>1.4</td>\n",
              "      <td>2</td>\n",
              "      <td>0</td>\n",
              "      <td>2</td>\n",
              "      <td>1</td>\n",
              "    </tr>\n",
              "    <tr>\n",
              "      <th>3</th>\n",
              "      <td>56</td>\n",
              "      <td>1</td>\n",
              "      <td>1</td>\n",
              "      <td>120</td>\n",
              "      <td>236</td>\n",
              "      <td>0</td>\n",
              "      <td>1</td>\n",
              "      <td>178</td>\n",
              "      <td>0</td>\n",
              "      <td>0.8</td>\n",
              "      <td>2</td>\n",
              "      <td>0</td>\n",
              "      <td>2</td>\n",
              "      <td>1</td>\n",
              "    </tr>\n",
              "    <tr>\n",
              "      <th>4</th>\n",
              "      <td>57</td>\n",
              "      <td>0</td>\n",
              "      <td>0</td>\n",
              "      <td>120</td>\n",
              "      <td>354</td>\n",
              "      <td>0</td>\n",
              "      <td>1</td>\n",
              "      <td>163</td>\n",
              "      <td>1</td>\n",
              "      <td>0.6</td>\n",
              "      <td>2</td>\n",
              "      <td>0</td>\n",
              "      <td>2</td>\n",
              "      <td>1</td>\n",
              "    </tr>\n",
              "    <tr>\n",
              "      <th>...</th>\n",
              "      <td>...</td>\n",
              "      <td>...</td>\n",
              "      <td>...</td>\n",
              "      <td>...</td>\n",
              "      <td>...</td>\n",
              "      <td>...</td>\n",
              "      <td>...</td>\n",
              "      <td>...</td>\n",
              "      <td>...</td>\n",
              "      <td>...</td>\n",
              "      <td>...</td>\n",
              "      <td>...</td>\n",
              "      <td>...</td>\n",
              "      <td>...</td>\n",
              "    </tr>\n",
              "    <tr>\n",
              "      <th>95</th>\n",
              "      <td>53</td>\n",
              "      <td>1</td>\n",
              "      <td>0</td>\n",
              "      <td>142</td>\n",
              "      <td>226</td>\n",
              "      <td>0</td>\n",
              "      <td>0</td>\n",
              "      <td>111</td>\n",
              "      <td>1</td>\n",
              "      <td>0.0</td>\n",
              "      <td>2</td>\n",
              "      <td>0</td>\n",
              "      <td>3</td>\n",
              "      <td>1</td>\n",
              "    </tr>\n",
              "    <tr>\n",
              "      <th>96</th>\n",
              "      <td>62</td>\n",
              "      <td>0</td>\n",
              "      <td>0</td>\n",
              "      <td>140</td>\n",
              "      <td>394</td>\n",
              "      <td>0</td>\n",
              "      <td>0</td>\n",
              "      <td>157</td>\n",
              "      <td>0</td>\n",
              "      <td>1.2</td>\n",
              "      <td>1</td>\n",
              "      <td>0</td>\n",
              "      <td>2</td>\n",
              "      <td>1</td>\n",
              "    </tr>\n",
              "    <tr>\n",
              "      <th>97</th>\n",
              "      <td>52</td>\n",
              "      <td>1</td>\n",
              "      <td>0</td>\n",
              "      <td>108</td>\n",
              "      <td>233</td>\n",
              "      <td>1</td>\n",
              "      <td>1</td>\n",
              "      <td>147</td>\n",
              "      <td>0</td>\n",
              "      <td>0.1</td>\n",
              "      <td>2</td>\n",
              "      <td>3</td>\n",
              "      <td>3</td>\n",
              "      <td>1</td>\n",
              "    </tr>\n",
              "    <tr>\n",
              "      <th>98</th>\n",
              "      <td>43</td>\n",
              "      <td>1</td>\n",
              "      <td>2</td>\n",
              "      <td>130</td>\n",
              "      <td>315</td>\n",
              "      <td>0</td>\n",
              "      <td>1</td>\n",
              "      <td>162</td>\n",
              "      <td>0</td>\n",
              "      <td>1.9</td>\n",
              "      <td>2</td>\n",
              "      <td>1</td>\n",
              "      <td>2</td>\n",
              "      <td>1</td>\n",
              "    </tr>\n",
              "    <tr>\n",
              "      <th>99</th>\n",
              "      <td>53</td>\n",
              "      <td>1</td>\n",
              "      <td>2</td>\n",
              "      <td>130</td>\n",
              "      <td>246</td>\n",
              "      <td>1</td>\n",
              "      <td>0</td>\n",
              "      <td>173</td>\n",
              "      <td>0</td>\n",
              "      <td>0.0</td>\n",
              "      <td>2</td>\n",
              "      <td>3</td>\n",
              "      <td>2</td>\n",
              "      <td>1</td>\n",
              "    </tr>\n",
              "  </tbody>\n",
              "</table>\n",
              "<p>100 rows × 14 columns</p>\n",
              "</div>"
            ],
            "text/plain": [
              "    age  sex  cp  trestbps  chol  fbs  restecg  thalach  exang  oldpeak  \\\n",
              "0    63    1   3       145   233    1        0      150      0      2.3   \n",
              "1    37    1   2       130   250    0        1      187      0      3.5   \n",
              "2    41    0   1       130   204    0        0      172      0      1.4   \n",
              "3    56    1   1       120   236    0        1      178      0      0.8   \n",
              "4    57    0   0       120   354    0        1      163      1      0.6   \n",
              "..  ...  ...  ..       ...   ...  ...      ...      ...    ...      ...   \n",
              "95   53    1   0       142   226    0        0      111      1      0.0   \n",
              "96   62    0   0       140   394    0        0      157      0      1.2   \n",
              "97   52    1   0       108   233    1        1      147      0      0.1   \n",
              "98   43    1   2       130   315    0        1      162      0      1.9   \n",
              "99   53    1   2       130   246    1        0      173      0      0.0   \n",
              "\n",
              "    slope  ca  thal  target  \n",
              "0       0   0     1       1  \n",
              "1       0   0     2       1  \n",
              "2       2   0     2       1  \n",
              "3       2   0     2       1  \n",
              "4       2   0     2       1  \n",
              "..    ...  ..   ...     ...  \n",
              "95      2   0     3       1  \n",
              "96      1   0     2       1  \n",
              "97      2   3     3       1  \n",
              "98      2   1     2       1  \n",
              "99      2   3     2       1  \n",
              "\n",
              "[100 rows x 14 columns]"
            ]
          },
          "metadata": {
            "tags": []
          },
          "execution_count": 22
        }
      ]
    },
    {
      "cell_type": "markdown",
      "metadata": {
        "id": "aF2Psj-f9Kbr"
      },
      "source": [
        "* 섞어야 함!"
      ]
    },
    {
      "cell_type": "code",
      "metadata": {
        "colab": {
          "base_uri": "https://localhost:8080/"
        },
        "id": "cMhaqYQd9J3l",
        "outputId": "b1788a7e-39ed-49ab-a2be-f88b89587803"
      },
      "source": [
        "raw = pd.read_csv('/content/drive/MyDrive/dataset/heart.csv')\r\n",
        "#raw = raw.head(100) # 100개만 사용\r\n",
        "raw = raw.sample(frac=100 / raw.shape[0])\r\n",
        "print(raw.shape)\r\n",
        "\r\n",
        "X_data = raw.drop('target', axis=1)\r\n",
        "Y_data = raw['target']\r\n",
        "names = X_data.columns\r\n",
        "\r\n",
        "# Z-점수 정규화\r\n",
        "scaler = StandardScaler()\r\n",
        "X_data = scaler.fit_transform(X_data)\r\n",
        "\r\n",
        "# numpy -> pandas.dataframe\r\n",
        "X_data = pd.DataFrame(X_data, columns=names)\r\n",
        "\r\n",
        "# 훈련 데이터와 테스트 데이터 나누기\r\n",
        "# shuffle=True: 섞음\r\n",
        "X_train, X_test, Y_train, Y_test = train_test_split(X_data, Y_data, \r\n",
        "                                                    train_size=MY_SPLIT, shuffle=True)\r\n",
        "\r\n",
        "#X_train = X_data[:100] # 훈련 데이터 100개만 사용함\r\n",
        "#X_test = X_data[100:]\r\n",
        "#Y_train = Y_data[:100] # 훈련 데이터 100개만 사용함\r\n",
        "#Y_test = Y_data[100:]\r\n",
        "\r\n",
        "print(\"훈련 데이터 형상:\", X_train.shape)\r\n",
        "print(\"훈련 타깃 형상:\", Y_train.shape)\r\n",
        "print(\"검증 데이터 형상:\", X_test.shape)\r\n",
        "print(\"검증 타깃 형상:\", Y_test.shape)\r\n",
        "\r\n",
        "model = Sequential(name='DNN_7')\r\n",
        "# units 파라미터는 생략 가능\r\n",
        "model.add(Dense(name='DNN_7_1', units=MY_HIDDEN, input_dim=INPUT_DIM, activation='tanh'))\r\n",
        "model.add(Dense(name='DNN_7_2', units=MY_HIDDEN, activation='tanh'))\r\n",
        "model.add(Dense(name='DNN_7_output', units=1, activation='sigmoid'))\r\n",
        "model.summary()\r\n",
        "\r\n",
        "model.compile(optimizer='adam', loss='binary_crossentropy', metrics=['acc'])\r\n",
        "\r\n",
        "begin = time()\r\n",
        "model.fit(x=X_train, y=Y_train, epochs=MY_EPOCH, verbose=0)\r\n",
        "end = time()\r\n",
        "print(\"Learning time: {:.2f}sec\".format(end - begin))\r\n",
        "\r\n",
        "score = model.evaluate(x=X_test, y=Y_test, verbose=0)\r\n",
        "print(\"Total loss:\", score[0])\r\n",
        "print(\"Accuracy:\", score[1])\r\n",
        "\r\n",
        "pred = model.predict(X_test)\r\n",
        "pred = (pred > 0.5) # 추측값을 이진수로 전환 (Binary이므로)\r\n",
        "print(confusion_matrix(y_true=Y_test, y_pred=pred))\r\n",
        "#print(\"tn, fp, fn, tp:\", tn, fp, fn, tp)\r\n",
        "print(f1_score(y_true=Y_test, y_pred=pred, average='micro'))"
      ],
      "execution_count": 23,
      "outputs": [
        {
          "output_type": "stream",
          "text": [
            "(100, 14)\n",
            "훈련 데이터 형상: (70, 13)\n",
            "훈련 타깃 형상: (70,)\n",
            "검증 데이터 형상: (30, 13)\n",
            "검증 타깃 형상: (30,)\n",
            "Model: \"DNN_7\"\n",
            "_________________________________________________________________\n",
            "Layer (type)                 Output Shape              Param #   \n",
            "=================================================================\n",
            "DNN_7_1 (Dense)              (None, 500)               7000      \n",
            "_________________________________________________________________\n",
            "DNN_7_2 (Dense)              (None, 500)               250500    \n",
            "_________________________________________________________________\n",
            "DNN_7_output (Dense)         (None, 1)                 501       \n",
            "=================================================================\n",
            "Total params: 258,001\n",
            "Trainable params: 258,001\n",
            "Non-trainable params: 0\n",
            "_________________________________________________________________\n",
            "Learning time: 7.43sec\n",
            "WARNING:tensorflow:5 out of the last 11 calls to <function Model.make_test_function.<locals>.test_function at 0x7f0cec330158> triggered tf.function retracing. Tracing is expensive and the excessive number of tracings could be due to (1) creating @tf.function repeatedly in a loop, (2) passing tensors with different shapes, (3) passing Python objects instead of tensors. For (1), please define your @tf.function outside of the loop. For (2), @tf.function has experimental_relax_shapes=True option that relaxes argument shapes that can avoid unnecessary retracing. For (3), please refer to https://www.tensorflow.org/guide/function#controlling_retracing and https://www.tensorflow.org/api_docs/python/tf/function for  more details.\n",
            "Total loss: 1.6803416013717651\n",
            "Accuracy: 0.699999988079071\n",
            "WARNING:tensorflow:5 out of the last 11 calls to <function Model.make_predict_function.<locals>.predict_function at 0x7f0cec5e32f0> triggered tf.function retracing. Tracing is expensive and the excessive number of tracings could be due to (1) creating @tf.function repeatedly in a loop, (2) passing tensors with different shapes, (3) passing Python objects instead of tensors. For (1), please define your @tf.function outside of the loop. For (2), @tf.function has experimental_relax_shapes=True option that relaxes argument shapes that can avoid unnecessary retracing. For (3), please refer to https://www.tensorflow.org/guide/function#controlling_retracing and https://www.tensorflow.org/api_docs/python/tf/function for  more details.\n",
            "[[ 9  5]\n",
            " [ 4 12]]\n",
            "0.7\n"
          ],
          "name": "stdout"
        }
      ]
    }
  ]
}