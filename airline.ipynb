{
  "nbformat": 4,
  "nbformat_minor": 0,
  "metadata": {
    "colab": {
      "name": "airline.ipynb",
      "provenance": [],
      "mount_file_id": "1qwvfJ1-M9bm7WBW2zENRW36uHV_hm4gg",
      "authorship_tag": "ABX9TyOJDZsbIdcG0HKtvL2GWh/f",
      "include_colab_link": true
    },
    "kernelspec": {
      "name": "python3",
      "display_name": "Python 3"
    },
    "accelerator": "GPU"
  },
  "cells": [
    {
      "cell_type": "markdown",
      "metadata": {
        "id": "view-in-github",
        "colab_type": "text"
      },
      "source": [
        "<a href=\"https://colab.research.google.com/github/Marlrero/AI_PrimaryEducation/blob/main/airline.ipynb\" target=\"_parent\"><img src=\"https://colab.research.google.com/assets/colab-badge.svg\" alt=\"Open In Colab\"/></a>"
      ]
    },
    {
      "cell_type": "markdown",
      "metadata": {
        "id": "4RWWdOlrzNIs"
      },
      "source": [
        "### Keras RNN으로 여행자 수 예측"
      ]
    },
    {
      "cell_type": "markdown",
      "metadata": {
        "id": "uykO-IJYzSTy"
      },
      "source": [
        "#### 1. import package & set hyperparameters"
      ]
    },
    {
      "cell_type": "code",
      "metadata": {
        "id": "fk4vRVMNzKYK"
      },
      "source": [
        "import pandas as pd\r\n",
        "import numpy as np\r\n",
        "import matplotlib.pyplot as plt\r\n",
        "from time import time\r\n",
        "\r\n",
        "from sklearn.preprocessing import MinMaxScaler # 최대-최소 정규화\r\n",
        "from keras.layers import Dense, LSTM, InputLayer # LSTM(Long-Short Term Memory)\r\n",
        "from keras.models import Sequential"
      ],
      "execution_count": 1,
      "outputs": []
    },
    {
      "cell_type": "code",
      "metadata": {
        "id": "hEb95oN4zY0J"
      },
      "source": [
        "# hyperparameters\r\n",
        "MY_PAST = 12\r\n",
        "MY_SHAPE = (MY_PAST, 1)\r\n",
        "MY_HIDDEN = 300\r\n",
        "\r\n",
        "MY_SPLIT = 0.8\r\n",
        "MY_EPOCH = 300\r\n",
        "MY_BATCH = 64"
      ],
      "execution_count": 2,
      "outputs": []
    },
    {
      "cell_type": "markdown",
      "metadata": {
        "id": "UP9OOAc1zRwi"
      },
      "source": [
        "#### 2. read dataset"
      ]
    },
    {
      "cell_type": "code",
      "metadata": {
        "colab": {
          "base_uri": "https://localhost:8080/",
          "height": 514
        },
        "id": "ZZDWWPEM1OY3",
        "outputId": "f05bff2d-67e0-4c71-9e98-eca2ac27c9b2"
      },
      "source": [
        "# header=None으로 해야 맨 위에 header를 데이터로 인식함\r\n",
        "# usecols=[1]: 1번째 열만 사용한다는 의미\r\n",
        "df = pd.read_csv('/content/drive/MyDrive/dataset/airline.csv', header=None, usecols=[1])\r\n",
        "df.head(15)"
      ],
      "execution_count": 3,
      "outputs": [
        {
          "output_type": "execute_result",
          "data": {
            "text/html": [
              "<div>\n",
              "<style scoped>\n",
              "    .dataframe tbody tr th:only-of-type {\n",
              "        vertical-align: middle;\n",
              "    }\n",
              "\n",
              "    .dataframe tbody tr th {\n",
              "        vertical-align: top;\n",
              "    }\n",
              "\n",
              "    .dataframe thead th {\n",
              "        text-align: right;\n",
              "    }\n",
              "</style>\n",
              "<table border=\"1\" class=\"dataframe\">\n",
              "  <thead>\n",
              "    <tr style=\"text-align: right;\">\n",
              "      <th></th>\n",
              "      <th>1</th>\n",
              "    </tr>\n",
              "  </thead>\n",
              "  <tbody>\n",
              "    <tr>\n",
              "      <th>0</th>\n",
              "      <td>112</td>\n",
              "    </tr>\n",
              "    <tr>\n",
              "      <th>1</th>\n",
              "      <td>118</td>\n",
              "    </tr>\n",
              "    <tr>\n",
              "      <th>2</th>\n",
              "      <td>132</td>\n",
              "    </tr>\n",
              "    <tr>\n",
              "      <th>3</th>\n",
              "      <td>129</td>\n",
              "    </tr>\n",
              "    <tr>\n",
              "      <th>4</th>\n",
              "      <td>121</td>\n",
              "    </tr>\n",
              "    <tr>\n",
              "      <th>5</th>\n",
              "      <td>135</td>\n",
              "    </tr>\n",
              "    <tr>\n",
              "      <th>6</th>\n",
              "      <td>148</td>\n",
              "    </tr>\n",
              "    <tr>\n",
              "      <th>7</th>\n",
              "      <td>148</td>\n",
              "    </tr>\n",
              "    <tr>\n",
              "      <th>8</th>\n",
              "      <td>136</td>\n",
              "    </tr>\n",
              "    <tr>\n",
              "      <th>9</th>\n",
              "      <td>119</td>\n",
              "    </tr>\n",
              "    <tr>\n",
              "      <th>10</th>\n",
              "      <td>104</td>\n",
              "    </tr>\n",
              "    <tr>\n",
              "      <th>11</th>\n",
              "      <td>118</td>\n",
              "    </tr>\n",
              "    <tr>\n",
              "      <th>12</th>\n",
              "      <td>115</td>\n",
              "    </tr>\n",
              "    <tr>\n",
              "      <th>13</th>\n",
              "      <td>126</td>\n",
              "    </tr>\n",
              "    <tr>\n",
              "      <th>14</th>\n",
              "      <td>141</td>\n",
              "    </tr>\n",
              "  </tbody>\n",
              "</table>\n",
              "</div>"
            ],
            "text/plain": [
              "      1\n",
              "0   112\n",
              "1   118\n",
              "2   132\n",
              "3   129\n",
              "4   121\n",
              "5   135\n",
              "6   148\n",
              "7   148\n",
              "8   136\n",
              "9   119\n",
              "10  104\n",
              "11  118\n",
              "12  115\n",
              "13  126\n",
              "14  141"
            ]
          },
          "metadata": {
            "tags": []
          },
          "execution_count": 3
        }
      ]
    },
    {
      "cell_type": "code",
      "metadata": {
        "colab": {
          "base_uri": "https://localhost:8080/",
          "height": 297
        },
        "id": "n5f8QLas1Rwu",
        "outputId": "65beffd5-0ebd-4768-c3f1-3e604df69626"
      },
      "source": [
        "df.describe()"
      ],
      "execution_count": 4,
      "outputs": [
        {
          "output_type": "execute_result",
          "data": {
            "text/html": [
              "<div>\n",
              "<style scoped>\n",
              "    .dataframe tbody tr th:only-of-type {\n",
              "        vertical-align: middle;\n",
              "    }\n",
              "\n",
              "    .dataframe tbody tr th {\n",
              "        vertical-align: top;\n",
              "    }\n",
              "\n",
              "    .dataframe thead th {\n",
              "        text-align: right;\n",
              "    }\n",
              "</style>\n",
              "<table border=\"1\" class=\"dataframe\">\n",
              "  <thead>\n",
              "    <tr style=\"text-align: right;\">\n",
              "      <th></th>\n",
              "      <th>1</th>\n",
              "    </tr>\n",
              "  </thead>\n",
              "  <tbody>\n",
              "    <tr>\n",
              "      <th>count</th>\n",
              "      <td>144.000000</td>\n",
              "    </tr>\n",
              "    <tr>\n",
              "      <th>mean</th>\n",
              "      <td>280.298611</td>\n",
              "    </tr>\n",
              "    <tr>\n",
              "      <th>std</th>\n",
              "      <td>119.966317</td>\n",
              "    </tr>\n",
              "    <tr>\n",
              "      <th>min</th>\n",
              "      <td>104.000000</td>\n",
              "    </tr>\n",
              "    <tr>\n",
              "      <th>25%</th>\n",
              "      <td>180.000000</td>\n",
              "    </tr>\n",
              "    <tr>\n",
              "      <th>50%</th>\n",
              "      <td>265.500000</td>\n",
              "    </tr>\n",
              "    <tr>\n",
              "      <th>75%</th>\n",
              "      <td>360.500000</td>\n",
              "    </tr>\n",
              "    <tr>\n",
              "      <th>max</th>\n",
              "      <td>622.000000</td>\n",
              "    </tr>\n",
              "  </tbody>\n",
              "</table>\n",
              "</div>"
            ],
            "text/plain": [
              "                1\n",
              "count  144.000000\n",
              "mean   280.298611\n",
              "std    119.966317\n",
              "min    104.000000\n",
              "25%    180.000000\n",
              "50%    265.500000\n",
              "75%    360.500000\n",
              "max    622.000000"
            ]
          },
          "metadata": {
            "tags": []
          },
          "execution_count": 4
        }
      ]
    },
    {
      "cell_type": "code",
      "metadata": {
        "colab": {
          "base_uri": "https://localhost:8080/",
          "height": 338
        },
        "id": "JaLIwb214ymm",
        "outputId": "cd5d26d1-68ae-4582-cf56-c2ccc02c3974"
      },
      "source": [
        "plt.figure(figsize=(10,5))\r\n",
        "plt.plot(df)"
      ],
      "execution_count": 5,
      "outputs": [
        {
          "output_type": "execute_result",
          "data": {
            "text/plain": [
              "[<matplotlib.lines.Line2D at 0x7fa06a57acc0>]"
            ]
          },
          "metadata": {
            "tags": []
          },
          "execution_count": 5
        },
        {
          "output_type": "display_data",
          "data": {
            "image/png": "[encoded data removed]",
            "text/plain": [
              "<Figure size 720x360 with 1 Axes>"
            ]
          },
          "metadata": {
            "tags": [],
            "needs_background": "light"
          }
        }
      ]
    },
    {
      "cell_type": "markdown",
      "metadata": {
        "id": "H30BXck31t6A"
      },
      "source": [
        "#### 3. data preprocessing"
      ]
    },
    {
      "cell_type": "code",
      "metadata": {
        "colab": {
          "base_uri": "https://localhost:8080/"
        },
        "id": "X0QnQHtx1thg",
        "outputId": "a6c8762c-bf65-44e3-9a61-22a7aead3fb2"
      },
      "source": [
        "# Normalization\r\n",
        "scaler = MinMaxScaler()\r\n",
        "raw_DB = scaler.fit_transform(df) # pandas dataframe -> numpy array\r\n",
        "print(type(df), type(raw_DB))\r\n",
        "print(raw_DB.flatten()) # 1차원 배열로 펼침"
      ],
      "execution_count": 6,
      "outputs": [
        {
          "output_type": "stream",
          "text": [
            "<class 'pandas.core.frame.DataFrame'> <class 'numpy.ndarray'>\n",
            "[0.01544402 0.02702703 0.05405405 0.04826255 0.03281853 0.05984556\n",
            " 0.08494208 0.08494208 0.06177606 0.02895753 0.         0.02702703\n",
            " 0.02123552 0.04247104 0.07142857 0.05984556 0.04054054 0.08687259\n",
            " 0.12741313 0.12741313 0.1042471  0.05598456 0.01930502 0.06949807\n",
            " 0.07915058 0.08880309 0.14285714 0.11389961 0.13127413 0.14285714\n",
            " 0.18339768 0.18339768 0.15444015 0.11196911 0.08108108 0.11969112\n",
            " 0.12934363 0.14671815 0.17181467 0.14864865 0.15250965 0.22007722\n",
            " 0.24324324 0.26640927 0.2027027  0.16795367 0.13127413 0.17374517\n",
            " 0.17760618 0.17760618 0.25482625 0.25289575 0.24131274 0.26833977\n",
            " 0.30888031 0.32432432 0.25675676 0.20656371 0.14671815 0.18725869\n",
            " 0.19305019 0.16216216 0.25289575 0.23745174 0.25096525 0.30888031\n",
            " 0.38223938 0.36486486 0.2992278  0.24131274 0.19111969 0.24131274\n",
            " 0.26640927 0.24903475 0.31467181 0.31853282 0.32046332 0.40733591\n",
            " 0.5019305  0.46911197 0.4015444  0.32818533 0.25675676 0.33590734\n",
            " 0.34749035 0.33397683 0.41119691 0.4034749  0.41312741 0.52123552\n",
            " 0.5965251  0.58108108 0.48455598 0.38996139 0.32239382 0.38996139\n",
            " 0.40733591 0.38030888 0.48648649 0.47104247 0.48455598 0.61389961\n",
            " 0.6969112  0.7007722  0.57915058 0.46911197 0.38803089 0.44787645\n",
            " 0.45559846 0.41312741 0.4980695  0.47104247 0.5        0.63899614\n",
            " 0.74710425 0.77413127 0.57915058 0.49227799 0.3976834  0.44980695\n",
            " 0.49420849 0.45945946 0.58301158 0.56370656 0.61003861 0.71042471\n",
            " 0.85714286 0.87837838 0.69305019 0.58494208 0.4980695  0.58108108\n",
            " 0.6042471  0.55405405 0.60810811 0.68918919 0.71042471 0.83204633\n",
            " 1.         0.96911197 0.77992278 0.68918919 0.55212355 0.63320463]\n"
          ],
          "name": "stdout"
        }
      ]
    },
    {
      "cell_type": "markdown",
      "metadata": {
        "id": "Rj9nsyWx67aH"
      },
      "source": [
        "* MinMaxScaler는 숫자범위를 0 ~ 1까지로 만듦\r\n",
        "* StandardScaler는 숫자범위가 아니고, 평균을 0으로 만들고 표준편차를 1로 만들기만 하고 숫자범위가 지정되어 있지 않음"
      ]
    },
    {
      "cell_type": "code",
      "metadata": {
        "colab": {
          "base_uri": "https://localhost:8080/",
          "height": 338
        },
        "id": "WntPivPt7INJ",
        "outputId": "3ef63c06-e7d1-48a5-f1da-caf95adbaa87"
      },
      "source": [
        "plt.figure(figsize=(10,5))\r\n",
        "plt.plot(raw_DB)"
      ],
      "execution_count": 7,
      "outputs": [
        {
          "output_type": "execute_result",
          "data": {
            "text/plain": [
              "[<matplotlib.lines.Line2D at 0x7fa06a053e80>]"
            ]
          },
          "metadata": {
            "tags": []
          },
          "execution_count": 7
        },
        {
          "output_type": "display_data",
          "data": {
            "image/png": "[encoded data removed]",
            "text/plain": [
              "<Figure size 720x360 with 1 Axes>"
            ]
          },
          "metadata": {
            "tags": [],
            "needs_background": "light"
          }
        }
      ]
    },
    {
      "cell_type": "markdown",
      "metadata": {
        "id": "ryiwqCr27f2s"
      },
      "source": [
        "* 정규화를 한다고 패턴(모양)이 바뀌지 않고, y축 범위가 바뀜(즉, 값의 범위를 0 ~ 1로 하는 것 뿐임)"
      ]
    },
    {
      "cell_type": "code",
      "metadata": {
        "colab": {
          "base_uri": "https://localhost:8080/"
        },
        "id": "0VW1fO9x7o8V",
        "outputId": "af229a34-e57b-4f25-fcb3-ba97c2b9aab6"
      },
      "source": [
        "# 데이터 분할\r\n",
        "data = []\r\n",
        "\r\n",
        "# 0 ~ 전체 데이터 길이 - MY_PAST - 1까지\r\n",
        "for i in range(len(raw_DB) - MY_PAST):\r\n",
        "  data.append(raw_DB[i:i + MY_PAST + 1])\r\n",
        "\r\n",
        "print('한 묶음의 크기:', len(data[0]))\r\n",
        "print('총 데이터 묶음 개수:', len(data))\r\n",
        "print('첫번째 묶음:\\n', data[0])"
      ],
      "execution_count": 8,
      "outputs": [
        {
          "output_type": "stream",
          "text": [
            "한 묶음의 크기: 13\n",
            "총 데이터 묶음 개수: 132\n",
            "첫번째 묶음:\n",
            " [[0.01544402]\n",
            " [0.02702703]\n",
            " [0.05405405]\n",
            " [0.04826255]\n",
            " [0.03281853]\n",
            " [0.05984556]\n",
            " [0.08494208]\n",
            " [0.08494208]\n",
            " [0.06177606]\n",
            " [0.02895753]\n",
            " [0.        ]\n",
            " [0.02702703]\n",
            " [0.02123552]]\n"
          ],
          "name": "stdout"
        }
      ]
    },
    {
      "cell_type": "markdown",
      "metadata": {
        "id": "B0vDQcmvTq0h"
      },
      "source": [
        "* 12(12달=1년) + 1 = 13묶음\r\n",
        "  * 1년치를 보고 그 다음 1월을 예측한다. (RNN)\r\n",
        "* range(len(raw_DB) - MY_PAST)\r\n",
        "  * 예: raw_DB가 12개라면, MY_PAST를 3으로 하면\r\n",
        "        [0, 1, 2, 3, 4, 5, 6, 7, 8, 9, 10, 11]에서 \r\n",
        "        |<------------------------->|\r\n",
        "             여기까지 반복해야 (3 + 1(다음예측))을 가능\r\n",
        "        \r\n",
        "        [0, 1, 2, 3], [1, 2, 3, 4], [2, 3, 4, 5], ...\r\n",
        "        [8, 9, 10, 11] 까지\r\n",
        "\r\n",
        "  * 0 ~ 12, 1 ~ 13, ..., 131 ~ 143 (모두 132개)"
      ]
    },
    {
      "cell_type": "code",
      "metadata": {
        "colab": {
          "base_uri": "https://localhost:8080/"
        },
        "id": "mInQgVsWUscR",
        "outputId": "b45299e4-d517-467c-8b68-fd2bd84182eb"
      },
      "source": [
        "# data를 numpy로 전환한 후\r\n",
        "print(type(data)) \r\n",
        "data = np.array(data)\r\n",
        "print(type(data))\r\n",
        "\r\n",
        "# 묶음 데이터를 섞고\r\n",
        "np.random.shuffle(data) \r\n",
        "  # 데이터를 묶었기 때문에, 시계열 데이터 순서가 망가지지 않음\r\n",
        "  # 위에서 묶음 안에서 시계열은 그대로 유지되기 때문\r\n",
        "\r\n",
        "# 입력과 출력 분할\r\n",
        "print(\"분할 전 데이터 형상:\", data.shape) # (132*13) -> (132*13*1->한 값이 하나의 차원이 됨)\r\n",
        "X_data = data[:, 0:MY_PAST] # 모든 행에 대해 0 ~ MY_PAST - 1까지 뽑기\r\n",
        "Y_data = data[:, -1] # 모든 행에 대해 마지막 열 뽑기"
      ],
      "execution_count": 9,
      "outputs": [
        {
          "output_type": "stream",
          "text": [
            "<class 'list'>\n",
            "<class 'numpy.ndarray'>\n",
            "분할 전 데이터 형상: (132, 13, 1)\n"
          ],
          "name": "stdout"
        }
      ]
    },
    {
      "cell_type": "code",
      "metadata": {
        "colab": {
          "base_uri": "https://localhost:8080/"
        },
        "id": "Odg7ZcPvaTy3",
        "outputId": "3ce8cf42-4a4e-43db-a9a3-645cb1357c03"
      },
      "source": [
        "print(\"분할 후 데이터 형상:\", X_data.shape, Y_data.shape)\r\n",
        "\r\n",
        "split = int(data.shape[0] * MY_SPLIT)\r\n",
        "print(\"{} * {} = {}\".format(int(data.shape[0]), MY_SPLIT, split))\r\n",
        "X_train = X_data[:split] # 0 ~ 105\r\n",
        "X_test = X_data[split:]  # 105 ~ 132 (132 - 105 = 27)\r\n",
        "Y_train = Y_data[:split] # 0 ~ 105\r\n",
        "Y_test = Y_data[split:]  # 105 ~ 132 (132 - 105 = 27)\r\n",
        "\r\n",
        "print(\"훈련 데이터 형상:\", X_train.shape)\r\n",
        "print(\"훈련 타깃 형상:\", Y_train.shape)\r\n",
        "print(\"검증 데이터 형상:\", X_test.shape)\r\n",
        "print(\"검증 타깃 형상:\", Y_test.shape)"
      ],
      "execution_count": 10,
      "outputs": [
        {
          "output_type": "stream",
          "text": [
            "분할 후 데이터 형상: (132, 12, 1) (132, 1)\n",
            "132 * 0.8 = 105\n",
            "훈련 데이터 형상: (105, 12, 1)\n",
            "훈련 타깃 형상: (105, 1)\n",
            "검증 데이터 형상: (27, 12, 1)\n",
            "검증 타깃 형상: (27, 1)\n"
          ],
          "name": "stdout"
        }
      ]
    },
    {
      "cell_type": "code",
      "metadata": {
        "colab": {
          "base_uri": "https://localhost:8080/"
        },
        "id": "tbepKzucdUdy",
        "outputId": "cb357e3f-3a61-405f-9abc-1caaa5699501"
      },
      "source": [
        "# 이렇게 해도 됨\r\n",
        "from sklearn.model_selection import train_test_split\r\n",
        "\r\n",
        "X_train, X_test, Y_train, Y_test = train_test_split(X_data, Y_data, test_size=1.0 - MY_SPLIT)\r\n",
        "# or train_size=MY_SPLIT으로 해도 됨\r\n",
        "print(\"훈련 데이터 형상:\", X_train.shape)\r\n",
        "print(\"훈련 타깃 형상:\", Y_train.shape)\r\n",
        "print(\"검증 데이터 형상:\", X_test.shape)\r\n",
        "print(\"검증 타깃 형상:\", Y_test.shape)"
      ],
      "execution_count": 11,
      "outputs": [
        {
          "output_type": "stream",
          "text": [
            "훈련 데이터 형상: (105, 12, 1)\n",
            "훈련 타깃 형상: (105, 1)\n",
            "검증 데이터 형상: (27, 12, 1)\n",
            "검증 타깃 형상: (27, 1)\n"
          ],
          "name": "stdout"
        }
      ]
    },
    {
      "cell_type": "markdown",
      "metadata": {
        "id": "cP4CsUHge5Ks"
      },
      "source": [
        "#### 4. model creating"
      ]
    },
    {
      "cell_type": "code",
      "metadata": {
        "colab": {
          "base_uri": "https://localhost:8080/"
        },
        "id": "0_mPnq0ce_gm",
        "outputId": "4ad93e9d-9f45-49cb-f771-8944321203ee"
      },
      "source": [
        "model = Sequential()\r\n",
        "\r\n",
        "model.add(InputLayer(input_shape=MY_SHAPE)) # 12*1\r\n",
        "model.add(LSTM(units=MY_HIDDEN))\r\n",
        "model.add(Dense(units=1, activation=\"sigmoid\"))\r\n",
        "# 파라미터 개수 = 300 + 1(편향) = 301\r\n",
        "# softmax = 숫자 여러 개를 확률로 만들어줌 (classification)\r\n",
        "# sigmoid = 숫자 1개를 0 ~ 1 사이로 정규화 (regression)\r\n",
        "model.summary()"
      ],
      "execution_count": 12,
      "outputs": [
        {
          "output_type": "stream",
          "text": [
            "Model: \"sequential\"\n",
            "_________________________________________________________________\n",
            "Layer (type)                 Output Shape              Param #   \n",
            "=================================================================\n",
            "lstm (LSTM)                  (None, 300)               362400    \n",
            "_________________________________________________________________\n",
            "dense (Dense)                (None, 1)                 301       \n",
            "=================================================================\n",
            "Total params: 362,701\n",
            "Trainable params: 362,701\n",
            "Non-trainable params: 0\n",
            "_________________________________________________________________\n"
          ],
          "name": "stdout"
        }
      ]
    },
    {
      "cell_type": "markdown",
      "metadata": {
        "id": "uvxmor-OnhwI"
      },
      "source": [
        "#### 5. Learning"
      ]
    },
    {
      "cell_type": "code",
      "metadata": {
        "id": "BKCVkZhBnlIc"
      },
      "source": [
        "# mape(mean absolute percentage error)\r\n",
        "#  100 * mean(abs((y_true - y_pred) / y_true), axis=-1)\r\n",
        "#  regression -> loss -> mae, rmse(mse)\r\n",
        "#  classification -> loss -> cross-entropy\r\n",
        "model.compile(optimizer='rmsprop', loss='mape', metrics=['acc'])"
      ],
      "execution_count": 13,
      "outputs": []
    },
    {
      "cell_type": "code",
      "metadata": {
        "colab": {
          "base_uri": "https://localhost:8080/"
        },
        "id": "nuc5xKXZo6NZ",
        "outputId": "56bac2cc-5a9f-48b9-d959-2cfb389b2207"
      },
      "source": [
        "begin = time()\r\n",
        "# 132개 밖에 안되서 batch_size 사용 안함\r\n",
        "model.fit(x=X_train, y=Y_train, epochs=MY_EPOCH, verbose=2)\r\n",
        "end = time()\r\n",
        "print(\"Learning time: {:.2f}sec\".format(end - begin))"
      ],
      "execution_count": 14,
      "outputs": [
        {
          "output_type": "stream",
          "text": [
            "Epoch 1/300\n",
            "4/4 - 8s - loss: 116.9880 - acc: 0.0000e+00\n",
            "Epoch 2/300\n",
            "4/4 - 0s - loss: 99.7285 - acc: 0.0000e+00\n",
            "Epoch 3/300\n",
            "4/4 - 0s - loss: 99.3075 - acc: 0.0000e+00\n",
            "Epoch 4/300\n",
            "4/4 - 0s - loss: 93.1375 - acc: 0.0000e+00\n",
            "Epoch 5/300\n",
            "4/4 - 0s - loss: 71.0134 - acc: 0.0000e+00\n",
            "Epoch 6/300\n",
            "4/4 - 0s - loss: 65.6499 - acc: 0.0000e+00\n",
            "Epoch 7/300\n",
            "4/4 - 0s - loss: 67.3990 - acc: 0.0000e+00\n",
            "Epoch 8/300\n",
            "4/4 - 0s - loss: 64.7020 - acc: 0.0000e+00\n",
            "Epoch 9/300\n",
            "4/4 - 0s - loss: 43.3117 - acc: 0.0095\n",
            "Epoch 10/300\n",
            "4/4 - 0s - loss: 58.2978 - acc: 0.0000e+00\n",
            "Epoch 11/300\n",
            "4/4 - 0s - loss: 44.4497 - acc: 0.0000e+00\n",
            "Epoch 12/300\n",
            "4/4 - 0s - loss: 41.5496 - acc: 0.0000e+00\n",
            "Epoch 13/300\n",
            "4/4 - 0s - loss: 41.5059 - acc: 0.0000e+00\n",
            "Epoch 14/300\n",
            "4/4 - 0s - loss: 33.6827 - acc: 0.0095\n",
            "Epoch 15/300\n",
            "4/4 - 0s - loss: 48.5192 - acc: 0.0000e+00\n",
            "Epoch 16/300\n",
            "4/4 - 0s - loss: 39.9287 - acc: 0.0095\n",
            "Epoch 17/300\n",
            "4/4 - 0s - loss: 35.6374 - acc: 0.0095\n",
            "Epoch 18/300\n",
            "4/4 - 0s - loss: 42.4348 - acc: 0.0000e+00\n",
            "Epoch 19/300\n",
            "4/4 - 0s - loss: 30.8713 - acc: 0.0095\n",
            "Epoch 20/300\n",
            "4/4 - 0s - loss: 35.6576 - acc: 0.0095\n",
            "Epoch 21/300\n",
            "4/4 - 0s - loss: 32.9644 - acc: 0.0000e+00\n",
            "Epoch 22/300\n",
            "4/4 - 0s - loss: 31.0899 - acc: 0.0095\n",
            "Epoch 23/300\n",
            "4/4 - 0s - loss: 32.6261 - acc: 0.0095\n",
            "Epoch 24/300\n",
            "4/4 - 0s - loss: 34.2394 - acc: 0.0000e+00\n",
            "Epoch 25/300\n",
            "4/4 - 0s - loss: 37.2878 - acc: 0.0095\n",
            "Epoch 26/300\n",
            "4/4 - 0s - loss: 33.5906 - acc: 0.0095\n",
            "Epoch 27/300\n",
            "4/4 - 0s - loss: 37.1373 - acc: 0.0095\n",
            "Epoch 28/300\n",
            "4/4 - 0s - loss: 30.6028 - acc: 0.0095\n",
            "Epoch 29/300\n",
            "4/4 - 0s - loss: 37.8567 - acc: 0.0095\n",
            "Epoch 30/300\n",
            "4/4 - 0s - loss: 26.2522 - acc: 0.0095\n",
            "Epoch 31/300\n",
            "4/4 - 0s - loss: 41.5917 - acc: 0.0000e+00\n",
            "Epoch 32/300\n",
            "4/4 - 0s - loss: 34.0119 - acc: 0.0095\n",
            "Epoch 33/300\n",
            "4/4 - 0s - loss: 27.9075 - acc: 0.0095\n",
            "Epoch 34/300\n",
            "4/4 - 0s - loss: 29.0136 - acc: 0.0095\n",
            "Epoch 35/300\n",
            "4/4 - 0s - loss: 26.8828 - acc: 0.0095\n",
            "Epoch 36/300\n",
            "4/4 - 0s - loss: 25.0685 - acc: 0.0095\n",
            "Epoch 37/300\n",
            "4/4 - 0s - loss: 38.3318 - acc: 0.0095\n",
            "Epoch 38/300\n",
            "4/4 - 0s - loss: 27.7031 - acc: 0.0095\n",
            "Epoch 39/300\n",
            "4/4 - 0s - loss: 21.7152 - acc: 0.0095\n",
            "Epoch 40/300\n",
            "4/4 - 0s - loss: 32.4235 - acc: 0.0000e+00\n",
            "Epoch 41/300\n",
            "4/4 - 0s - loss: 25.0180 - acc: 0.0095\n",
            "Epoch 42/300\n",
            "4/4 - 0s - loss: 31.3860 - acc: 0.0095\n",
            "Epoch 43/300\n",
            "4/4 - 0s - loss: 27.3168 - acc: 0.0095\n",
            "Epoch 44/300\n",
            "4/4 - 0s - loss: 32.6816 - acc: 0.0095\n",
            "Epoch 45/300\n",
            "4/4 - 0s - loss: 22.6224 - acc: 0.0095\n",
            "Epoch 46/300\n",
            "4/4 - 0s - loss: 29.6137 - acc: 0.0095\n",
            "Epoch 47/300\n",
            "4/4 - 0s - loss: 31.6982 - acc: 0.0095\n",
            "Epoch 48/300\n",
            "4/4 - 0s - loss: 23.4995 - acc: 0.0095\n",
            "Epoch 49/300\n",
            "4/4 - 0s - loss: 26.2898 - acc: 0.0095\n",
            "Epoch 50/300\n",
            "4/4 - 0s - loss: 35.6324 - acc: 0.0095\n",
            "Epoch 51/300\n",
            "4/4 - 0s - loss: 26.8572 - acc: 0.0095\n",
            "Epoch 52/300\n",
            "4/4 - 0s - loss: 31.6924 - acc: 0.0095\n",
            "Epoch 53/300\n",
            "4/4 - 0s - loss: 24.9422 - acc: 0.0095\n",
            "Epoch 54/300\n",
            "4/4 - 0s - loss: 30.3028 - acc: 0.0095\n",
            "Epoch 55/300\n",
            "4/4 - 0s - loss: 29.0324 - acc: 0.0095\n",
            "Epoch 56/300\n",
            "4/4 - 0s - loss: 25.8568 - acc: 0.0095\n",
            "Epoch 57/300\n",
            "4/4 - 0s - loss: 22.3624 - acc: 0.0095\n",
            "Epoch 58/300\n",
            "4/4 - 0s - loss: 28.5881 - acc: 0.0095\n",
            "Epoch 59/300\n",
            "4/4 - 0s - loss: 25.3409 - acc: 0.0095\n",
            "Epoch 60/300\n",
            "4/4 - 0s - loss: 22.8652 - acc: 0.0095\n",
            "Epoch 61/300\n",
            "4/4 - 0s - loss: 25.4273 - acc: 0.0095\n",
            "Epoch 62/300\n",
            "4/4 - 0s - loss: 35.0647 - acc: 0.0095\n",
            "Epoch 63/300\n",
            "4/4 - 0s - loss: 25.1836 - acc: 0.0095\n",
            "Epoch 64/300\n",
            "4/4 - 0s - loss: 25.8374 - acc: 0.0095\n",
            "Epoch 65/300\n",
            "4/4 - 0s - loss: 22.8061 - acc: 0.0095\n",
            "Epoch 66/300\n",
            "4/4 - 0s - loss: 26.0652 - acc: 0.0095\n",
            "Epoch 67/300\n",
            "4/4 - 0s - loss: 34.4216 - acc: 0.0095\n",
            "Epoch 68/300\n",
            "4/4 - 0s - loss: 20.3321 - acc: 0.0095\n",
            "Epoch 69/300\n",
            "4/4 - 0s - loss: 24.8078 - acc: 0.0095\n",
            "Epoch 70/300\n",
            "4/4 - 0s - loss: 28.4354 - acc: 0.0095\n",
            "Epoch 71/300\n",
            "4/4 - 0s - loss: 25.0141 - acc: 0.0095\n",
            "Epoch 72/300\n",
            "4/4 - 0s - loss: 19.8821 - acc: 0.0095\n",
            "Epoch 73/300\n",
            "4/4 - 0s - loss: 26.3588 - acc: 0.0095\n",
            "Epoch 74/300\n",
            "4/4 - 0s - loss: 20.9750 - acc: 0.0095\n",
            "Epoch 75/300\n",
            "4/4 - 0s - loss: 22.2709 - acc: 0.0095\n",
            "Epoch 76/300\n",
            "4/4 - 0s - loss: 24.6436 - acc: 0.0095\n",
            "Epoch 77/300\n",
            "4/4 - 0s - loss: 24.9081 - acc: 0.0095\n",
            "Epoch 78/300\n",
            "4/4 - 0s - loss: 33.5213 - acc: 0.0095\n",
            "Epoch 79/300\n",
            "4/4 - 0s - loss: 21.0117 - acc: 0.0095\n",
            "Epoch 80/300\n",
            "4/4 - 0s - loss: 21.4737 - acc: 0.0095\n",
            "Epoch 81/300\n",
            "4/4 - 0s - loss: 27.1771 - acc: 0.0095\n",
            "Epoch 82/300\n",
            "4/4 - 0s - loss: 27.1846 - acc: 0.0095\n",
            "Epoch 83/300\n",
            "4/4 - 0s - loss: 19.7990 - acc: 0.0095\n",
            "Epoch 84/300\n",
            "4/4 - 0s - loss: 19.3880 - acc: 0.0095\n",
            "Epoch 85/300\n",
            "4/4 - 0s - loss: 31.4665 - acc: 0.0095\n",
            "Epoch 86/300\n",
            "4/4 - 0s - loss: 19.0129 - acc: 0.0095\n",
            "Epoch 87/300\n",
            "4/4 - 0s - loss: 22.7627 - acc: 0.0095\n",
            "Epoch 88/300\n",
            "4/4 - 0s - loss: 26.3067 - acc: 0.0095\n",
            "Epoch 89/300\n",
            "4/4 - 0s - loss: 19.9444 - acc: 0.0095\n",
            "Epoch 90/300\n",
            "4/4 - 0s - loss: 23.0505 - acc: 0.0095\n",
            "Epoch 91/300\n",
            "4/4 - 0s - loss: 20.5501 - acc: 0.0095\n",
            "Epoch 92/300\n",
            "4/4 - 0s - loss: 26.1696 - acc: 0.0095\n",
            "Epoch 93/300\n",
            "4/4 - 0s - loss: 20.9500 - acc: 0.0095\n",
            "Epoch 94/300\n",
            "4/4 - 0s - loss: 23.8110 - acc: 0.0095\n",
            "Epoch 95/300\n",
            "4/4 - 0s - loss: 20.7591 - acc: 0.0095\n",
            "Epoch 96/300\n",
            "4/4 - 0s - loss: 20.6696 - acc: 0.0095\n",
            "Epoch 97/300\n",
            "4/4 - 0s - loss: 20.2641 - acc: 0.0095\n",
            "Epoch 98/300\n",
            "4/4 - 0s - loss: 18.5799 - acc: 0.0095\n",
            "Epoch 99/300\n",
            "4/4 - 0s - loss: 29.9401 - acc: 0.0095\n",
            "Epoch 100/300\n",
            "4/4 - 0s - loss: 21.8300 - acc: 0.0095\n",
            "Epoch 101/300\n",
            "4/4 - 0s - loss: 18.1447 - acc: 0.0095\n",
            "Epoch 102/300\n",
            "4/4 - 0s - loss: 24.0805 - acc: 0.0095\n",
            "Epoch 103/300\n",
            "4/4 - 0s - loss: 28.7988 - acc: 0.0095\n",
            "Epoch 104/300\n",
            "4/4 - 0s - loss: 26.8456 - acc: 0.0095\n",
            "Epoch 105/300\n",
            "4/4 - 0s - loss: 26.6177 - acc: 0.0095\n",
            "Epoch 106/300\n",
            "4/4 - 0s - loss: 17.7064 - acc: 0.0095\n",
            "Epoch 107/300\n",
            "4/4 - 0s - loss: 20.1070 - acc: 0.0095\n",
            "Epoch 108/300\n",
            "4/4 - 0s - loss: 23.4964 - acc: 0.0095\n",
            "Epoch 109/300\n",
            "4/4 - 0s - loss: 26.0232 - acc: 0.0095\n",
            "Epoch 110/300\n",
            "4/4 - 0s - loss: 24.1662 - acc: 0.0095\n",
            "Epoch 111/300\n",
            "4/4 - 0s - loss: 20.1677 - acc: 0.0095\n",
            "Epoch 112/300\n",
            "4/4 - 0s - loss: 19.4650 - acc: 0.0095\n",
            "Epoch 113/300\n",
            "4/4 - 0s - loss: 18.4085 - acc: 0.0095\n",
            "Epoch 114/300\n",
            "4/4 - 0s - loss: 18.8073 - acc: 0.0095\n",
            "Epoch 115/300\n",
            "4/4 - 0s - loss: 18.9995 - acc: 0.0095\n",
            "Epoch 116/300\n",
            "4/4 - 0s - loss: 31.1241 - acc: 0.0095\n",
            "Epoch 117/300\n",
            "4/4 - 0s - loss: 21.8226 - acc: 0.0095\n",
            "Epoch 118/300\n",
            "4/4 - 0s - loss: 20.9055 - acc: 0.0095\n",
            "Epoch 119/300\n",
            "4/4 - 0s - loss: 16.1154 - acc: 0.0095\n",
            "Epoch 120/300\n",
            "4/4 - 0s - loss: 18.9605 - acc: 0.0095\n",
            "Epoch 121/300\n",
            "4/4 - 0s - loss: 23.8310 - acc: 0.0095\n",
            "Epoch 122/300\n",
            "4/4 - 0s - loss: 18.2454 - acc: 0.0095\n",
            "Epoch 123/300\n",
            "4/4 - 0s - loss: 18.1162 - acc: 0.0095\n",
            "Epoch 124/300\n",
            "4/4 - 0s - loss: 16.3002 - acc: 0.0095\n",
            "Epoch 125/300\n",
            "4/4 - 0s - loss: 24.5629 - acc: 0.0095\n",
            "Epoch 126/300\n",
            "4/4 - 0s - loss: 21.1941 - acc: 0.0095\n",
            "Epoch 127/300\n",
            "4/4 - 0s - loss: 23.6180 - acc: 0.0095\n",
            "Epoch 128/300\n",
            "4/4 - 0s - loss: 20.4047 - acc: 0.0095\n",
            "Epoch 129/300\n",
            "4/4 - 0s - loss: 17.2870 - acc: 0.0095\n",
            "Epoch 130/300\n",
            "4/4 - 0s - loss: 21.2012 - acc: 0.0095\n",
            "Epoch 131/300\n",
            "4/4 - 0s - loss: 17.3539 - acc: 0.0095\n",
            "Epoch 132/300\n",
            "4/4 - 0s - loss: 18.7685 - acc: 0.0095\n",
            "Epoch 133/300\n",
            "4/4 - 0s - loss: 16.5220 - acc: 0.0095\n",
            "Epoch 134/300\n",
            "4/4 - 0s - loss: 15.8476 - acc: 0.0095\n",
            "Epoch 135/300\n",
            "4/4 - 0s - loss: 23.2852 - acc: 0.0095\n",
            "Epoch 136/300\n",
            "4/4 - 0s - loss: 26.5695 - acc: 0.0095\n",
            "Epoch 137/300\n",
            "4/4 - 0s - loss: 22.2238 - acc: 0.0095\n",
            "Epoch 138/300\n",
            "4/4 - 0s - loss: 17.5067 - acc: 0.0095\n",
            "Epoch 139/300\n",
            "4/4 - 0s - loss: 18.7119 - acc: 0.0095\n",
            "Epoch 140/300\n",
            "4/4 - 0s - loss: 27.4335 - acc: 0.0095\n",
            "Epoch 141/300\n",
            "4/4 - 0s - loss: 17.6794 - acc: 0.0095\n",
            "Epoch 142/300\n",
            "4/4 - 0s - loss: 22.7321 - acc: 0.0095\n",
            "Epoch 143/300\n",
            "4/4 - 0s - loss: 20.7308 - acc: 0.0095\n",
            "Epoch 144/300\n",
            "4/4 - 0s - loss: 17.0786 - acc: 0.0095\n",
            "Epoch 145/300\n",
            "4/4 - 0s - loss: 20.0488 - acc: 0.0095\n",
            "Epoch 146/300\n",
            "4/4 - 0s - loss: 23.2435 - acc: 0.0095\n",
            "Epoch 147/300\n",
            "4/4 - 0s - loss: 21.2077 - acc: 0.0095\n",
            "Epoch 148/300\n",
            "4/4 - 0s - loss: 14.8915 - acc: 0.0095\n",
            "Epoch 149/300\n",
            "4/4 - 0s - loss: 14.0687 - acc: 0.0095\n",
            "Epoch 150/300\n",
            "4/4 - 0s - loss: 20.3250 - acc: 0.0095\n",
            "Epoch 151/300\n",
            "4/4 - 0s - loss: 20.9388 - acc: 0.0095\n",
            "Epoch 152/300\n",
            "4/4 - 0s - loss: 21.7277 - acc: 0.0095\n",
            "Epoch 153/300\n",
            "4/4 - 0s - loss: 22.1561 - acc: 0.0095\n",
            "Epoch 154/300\n",
            "4/4 - 0s - loss: 17.0461 - acc: 0.0095\n",
            "Epoch 155/300\n",
            "4/4 - 0s - loss: 17.5298 - acc: 0.0095\n",
            "Epoch 156/300\n",
            "4/4 - 0s - loss: 19.1087 - acc: 0.0095\n",
            "Epoch 157/300\n",
            "4/4 - 0s - loss: 21.1112 - acc: 0.0095\n",
            "Epoch 158/300\n",
            "4/4 - 0s - loss: 17.0357 - acc: 0.0095\n",
            "Epoch 159/300\n",
            "4/4 - 0s - loss: 20.4487 - acc: 0.0095\n",
            "Epoch 160/300\n",
            "4/4 - 0s - loss: 18.7771 - acc: 0.0095\n",
            "Epoch 161/300\n",
            "4/4 - 0s - loss: 17.0382 - acc: 0.0095\n",
            "Epoch 162/300\n",
            "4/4 - 0s - loss: 19.1586 - acc: 0.0095\n",
            "Epoch 163/300\n",
            "4/4 - 0s - loss: 22.5362 - acc: 0.0095\n",
            "Epoch 164/300\n",
            "4/4 - 0s - loss: 18.1996 - acc: 0.0095\n",
            "Epoch 165/300\n",
            "4/4 - 0s - loss: 17.1667 - acc: 0.0095\n",
            "Epoch 166/300\n",
            "4/4 - 0s - loss: 24.0322 - acc: 0.0095\n",
            "Epoch 167/300\n",
            "4/4 - 0s - loss: 21.5432 - acc: 0.0095\n",
            "Epoch 168/300\n",
            "4/4 - 0s - loss: 17.3591 - acc: 0.0095\n",
            "Epoch 169/300\n",
            "4/4 - 0s - loss: 20.9697 - acc: 0.0095\n",
            "Epoch 170/300\n",
            "4/4 - 0s - loss: 15.2660 - acc: 0.0095\n",
            "Epoch 171/300\n",
            "4/4 - 0s - loss: 20.6599 - acc: 0.0095\n",
            "Epoch 172/300\n",
            "4/4 - 0s - loss: 16.4225 - acc: 0.0095\n",
            "Epoch 173/300\n",
            "4/4 - 0s - loss: 16.8459 - acc: 0.0095\n",
            "Epoch 174/300\n",
            "4/4 - 0s - loss: 17.9867 - acc: 0.0095\n",
            "Epoch 175/300\n",
            "4/4 - 0s - loss: 17.5588 - acc: 0.0095\n",
            "Epoch 176/300\n",
            "4/4 - 0s - loss: 20.6788 - acc: 0.0095\n",
            "Epoch 177/300\n",
            "4/4 - 0s - loss: 16.4090 - acc: 0.0095\n",
            "Epoch 178/300\n",
            "4/4 - 0s - loss: 20.2156 - acc: 0.0095\n",
            "Epoch 179/300\n",
            "4/4 - 0s - loss: 15.8504 - acc: 0.0095\n",
            "Epoch 180/300\n",
            "4/4 - 0s - loss: 18.4035 - acc: 0.0095\n",
            "Epoch 181/300\n",
            "4/4 - 0s - loss: 14.0803 - acc: 0.0095\n",
            "Epoch 182/300\n",
            "4/4 - 0s - loss: 18.6054 - acc: 0.0095\n",
            "Epoch 183/300\n",
            "4/4 - 0s - loss: 20.1142 - acc: 0.0095\n",
            "Epoch 184/300\n",
            "4/4 - 0s - loss: 19.2667 - acc: 0.0095\n",
            "Epoch 185/300\n",
            "4/4 - 0s - loss: 20.7697 - acc: 0.0095\n",
            "Epoch 186/300\n",
            "4/4 - 0s - loss: 19.6551 - acc: 0.0095\n",
            "Epoch 187/300\n",
            "4/4 - 0s - loss: 15.4623 - acc: 0.0095\n",
            "Epoch 188/300\n",
            "4/4 - 0s - loss: 13.4998 - acc: 0.0095\n",
            "Epoch 189/300\n",
            "4/4 - 0s - loss: 20.2570 - acc: 0.0095\n",
            "Epoch 190/300\n",
            "4/4 - 0s - loss: 17.7615 - acc: 0.0095\n",
            "Epoch 191/300\n",
            "4/4 - 0s - loss: 16.1321 - acc: 0.0095\n",
            "Epoch 192/300\n",
            "4/4 - 0s - loss: 20.0012 - acc: 0.0095\n",
            "Epoch 193/300\n",
            "4/4 - 0s - loss: 17.1744 - acc: 0.0095\n",
            "Epoch 194/300\n",
            "4/4 - 0s - loss: 15.2279 - acc: 0.0095\n",
            "Epoch 195/300\n",
            "4/4 - 0s - loss: 18.7910 - acc: 0.0095\n",
            "Epoch 196/300\n",
            "4/4 - 0s - loss: 15.9055 - acc: 0.0095\n",
            "Epoch 197/300\n",
            "4/4 - 0s - loss: 16.2740 - acc: 0.0095\n",
            "Epoch 198/300\n",
            "4/4 - 0s - loss: 16.6087 - acc: 0.0095\n",
            "Epoch 199/300\n",
            "4/4 - 0s - loss: 20.7966 - acc: 0.0095\n",
            "Epoch 200/300\n",
            "4/4 - 0s - loss: 18.1223 - acc: 0.0095\n",
            "Epoch 201/300\n",
            "4/4 - 0s - loss: 16.9449 - acc: 0.0095\n",
            "Epoch 202/300\n",
            "4/4 - 0s - loss: 14.8306 - acc: 0.0095\n",
            "Epoch 203/300\n",
            "4/4 - 0s - loss: 20.0290 - acc: 0.0095\n",
            "Epoch 204/300\n",
            "4/4 - 0s - loss: 16.4169 - acc: 0.0095\n",
            "Epoch 205/300\n",
            "4/4 - 0s - loss: 16.1785 - acc: 0.0095\n",
            "Epoch 206/300\n",
            "4/4 - 0s - loss: 18.4713 - acc: 0.0095\n",
            "Epoch 207/300\n",
            "4/4 - 0s - loss: 16.9688 - acc: 0.0095\n",
            "Epoch 208/300\n",
            "4/4 - 0s - loss: 16.0953 - acc: 0.0095\n",
            "Epoch 209/300\n",
            "4/4 - 0s - loss: 13.8955 - acc: 0.0095\n",
            "Epoch 210/300\n",
            "4/4 - 0s - loss: 17.9379 - acc: 0.0095\n",
            "Epoch 211/300\n",
            "4/4 - 0s - loss: 13.9072 - acc: 0.0095\n",
            "Epoch 212/300\n",
            "4/4 - 0s - loss: 19.4238 - acc: 0.0095\n",
            "Epoch 213/300\n",
            "4/4 - 0s - loss: 22.2233 - acc: 0.0095\n",
            "Epoch 214/300\n",
            "4/4 - 0s - loss: 12.8162 - acc: 0.0095\n",
            "Epoch 215/300\n",
            "4/4 - 0s - loss: 12.8572 - acc: 0.0095\n",
            "Epoch 216/300\n",
            "4/4 - 0s - loss: 18.4721 - acc: 0.0095\n",
            "Epoch 217/300\n",
            "4/4 - 0s - loss: 17.9779 - acc: 0.0095\n",
            "Epoch 218/300\n",
            "4/4 - 0s - loss: 17.0882 - acc: 0.0095\n",
            "Epoch 219/300\n",
            "4/4 - 0s - loss: 16.4026 - acc: 0.0095\n",
            "Epoch 220/300\n",
            "4/4 - 0s - loss: 17.7833 - acc: 0.0095\n",
            "Epoch 221/300\n",
            "4/4 - 0s - loss: 13.3386 - acc: 0.0095\n",
            "Epoch 222/300\n",
            "4/4 - 0s - loss: 16.2506 - acc: 0.0095\n",
            "Epoch 223/300\n",
            "4/4 - 0s - loss: 19.4387 - acc: 0.0095\n",
            "Epoch 224/300\n",
            "4/4 - 0s - loss: 16.0677 - acc: 0.0095\n",
            "Epoch 225/300\n",
            "4/4 - 0s - loss: 14.1635 - acc: 0.0095\n",
            "Epoch 226/300\n",
            "4/4 - 0s - loss: 18.9748 - acc: 0.0095\n",
            "Epoch 227/300\n",
            "4/4 - 0s - loss: 12.5352 - acc: 0.0095\n",
            "Epoch 228/300\n",
            "4/4 - 0s - loss: 14.9302 - acc: 0.0095\n",
            "Epoch 229/300\n",
            "4/4 - 0s - loss: 20.7161 - acc: 0.0095\n",
            "Epoch 230/300\n",
            "4/4 - 0s - loss: 21.5833 - acc: 0.0095\n",
            "Epoch 231/300\n",
            "4/4 - 0s - loss: 14.2996 - acc: 0.0095\n",
            "Epoch 232/300\n",
            "4/4 - 0s - loss: 18.3898 - acc: 0.0095\n",
            "Epoch 233/300\n",
            "4/4 - 0s - loss: 14.9470 - acc: 0.0095\n",
            "Epoch 234/300\n",
            "4/4 - 0s - loss: 17.6950 - acc: 0.0095\n",
            "Epoch 235/300\n",
            "4/4 - 0s - loss: 18.8844 - acc: 0.0095\n",
            "Epoch 236/300\n",
            "4/4 - 0s - loss: 17.1010 - acc: 0.0095\n",
            "Epoch 237/300\n",
            "4/4 - 0s - loss: 16.0013 - acc: 0.0095\n",
            "Epoch 238/300\n",
            "4/4 - 0s - loss: 15.0949 - acc: 0.0095\n",
            "Epoch 239/300\n",
            "4/4 - 0s - loss: 17.1544 - acc: 0.0095\n",
            "Epoch 240/300\n",
            "4/4 - 0s - loss: 13.2099 - acc: 0.0095\n",
            "Epoch 241/300\n",
            "4/4 - 0s - loss: 15.2740 - acc: 0.0095\n",
            "Epoch 242/300\n",
            "4/4 - 0s - loss: 19.9952 - acc: 0.0095\n",
            "Epoch 243/300\n",
            "4/4 - 0s - loss: 15.0853 - acc: 0.0095\n",
            "Epoch 244/300\n",
            "4/4 - 0s - loss: 16.5812 - acc: 0.0095\n",
            "Epoch 245/300\n",
            "4/4 - 0s - loss: 14.4400 - acc: 0.0095\n",
            "Epoch 246/300\n",
            "4/4 - 0s - loss: 16.0182 - acc: 0.0095\n",
            "Epoch 247/300\n",
            "4/4 - 0s - loss: 13.3650 - acc: 0.0095\n",
            "Epoch 248/300\n",
            "4/4 - 0s - loss: 17.6695 - acc: 0.0095\n",
            "Epoch 249/300\n",
            "4/4 - 0s - loss: 15.9282 - acc: 0.0095\n",
            "Epoch 250/300\n",
            "4/4 - 0s - loss: 17.4713 - acc: 0.0095\n",
            "Epoch 251/300\n",
            "4/4 - 0s - loss: 17.3305 - acc: 0.0095\n",
            "Epoch 252/300\n",
            "4/4 - 0s - loss: 14.5644 - acc: 0.0095\n",
            "Epoch 253/300\n",
            "4/4 - 0s - loss: 18.1270 - acc: 0.0095\n",
            "Epoch 254/300\n",
            "4/4 - 0s - loss: 13.1034 - acc: 0.0095\n",
            "Epoch 255/300\n",
            "4/4 - 0s - loss: 15.8723 - acc: 0.0095\n",
            "Epoch 256/300\n",
            "4/4 - 0s - loss: 18.3749 - acc: 0.0095\n",
            "Epoch 257/300\n",
            "4/4 - 0s - loss: 18.9706 - acc: 0.0095\n",
            "Epoch 258/300\n",
            "4/4 - 0s - loss: 17.3174 - acc: 0.0095\n",
            "Epoch 259/300\n",
            "4/4 - 0s - loss: 17.0669 - acc: 0.0095\n",
            "Epoch 260/300\n",
            "4/4 - 0s - loss: 16.3934 - acc: 0.0095\n",
            "Epoch 261/300\n",
            "4/4 - 0s - loss: 13.8279 - acc: 0.0095\n",
            "Epoch 262/300\n",
            "4/4 - 0s - loss: 19.9610 - acc: 0.0095\n",
            "Epoch 263/300\n",
            "4/4 - 0s - loss: 18.6344 - acc: 0.0095\n",
            "Epoch 264/300\n",
            "4/4 - 0s - loss: 44.5486 - acc: 0.0095\n",
            "Epoch 265/300\n",
            "4/4 - 0s - loss: 12.1827 - acc: 0.0095\n",
            "Epoch 266/300\n",
            "4/4 - 0s - loss: 13.8463 - acc: 0.0095\n",
            "Epoch 267/300\n",
            "4/4 - 0s - loss: 14.2267 - acc: 0.0095\n",
            "Epoch 268/300\n",
            "4/4 - 0s - loss: 13.0989 - acc: 0.0095\n",
            "Epoch 269/300\n",
            "4/4 - 0s - loss: 16.6462 - acc: 0.0095\n",
            "Epoch 270/300\n",
            "4/4 - 0s - loss: 13.4393 - acc: 0.0095\n",
            "Epoch 271/300\n",
            "4/4 - 0s - loss: 12.7346 - acc: 0.0095\n",
            "Epoch 272/300\n",
            "4/4 - 0s - loss: 13.9271 - acc: 0.0095\n",
            "Epoch 273/300\n",
            "4/4 - 0s - loss: 16.0300 - acc: 0.0095\n",
            "Epoch 274/300\n",
            "4/4 - 0s - loss: 14.2278 - acc: 0.0095\n",
            "Epoch 275/300\n",
            "4/4 - 0s - loss: 17.4285 - acc: 0.0095\n",
            "Epoch 276/300\n",
            "4/4 - 0s - loss: 16.4909 - acc: 0.0095\n",
            "Epoch 277/300\n",
            "4/4 - 0s - loss: 13.8448 - acc: 0.0095\n",
            "Epoch 278/300\n",
            "4/4 - 0s - loss: 16.0381 - acc: 0.0095\n",
            "Epoch 279/300\n",
            "4/4 - 0s - loss: 16.3565 - acc: 0.0095\n",
            "Epoch 280/300\n",
            "4/4 - 0s - loss: 13.1056 - acc: 0.0095\n",
            "Epoch 281/300\n",
            "4/4 - 0s - loss: 11.0900 - acc: 0.0095\n",
            "Epoch 282/300\n",
            "4/4 - 0s - loss: 18.8220 - acc: 0.0095\n",
            "Epoch 283/300\n",
            "4/4 - 0s - loss: 14.1508 - acc: 0.0095\n",
            "Epoch 284/300\n",
            "4/4 - 0s - loss: 14.2777 - acc: 0.0095\n",
            "Epoch 285/300\n",
            "4/4 - 0s - loss: 14.0770 - acc: 0.0095\n",
            "Epoch 286/300\n",
            "4/4 - 0s - loss: 14.6262 - acc: 0.0095\n",
            "Epoch 287/300\n",
            "4/4 - 0s - loss: 17.5091 - acc: 0.0095\n",
            "Epoch 288/300\n",
            "4/4 - 0s - loss: 16.6577 - acc: 0.0095\n",
            "Epoch 289/300\n",
            "4/4 - 0s - loss: 17.1513 - acc: 0.0095\n",
            "Epoch 290/300\n",
            "4/4 - 0s - loss: 14.1786 - acc: 0.0095\n",
            "Epoch 291/300\n",
            "4/4 - 0s - loss: 13.5752 - acc: 0.0095\n",
            "Epoch 292/300\n",
            "4/4 - 0s - loss: 17.8317 - acc: 0.0095\n",
            "Epoch 293/300\n",
            "4/4 - 0s - loss: 16.3755 - acc: 0.0095\n",
            "Epoch 294/300\n",
            "4/4 - 0s - loss: 17.2593 - acc: 0.0095\n",
            "Epoch 295/300\n",
            "4/4 - 0s - loss: 15.8295 - acc: 0.0095\n",
            "Epoch 296/300\n",
            "4/4 - 0s - loss: 12.4576 - acc: 0.0095\n",
            "Epoch 297/300\n",
            "4/4 - 0s - loss: 16.6510 - acc: 0.0095\n",
            "Epoch 298/300\n",
            "4/4 - 0s - loss: 18.6287 - acc: 0.0095\n",
            "Epoch 299/300\n",
            "4/4 - 0s - loss: 14.0452 - acc: 0.0095\n",
            "Epoch 300/300\n",
            "4/4 - 0s - loss: 13.3427 - acc: 0.0095\n",
            "Learning time: 13.76sec\n"
          ],
          "name": "stdout"
        }
      ]
    },
    {
      "cell_type": "markdown",
      "metadata": {
        "id": "r_9ppUa7pVTy"
      },
      "source": [
        "#### 6. Model evaluating & Prediction"
      ]
    },
    {
      "cell_type": "code",
      "metadata": {
        "colab": {
          "base_uri": "https://localhost:8080/"
        },
        "id": "0klp5oy9pMtV",
        "outputId": "47591668-5e97-4d78-ebf1-2a8bd54f76b4"
      },
      "source": [
        "score = model.evaluate(x=X_test, y=Y_test, verbose=1)\r\n",
        "print('Total Loss:', score[0])\r\n",
        "print('Accuracy:', score[1]) # Regression에서는 정확도 의미없음."
      ],
      "execution_count": 15,
      "outputs": [
        {
          "output_type": "stream",
          "text": [
            "1/1 [==============================] - 0s 343ms/step - loss: 18.8089 - acc: 0.0000e+00\n",
            "Total Loss: 18.808889389038086\n",
            "Accuracy: 0.0\n"
          ],
          "name": "stdout"
        }
      ]
    },
    {
      "cell_type": "code",
      "metadata": {
        "colab": {
          "base_uri": "https://localhost:8080/"
        },
        "id": "_c3a5fS4pjqK",
        "outputId": "4586fe0b-31b7-4074-ce68-a3832ba5f14b"
      },
      "source": [
        "pred = model.predict(x=X_test)\r\n",
        "pred = scaler.inverse_transform(pred) # 정규화한 것을 역변환\r\n",
        "\r\n",
        "print(pred.shape)\r\n",
        "# squeeze 함수는 배열에서 1차원 축을 제거하는 것임\r\n",
        "tmp = np.squeeze(pred).astype(int)\r\n",
        "print(tmp.shape)\r\n",
        "print(\"Predicated value:\", tmp)"
      ],
      "execution_count": 16,
      "outputs": [
        {
          "output_type": "stream",
          "text": [
            "(27, 1)\n",
            "(27,)\n",
            "Predicated value: [224 261 199 310 356 183 143 406 296 435 203 245 158 257 396 294 370 266\n",
            " 338 207 175 144 192 193 155 423 333]\n"
          ],
          "name": "stdout"
        }
      ]
    },
    {
      "cell_type": "code",
      "metadata": {
        "colab": {
          "base_uri": "https://localhost:8080/"
        },
        "id": "90YjoaB7qUWE",
        "outputId": "564d23e6-818f-4adf-c921-32cc34c93ed2"
      },
      "source": [
        "# 정답 변환\r\n",
        "Y_test = scaler.inverse_transform(Y_test)\r\n",
        "tmp = np.squeeze(Y_test).astype(int)\r\n",
        "print(\"Answer:\", tmp)"
      ],
      "execution_count": 17,
      "outputs": [
        {
          "output_type": "stream",
          "text": [
            "Answer: [267 306 229 342 355 181 125 461 356 491 242 274 166 317 407 364 396 271\n",
            " 310 233 178 162 236 201 163 390 406]\n"
          ],
          "name": "stdout"
        }
      ]
    },
    {
      "cell_type": "code",
      "metadata": {
        "colab": {
          "base_uri": "https://localhost:8080/",
          "height": 265
        },
        "id": "ugkwGIgKqiqh",
        "outputId": "8f4530dc-00d2-41f7-f1ae-867ea2cf87b9"
      },
      "source": [
        "# LSTM 정확도는 손실함수 값(mape)으로도 보고, 예측값과 dataset의 정답을 시각화해야 함\r\n",
        "\r\n",
        "plt.plot(pred, \"r\") # red\r\n",
        "plt.plot(Y_test, 'g') # green\r\n",
        "plt.legend(['prediction', 'truth'])\r\n",
        "plt.show()"
      ],
      "execution_count": 18,
      "outputs": [
        {
          "output_type": "display_data",
          "data": {
            "image/png": "[encoded data removed]",
            "text/plain": [
              "<Figure size 432x288 with 1 Axes>"
            ]
          },
          "metadata": {
            "tags": [],
            "needs_background": "light"
          }
        }
      ]
    }
  ]
}