{
  "nbformat": 4,
  "nbformat_minor": 0,
  "metadata": {
    "colab": {
      "name": "azml-taejun.minwoo/DNN-1.ipynb",
      "provenance": [],
      "collapsed_sections": [],
      "mount_file_id": "1b9BlbfMWgPkdm2IzHe1oh91nfYu9nA2M",
      "authorship_tag": "ABX9TyPdyvVnnvxpbCE46owqCCeH",
      "include_colab_link": true
    },
    "kernelspec": {
      "name": "python3",
      "display_name": "Python 3"
    },
    "accelerator": "GPU"
  },
  "cells": [
    {
      "cell_type": "markdown",
      "metadata": {
        "id": "view-in-github",
        "colab_type": "text"
      },
      "source": [
        "<a href=\"https://colab.research.google.com/github/Marlrero/AI_PrimaryEducation/blob/main/azml_taejun_minwoo_DNN_1.ipynb\" target=\"_parent\"><img src=\"https://colab.research.google.com/assets/colab-badge.svg\" alt=\"Open In Colab\"/></a>"
      ]
    },
    {
      "cell_type": "markdown",
      "metadata": {
        "id": "BniJaBefnB4F"
      },
      "source": [
        "### Keras DNN으로 집 값 예측하기 - 과제"
      ]
    },
    {
      "cell_type": "markdown",
      "metadata": {
        "id": "aLxiYkczNHte"
      },
      "source": [
        "* Reference (모든 과제)\r\n",
        "  - https://scikit-learn.org/stable/modules/generated/sklearn.model_selection.GridSearchCV.html\r\n",
        "  - https://scikit-learn.org/stable/modules/cross_validation.html\r\n",
        "  - https://davinci-ai.tistory.com/18\r\n",
        "  - https://machinelearningmastery.com/grid-search-hyperparameters-deep-learning-models-python-keras/\r\n",
        "  - https://machinelearningmastery.com/how-to-choose-loss-functions-when-training-deep-learning-neural-networks/\r\n"
      ]
    },
    {
      "cell_type": "markdown",
      "metadata": {
        "id": "OyialpdTto1V"
      },
      "source": [
        "#### 기본 예제"
      ]
    },
    {
      "cell_type": "code",
      "metadata": {
        "colab": {
          "base_uri": "https://localhost:8080/",
          "height": 815
        },
        "id": "VLEfQbwPojBB",
        "outputId": "d2bdb2a6-88b6-4036-8f55-5a3b0a459c13"
      },
      "source": [
        "import pandas as pd  # 수학 패키지\r\n",
        "import matplotlib.pyplot as plt # 그래프 패키지\r\n",
        "import seaborn as sns # 그래프 패키지\r\n",
        "from time import time # 시간 패키지\r\n",
        "\r\n",
        "from keras.models import Sequential                  # 일렬로 쌓아서 구성하는 간단한 계층\r\n",
        "from keras.layers import Dense                       # 완전 연결 계층\r\n",
        "from sklearn.preprocessing import StandardScaler     # 데이터를 표준화함 (전처리)\r\n",
        "from sklearn.model_selection import train_test_split # 훈련집합과 검증집합 분리\r\n",
        "\r\n",
        "pd.set_option('display.max_columns', None)   # Pandas 출력에서 컬럼을 skip하지 않고 모두 출력\r\n",
        "\r\n",
        "MY_HIDDEN = 1000  # Hidden Node 갯수\r\n",
        "MY_EPOCH = 500    # epoch: 반복 횟수 (길면 정확도가 크고, 시간이 오래걸림)\r\n",
        "MY_BATCH = 64     # Batch size: 신경망은 미니배치(샘플을 자른 것) 단위로 학습함\r\n",
        "\r\n",
        "# CSV 파일 읽기\r\n",
        "raw = pd.read_csv('/content/drive/MyDrive/dataset/housing.csv')\r\n",
        "\r\n",
        "# z-점수 정규화\r\n",
        "scaler = StandardScaler()\r\n",
        "heading = raw.columns.to_list() # Heading 정보 뽑기\r\n",
        "# 다시 하는 이유: 다시 데이터프레임을 만드므로 데이터가 NaN으로 손실됨\r\n",
        "Z_data = scaler.fit_transform(raw) # pandas.Dataframe -> numpy.ndarray\r\n",
        "Z_data = pd.DataFrame(Z_data, columns=heading)\r\n",
        "\r\n",
        "# 데이터를 입력과 출력으로 분리\r\n",
        "X_data = Z_data.drop('MEDV', axis=1) # 훈련 데이터셋 (MEDV 제외해야 함)\r\n",
        "Y_data = Z_data['MEDV'] # 학습하여 맞춰야 하는 레이블 MEDV\r\n",
        "\r\n",
        "print(\"훈련 데이터셋 차원:\", X_data.shape)\r\n",
        "print(\"레이블 차원:\", Y_data.shape)\r\n",
        "\r\n",
        "X_train, X_test, Y_train, Y_test = train_test_split(X_data, Y_data, test_size=0.3)\r\n",
        "print(\"Training set shape:\", X_train.shape)\r\n",
        "print(\"Training label shape:\", Y_train.shape)\r\n",
        "print(\"Test set shape:\", X_test.shape)\r\n",
        "print(\"Test label shape:\", Y_test.shape)\r\n",
        "\r\n",
        "model = Sequential()\r\n",
        "input = X_train.shape[1] # 12개 입력 노드\r\n",
        "model.add(Dense(name='HiddenLayer1', units=MY_HIDDEN, input_dim=input, activation='relu'))\r\n",
        "model.add(Dense(name='HiddenLayer2', units=MY_HIDDEN, activation='relu'))\r\n",
        "model.add(Dense(name='OutputLayer', units=1))\r\n",
        "model.summary() \r\n",
        "\r\n",
        "model.compile(optimizer='sgd', loss='mse')\r\n",
        "\r\n",
        "begin = time() # 학습시간 측정\r\n",
        "model.fit(x=X_train, y=Y_train, epochs=MY_EPOCH, batch_size=MY_BATCH, verbose=0)\r\n",
        "end = time() # 학습시간 측정\r\n",
        "print(\"총 학습 시간: {:.1f}sec\".format(end - begin))\r\n",
        "\r\n",
        "loss = model.evaluate(x=X_test, y=Y_test, verbose=0)\r\n",
        "print(\"Mean Squared Error: {:.2f}\".format(loss))\r\n",
        "\r\n",
        "pred = model.predict(x=X_test)\r\n",
        "\r\n",
        "# Scatter plot 출력\r\n",
        "plt.figure(figsize=(15, 8)) # figure size\r\n",
        "sns.regplot(x=Y_test, y=pred) # 정답, 추측값\r\n",
        "plt.xlabel(\"Actual Values\")\r\n",
        "plt.ylabel(\"Predicted Values\")\r\n",
        "plt.show()"
      ],
      "execution_count": 1,
      "outputs": [
        {
          "output_type": "stream",
          "text": [
            "훈련 데이터셋 차원: (506, 12)\n",
            "레이블 차원: (506,)\n",
            "Training set shape: (354, 12)\n",
            "Training label shape: (354,)\n",
            "Test set shape: (152, 12)\n",
            "Test label shape: (152,)\n",
            "Model: \"sequential\"\n",
            "_________________________________________________________________\n",
            "Layer (type)                 Output Shape              Param #   \n",
            "=================================================================\n",
            "HiddenLayer1 (Dense)         (None, 1000)              13000     \n",
            "_________________________________________________________________\n",
            "HiddenLayer2 (Dense)         (None, 1000)              1001000   \n",
            "_________________________________________________________________\n",
            "OutputLayer (Dense)          (None, 1)                 1001      \n",
            "=================================================================\n",
            "Total params: 1,015,001\n",
            "Trainable params: 1,015,001\n",
            "Non-trainable params: 0\n",
            "_________________________________________________________________\n",
            "총 학습 시간: 6.9sec\n",
            "Mean Squared Error: 0.16\n"
          ],
          "name": "stdout"
        },
        {
          "output_type": "display_data",
          "data": {
            "image/png": "[encoded data removed]",
            "text/plain": [
              "<Figure size 1080x576 with 1 Axes>"
            ]
          },
          "metadata": {
            "tags": [],
            "needs_background": "light"
          }
        }
      ]
    },
    {
      "cell_type": "markdown",
      "metadata": {
        "id": "CSkhcdfUnE7N"
      },
      "source": [
        "#### 1"
      ]
    },
    {
      "cell_type": "code",
      "metadata": {
        "colab": {
          "base_uri": "https://localhost:8080/",
          "height": 812
        },
        "id": "SJfJOcTKm0TI",
        "outputId": "35c06e61-29af-44ed-d5b3-7a6015ee1ecc"
      },
      "source": [
        "import pandas as pd  # 수학 패키지\r\n",
        "import matplotlib.pyplot as plt # 그래프 패키지\r\n",
        "import seaborn as sns # 그래프 패키지\r\n",
        "from time import time # 시간 패키지\r\n",
        "\r\n",
        "from keras.models import Sequential                  # 일렬로 쌓아서 구성하는 간단한 계층\r\n",
        "from keras.layers import Dense                       # 완전 연결 계층\r\n",
        "from sklearn.preprocessing import StandardScaler     # 데이터를 표준화함 (전처리)\r\n",
        "from sklearn.model_selection import train_test_split # 훈련집합과 검증집합 분리\r\n",
        "\r\n",
        "pd.set_option('display.max_columns', None)   # Pandas 출력에서 컬럼을 skip하지 않고 모두 출력\r\n",
        "\r\n",
        "MY_HIDDEN = 1000  # Hidden Node 갯수\r\n",
        "MY_EPOCH = 500    # epoch: 반복 횟수 (길면 정확도가 크고, 시간이 오래걸림)\r\n",
        "MY_BATCH = 64     # Batch size: 신경망은 미니배치(샘플을 자른 것) 단위로 학습함\r\n",
        "\r\n",
        "# CSV 파일 읽기\r\n",
        "raw = pd.read_csv('/content/drive/MyDrive/dataset/housing.csv')\r\n",
        "\r\n",
        "# z-점수 정규화\r\n",
        "scaler = StandardScaler()\r\n",
        "heading = raw.columns.to_list() # Heading 정보 뽑기\r\n",
        "# 다시 하는 이유: 다시 데이터프레임을 만드므로 데이터가 NaN으로 손실됨\r\n",
        "Z_data = scaler.fit_transform(raw) # pandas.Dataframe -> numpy.ndarray\r\n",
        "Z_data = pd.DataFrame(Z_data, columns=heading)\r\n",
        "\r\n",
        "# 데이터를 입력과 출력으로 분리\r\n",
        "X_data = Z_data.drop('AGE', axis=1) # 훈련 데이터셋 (AGE를 제외해야 함)\r\n",
        "Y_data = Z_data['AGE'] # 학습하여 맞춰야 하는 레이블 AGE\r\n",
        "\r\n",
        "print(\"훈련 데이터셋 차원:\", X_data.shape)\r\n",
        "print(\"레이블 차원:\", Y_data.shape)\r\n",
        "\r\n",
        "X_train, X_test, Y_train, Y_test = train_test_split(X_data, Y_data, test_size=0.3)\r\n",
        "print(\"Training set shape:\", X_train.shape)\r\n",
        "print(\"Training label shape:\", Y_train.shape)\r\n",
        "print(\"Test set shape:\", X_test.shape)\r\n",
        "print(\"Test label shape:\", Y_test.shape)\r\n",
        "\r\n",
        "model = Sequential()\r\n",
        "input = X_train.shape[1] # 12개 입력 노드\r\n",
        "model.add(Dense(name='HiddenLayer1', units=MY_HIDDEN, input_dim=input, activation='relu'))\r\n",
        "model.add(Dense(name='HiddenLayer2', units=MY_HIDDEN, activation='relu'))\r\n",
        "model.add(Dense(name='OutputLayer', units=1))\r\n",
        "model.summary() \r\n",
        "\r\n",
        "model.compile(optimizer='sgd', loss='mse')\r\n",
        "\r\n",
        "begin = time() # 학습시간 측정\r\n",
        "model.fit(x=X_train, y=Y_train, epochs=MY_EPOCH, batch_size=MY_BATCH, verbose=0)\r\n",
        "end = time() # 학습시간 측정\r\n",
        "print(\"총 학습 시간: {:.1f}sec\".format(end - begin))\r\n",
        "\r\n",
        "loss = model.evaluate(x=X_test, y=Y_test, verbose=0)\r\n",
        "print(\"Mean Squared Error: {:.2f}\".format(loss))\r\n",
        "\r\n",
        "pred = model.predict(x=X_test)\r\n",
        "\r\n",
        "# Scatter plot 출력\r\n",
        "plt.figure(figsize=(15, 8)) # figure size\r\n",
        "sns.regplot(x=Y_test, y=pred) # 정답, 추측값\r\n",
        "plt.xlabel(\"Actual Values\")\r\n",
        "plt.ylabel(\"Predicted Values\")\r\n",
        "plt.show()"
      ],
      "execution_count": 2,
      "outputs": [
        {
          "output_type": "stream",
          "text": [
            "훈련 데이터셋 차원: (506, 12)\n",
            "레이블 차원: (506,)\n",
            "Training set shape: (354, 12)\n",
            "Training label shape: (354,)\n",
            "Test set shape: (152, 12)\n",
            "Test label shape: (152,)\n",
            "Model: \"sequential_1\"\n",
            "_________________________________________________________________\n",
            "Layer (type)                 Output Shape              Param #   \n",
            "=================================================================\n",
            "HiddenLayer1 (Dense)         (None, 1000)              13000     \n",
            "_________________________________________________________________\n",
            "HiddenLayer2 (Dense)         (None, 1000)              1001000   \n",
            "_________________________________________________________________\n",
            "OutputLayer (Dense)          (None, 1)                 1001      \n",
            "=================================================================\n",
            "Total params: 1,015,001\n",
            "Trainable params: 1,015,001\n",
            "Non-trainable params: 0\n",
            "_________________________________________________________________\n",
            "총 학습 시간: 5.1sec\n",
            "Mean Squared Error: 0.19\n"
          ],
          "name": "stdout"
        },
        {
          "output_type": "display_data",
          "data": {
            "image/png": "[encoded data removed]",
            "text/plain": [
              "<Figure size 1080x576 with 1 Axes>"
            ]
          },
          "metadata": {
            "tags": [],
            "needs_background": "light"
          }
        }
      ]
    },
    {
      "cell_type": "markdown",
      "metadata": {
        "id": "5cMd2oC5nSUK"
      },
      "source": [
        "AGE가 더 쉬울 것으로 예상됨. 오차도 더 낮음."
      ]
    },
    {
      "cell_type": "markdown",
      "metadata": {
        "id": "ZCV8rXaWnHFj"
      },
      "source": [
        "#### 2"
      ]
    },
    {
      "cell_type": "code",
      "metadata": {
        "colab": {
          "base_uri": "https://localhost:8080/"
        },
        "id": "ZmEXlVtOMDAo",
        "outputId": "fe5826f4-af5a-49ed-a64d-70480c40a9a9"
      },
      "source": [
        "# 추가 모듈\r\n",
        "import numpy as np\r\n",
        "from keras.losses import MSE\r\n",
        "\r\n",
        "###############################3\r\n",
        "import pandas as pd  # 수학 패키지\r\n",
        "import matplotlib.pyplot as plt # 그래프 패키지\r\n",
        "import seaborn as sns # 그래프 패키지\r\n",
        "from time import time # 시간 패키지\r\n",
        "\r\n",
        "from keras.models import Sequential                  # 일렬로 쌓아서 구성하는 간단한 계층\r\n",
        "from keras.layers import Dense                       # 완전 연결 계층\r\n",
        "from sklearn.preprocessing import StandardScaler     # 데이터를 표준화함 (전처리)\r\n",
        "from sklearn.model_selection import train_test_split # 훈련집합과 검증집합 분리\r\n",
        "\r\n",
        "pd.set_option('display.max_columns', None)   # Pandas 출력에서 컬럼을 skip하지 않고 모두 출력\r\n",
        "\r\n",
        "MY_HIDDEN = 1000  # Hidden Node 갯수\r\n",
        "MY_EPOCH = 500    # epoch: 반복 횟수 (길면 정확도가 크고, 시간이 오래걸림)\r\n",
        "MY_BATCH = 64     # Batch size: 신경망은 미니배치(샘플을 자른 것) 단위로 학습함\r\n",
        "\r\n",
        "# CSV 파일 읽기\r\n",
        "raw = pd.read_csv('/content/drive/MyDrive/dataset/housing.csv')\r\n",
        "\r\n",
        "# z-점수 정규화\r\n",
        "scaler = StandardScaler()\r\n",
        "heading = raw.columns.to_list() # Heading 정보 뽑기\r\n",
        "# 다시 하는 이유: 다시 데이터프레임을 만드므로 데이터가 NaN으로 손실됨\r\n",
        "Z_data = scaler.fit_transform(raw) # pandas.Dataframe -> numpy.ndarray\r\n",
        "Z_data = pd.DataFrame(Z_data, columns=heading)\r\n",
        "\r\n",
        "# 데이터를 입력과 출력으로 분리\r\n",
        "X_data = Z_data.drop('AGE', axis=1) # 훈련 데이터셋 (AGE를 제외해야 함)\r\n",
        "Y_data = Z_data['AGE'] # 학습하여 맞춰야 하는 레이블 AGE\r\n",
        "\r\n",
        "print(\"훈련 데이터셋 차원:\", X_data.shape)\r\n",
        "print(\"레이블 차원:\", Y_data.shape)\r\n",
        "\r\n",
        "X_train, X_test, Y_train, Y_test = train_test_split(X_data, Y_data, test_size=0.3)\r\n",
        "print(\"Training set shape:\", X_train.shape)\r\n",
        "print(\"Training label shape:\", Y_train.shape)\r\n",
        "print(\"Test set shape:\", X_test.shape)\r\n",
        "print(\"Test label shape:\", Y_test.shape)\r\n",
        "\r\n",
        "model = Sequential()\r\n",
        "input = X_train.shape[1] # 12개 입력 노드\r\n",
        "model.add(Dense(name='HiddenLayer1', units=MY_HIDDEN, input_dim=input, activation='relu'))\r\n",
        "model.add(Dense(name='HiddenLayer2', units=MY_HIDDEN, activation='relu'))\r\n",
        "model.add(Dense(name='OutputLayer', units=1))\r\n",
        "model.summary() \r\n",
        "\r\n",
        "model.compile(optimizer='sgd', loss='mse')\r\n",
        "\r\n",
        "begin = time() # 학습시간 측정\r\n",
        "model.fit(x=X_train, y=Y_train, epochs=MY_EPOCH, batch_size=MY_BATCH, verbose=0)\r\n",
        "end = time() # 학습시간 측정\r\n",
        "print(\"총 학습 시간: {:.1f}sec\".format(end - begin))\r\n",
        "\r\n",
        "loss = model.evaluate(x=X_test, y=Y_test, verbose=0)\r\n",
        "print(\"Mean Squared Error: {:.2f}\".format(loss))\r\n",
        "\r\n",
        "# X_test를 넘파이로 바꾼 후, 2차원으로 늘려서 predict\r\n",
        "X_test_np = np.array(X_test)\r\n",
        "X_test_3 = np.expand_dims(X_test_np[3], 0)\r\n",
        "pred = model.predict(x=X_test_3)\r\n",
        "print(\"Predict:\", pred)\r\n",
        "\r\n",
        "# Y_test를 넘파이로 바꾼 후 정답 출력\r\n",
        "Y_test_np = np.array(Y_test)\r\n",
        "truth = Y_test_np[3]\r\n",
        "print(\"Truth:\", truth)\r\n",
        "\r\n",
        "# kreas.loss의 MSE 사용\r\n",
        "print(\"Loss:\", MSE(truth, pred))\r\n",
        "\r\n",
        "# Scatter plot 출력\r\n",
        "# plt.figure(figsize=(15, 8)) # figure size\r\n",
        "# sns.regplot(x=Y_test, y=pred) # 정답, 추측값\r\n",
        "#plt.xlabel(\"Actual Values\")\r\n",
        "#plt.ylabel(\"Predicted Values\")\r\n",
        "#plt.show()"
      ],
      "execution_count": 3,
      "outputs": [
        {
          "output_type": "stream",
          "text": [
            "훈련 데이터셋 차원: (506, 12)\n",
            "레이블 차원: (506,)\n",
            "Training set shape: (354, 12)\n",
            "Training label shape: (354,)\n",
            "Test set shape: (152, 12)\n",
            "Test label shape: (152,)\n",
            "Model: \"sequential_2\"\n",
            "_________________________________________________________________\n",
            "Layer (type)                 Output Shape              Param #   \n",
            "=================================================================\n",
            "HiddenLayer1 (Dense)         (None, 1000)              13000     \n",
            "_________________________________________________________________\n",
            "HiddenLayer2 (Dense)         (None, 1000)              1001000   \n",
            "_________________________________________________________________\n",
            "OutputLayer (Dense)          (None, 1)                 1001      \n",
            "=================================================================\n",
            "Total params: 1,015,001\n",
            "Trainable params: 1,015,001\n",
            "Non-trainable params: 0\n",
            "_________________________________________________________________\n",
            "총 학습 시간: 5.2sec\n",
            "Mean Squared Error: 0.22\n",
            "Predict: [[0.03073285]]\n",
            "Truth: -0.12001341619804987\n",
            "Loss: tf.Tensor([0.02272443], shape=(1,), dtype=float32)\n"
          ],
          "name": "stdout"
        }
      ]
    },
    {
      "cell_type": "markdown",
      "metadata": {
        "id": "rvMCj880nJxw"
      },
      "source": [
        "#### 3"
      ]
    },
    {
      "cell_type": "code",
      "metadata": {
        "id": "OscZ_g83nKRF",
        "colab": {
          "base_uri": "https://localhost:8080/"
        },
        "outputId": "b669c1d2-0e57-4c46-bb48-d2359b3ca4d8"
      },
      "source": [
        "# 추가\r\n",
        "from sklearn.model_selection import GridSearchCV\r\n",
        "from keras.wrappers.scikit_learn import KerasRegressor\r\n",
        "####################################\r\n",
        "\r\n",
        "import pandas as pd  # 수학 패키지\r\n",
        "import matplotlib.pyplot as plt # 그래프 패키지\r\n",
        "import seaborn as sns # 그래프 패키지\r\n",
        "from time import time # 시간 패키지\r\n",
        "\r\n",
        "from keras.models import Sequential                  # 일렬로 쌓아서 구성하는 간단한 계층\r\n",
        "from keras.layers import Dense                       # 완전 연결 계층\r\n",
        "from sklearn.preprocessing import StandardScaler     # 데이터를 표준화함 (전처리)\r\n",
        "from sklearn.model_selection import train_test_split # 훈련집합과 검증집합 분리\r\n",
        "\r\n",
        "pd.set_option('display.max_columns', None)   # Pandas 출력에서 컬럼을 skip하지 않고 모두 출력\r\n",
        "\r\n",
        "MY_HIDDEN = 1000  # Hidden Node 갯수\r\n",
        "MY_EPOCH = 500    # epoch: 반복 횟수 (길면 정확도가 크고, 시간이 오래걸림)\r\n",
        "MY_BATCH = 64     # Batch size: 신경망은 미니배치(샘플을 자른 것) 단위로 학습함\r\n",
        "\r\n",
        "# CSV 파일 읽기\r\n",
        "raw = pd.read_csv('/content/drive/MyDrive/dataset/housing.csv')\r\n",
        "\r\n",
        "# z-점수 정규화\r\n",
        "scaler = StandardScaler()\r\n",
        "heading = raw.columns.to_list() # Heading 정보 뽑기\r\n",
        "# 다시 하는 이유: 다시 데이터프레임을 만드므로 데이터가 NaN으로 손실됨\r\n",
        "Z_data = scaler.fit_transform(raw) # pandas.Dataframe -> numpy.ndarray\r\n",
        "Z_data = pd.DataFrame(Z_data, columns=heading)\r\n",
        "\r\n",
        "# 데이터를 입력과 출력으로 분리\r\n",
        "X_data = Z_data.drop('MEDV', axis=1) # 훈련 데이터셋 (MEDV 제외해야 함)\r\n",
        "Y_data = Z_data['MEDV'] # 학습하여 맞춰야 하는 레이블 MEDV\r\n",
        "\r\n",
        "print(\"훈련 데이터셋 차원:\", X_data.shape)\r\n",
        "print(\"레이블 차원:\", Y_data.shape)\r\n",
        "\r\n",
        "X_train, X_test, Y_train, Y_test = train_test_split(X_data, Y_data, test_size=0.3)\r\n",
        "#print(\"Training set shape:\", X_train.shape)\r\n",
        "#print(\"Training label shape:\", Y_train.shape)\r\n",
        "#print(\"Test set shape:\", X_test.shape)\r\n",
        "#print(\"Test label shape:\", Y_test.shape)\r\n",
        "\r\n",
        "##### 추가 코드\r\n",
        "def create_model(optimizer='sgd', loss='mse'):\r\n",
        "    model = Sequential()\r\n",
        "    input = X_train.shape[1] # 12개 입력 노드\r\n",
        "    model.add(Dense(name='HiddenLayer1', units=MY_HIDDEN, input_dim=input, activation='relu'))\r\n",
        "    model.add(Dense(name='HiddenLayer2', units=MY_HIDDEN, activation='relu'))\r\n",
        "    model.add(Dense(name='OutputLayer', units=1))\r\n",
        "    #model.summary()\r\n",
        "    model.compile(optimizer=optimizer, loss=loss)\r\n",
        "    return model\r\n",
        "\r\n",
        "\r\n",
        "#model.compile(optimizer='sgd', loss='mse')\r\n",
        "\r\n",
        "param_grid = [ \r\n",
        "        {'optimizer': ['SGD', 'RMSprop', 'Adagrad', 'Adam'], 'loss': ['mse', 'mae', 'mape']},\r\n",
        "      ]\r\n",
        "\r\n",
        "model = KerasRegressor(build_fn=create_model, epochs=MY_EPOCH, batch_size=MY_BATCH, verbose=0)\r\n",
        "grid = GridSearchCV(estimator=model, param_grid=param_grid)\r\n",
        "\r\n",
        "################################\r\n",
        "begin = time() # 학습시간 측정\r\n",
        "grid_result = grid.fit(X=X_train, y=Y_train)\r\n",
        "#model.fit(x=X_train, y=Y_train, epochs=MY_EPOCH, batch_size=MY_BATCH, verbose=0)\r\n",
        "end = time() # 학습시간 측정\r\n",
        "print(\"총 학습 시간: {:.1f}sec\".format(end - begin))\r\n",
        "\r\n",
        "print(grid.best_score_, grid.best_params_)\r\n",
        "\r\n",
        "#loss = model.evaluate(x=X_test, y=Y_test, verbose=0)\r\n",
        "#print(\"Mean Squared Error: {:.2f}\".format(loss))\r\n",
        "\r\n",
        "print(\"Test Score:\", grid_result.score(X_test, Y_test))\r\n",
        "\r\n",
        "#pred = model.predict(x=X_test)\r\n",
        "\r\n",
        "# Scatter plot 출력\r\n",
        "#plt.figure(figsize=(15, 8)) # figure size\r\n",
        "#sns.regplot(x=Y_test, y=pred) # 정답, 추측값\r\n",
        "#plt.xlabel(\"Actual Values\")\r\n",
        "#plt.ylabel(\"Predicted Values\")\r\n",
        "#plt.show()"
      ],
      "execution_count": 5,
      "outputs": [
        {
          "output_type": "stream",
          "text": [
            "훈련 데이터셋 차원: (506, 12)\n",
            "레이블 차원: (506,)\n",
            
            "총 학습 시간: 301.8sec\n",
            "-0.13016537725925445 {'loss': 'mse', 'optimizer': 'Adam'}\n",
            
            "Test Score: -0.10953659564256668\n"
          ],
          "name": "stdout"
        }
      ]
    },
    {
      "cell_type": "markdown",
      "metadata": {
        "id": "eqVh29_Iomjt"
      },
      "source": [
        "* (cv 기본 값이 5)\r\n",
        "* Scikit-learn에서는 regression loss(error) metrics가 neg로 되어 있음 (Ref: https://scikit-learn.org/stable/modules/model_evaluation.html)"
      ]
    },
    {
      "cell_type": "markdown",
      "metadata": {
        "id": "ZjG7aSSPnKm5"
      },
      "source": [
        "#### 4."
      ]
    },
    {
      "cell_type": "code",
      "metadata": {
        "id": "wIastHmvnK98",
        "colab": {
          "base_uri": "https://localhost:8080/"
        },
        "outputId": "eda19ff8-ce8c-4141-ef52-0077e035a0a5"
      },
      "source": [
        "# 추가\r\n",
        "from sklearn.model_selection import GridSearchCV\r\n",
        "from keras.wrappers.scikit_learn import KerasRegressor\r\n",
        "####################################\r\n",
        "\r\n",
        "import pandas as pd  # 수학 패키지\r\n",
        "import matplotlib.pyplot as plt # 그래프 패키지\r\n",
        "import seaborn as sns # 그래프 패키지\r\n",
        "from time import time # 시간 패키지\r\n",
        "\r\n",
        "from keras.models import Sequential                  # 일렬로 쌓아서 구성하는 간단한 계층\r\n",
        "from keras.layers import Dense                       # 완전 연결 계층\r\n",
        "from sklearn.preprocessing import StandardScaler     # 데이터를 표준화함 (전처리)\r\n",
        "from sklearn.model_selection import train_test_split # 훈련집합과 검증집합 분리\r\n",
        "\r\n",
        "pd.set_option('display.max_columns', None)   # Pandas 출력에서 컬럼을 skip하지 않고 모두 출력\r\n",
        "\r\n",
        "MY_HIDDEN = 1000  # Hidden Node 갯수\r\n",
        "MY_EPOCH = 500    # epoch: 반복 횟수 (길면 정확도가 크고, 시간이 오래걸림)\r\n",
        "MY_BATCH = 64     # Batch size: 신경망은 미니배치(샘플을 자른 것) 단위로 학습함\r\n",
        "\r\n",
        "# CSV 파일 읽기\r\n",
        "raw = pd.read_csv('/content/drive/MyDrive/dataset/housing.csv')\r\n",
        "0\r\n",
        "# z-점수 정규화\r\n",
        "scaler = StandardScaler()\r\n",
        "heading = raw.columns.to_list() # Heading 정보 뽑기\r\n",
        "# 다시 하는 이유: 다시 데이터프레임을 만드므로 데이터가 NaN으로 손실됨\r\n",
        "Z_data = scaler.fit_transform(raw) # pandas.Dataframe -> numpy.ndarray\r\n",
        "Z_data = pd.DataFrame(Z_data, columns=heading)\r\n",
        "\r\n",
        "# 데이터를 입력과 출력으로 분리\r\n",
        "X_data = Z_data.drop('MEDV', axis=1) # 훈련 데이터셋 (MEDV 제외해야 함)\r\n",
        "Y_data = Z_data['MEDV'] # 학습하여 맞춰야 하는 레이블 MEDV\r\n",
        "\r\n",
        "print(\"훈련 데이터셋 차원:\", X_data.shape)\r\n",
        "print(\"레이블 차원:\", Y_data.shape)\r\n",
        "\r\n",
        "X_train, X_test, Y_train, Y_test = train_test_split(X_data, Y_data, test_size=0.3)\r\n",
        "#print(\"Training set shape:\", X_train.shape)\r\n",
        "#print(\"Training label shape:\", Y_train.shape)\r\n",
        "#print(\"Test set shape:\", X_test.shape)\r\n",
        "#print(\"Test label shape:\", Y_test.shape)\r\n",
        "\r\n",
        "\r\n",
        "##### 추가 코드\r\n",
        "def create_model(units=MY_HIDDEN, activation='relu'):\r\n",
        "    model = Sequential()\r\n",
        "    input = X_train.shape[1] # 12개 입력 노드\r\n",
        "    model.add(Dense(name='HiddenLayer1', units=units, input_dim=input, activation=activation))\r\n",
        "    model.add(Dense(name='HiddenLayer2', units=units, activation=activation))\r\n",
        "    model.add(Dense(name='OutputLayer', units=1))\r\n",
        "    #model.summary()\r\n",
        "    model.compile(optimizer='adam', loss='mse') # 이전에 나온 결과 (Adam / MSE)\r\n",
        "    return model\r\n",
        "\r\n",
        "\r\n",
        "#model.compile(optimizer='adam', loss='mse')\r\n",
        "\r\n",
        "param_grid = [ \r\n",
        "        {\r\n",
        "            'batch_size': [16, 32, 64, 128, 256], 'epochs': [100, 250, 500, 750, 1000]\r\n",
        "        },\r\n",
        "      ]\r\n",
        "\r\n",
        "model = KerasRegressor(build_fn=create_model, verbose=0)\r\n",
        "grid = GridSearchCV(estimator=model, param_grid=param_grid)\r\n",
        "################################\r\n",
        "\r\n",
        "begin = time() # 학습시간 측정\r\n",
        "grid_result = grid.fit(X=X_train, y=Y_train)\r\n",
        "#model.fit(x=X_train, y=Y_train, epochs=MY_EPOCH, batch_size=MY_BATCH, verbose=0)\r\n",
        "end = time() # 학습시간 측정\r\n",
        "print(\"총 학습 시간: {:.1f}sec\".format(end - begin))\r\n",
        "\r\n",
        "print(grid.best_score_, grid.best_params_)\r\n",
        "\r\n",
        "print(\"Test Score:\", grid_result.score(X_test, Y_test))\r\n",
        "#loss = model.evaluate(x=X_test, y=Y_test, verbose=0)\r\n",
        "#print(\"Error: {:.2f}\".format(loss))"
      ],
      "execution_count": 8,
      "outputs": [
        {
          "output_type": "stream",
          "text": [
            "훈련 데이터셋 차원: (506, 12)\n",
            "레이블 차원: (506,)\n",
           
            "총 학습 시간: 852.0sec\n",
            "-0.17230267077684402 {'batch_size': 128, 'epochs': 100}\n",
           
            "Test Score: -0.07971213757991791\n"
          ],
          "name": "stdout"
        }
      ]
    },
    {
      "cell_type": "markdown",
      "metadata": {
        "id": "qw0hplTCVT21"
      },
      "source": [
        "앞의 셸에서 0.16이 나온 것이 .0.07로 더 좋아짐을 확인하였음. (동일한 loss 지표인 mse임)\r\n",
        "\r\n",
        "* 제언\r\n",
        "  - 은닉 뉴런 개수나 활성화 함수를 바꿔서 얻는 결과에 대해서도 구현해봐야 함."
      ]
    }
  ]
}
