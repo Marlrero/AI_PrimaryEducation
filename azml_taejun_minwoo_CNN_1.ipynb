{
  "nbformat": 4,
  "nbformat_minor": 0,
  "metadata": {
    "accelerator": "GPU",
    "colab": {
      "name": "azml_taejun_minwoo_CNN_1.ipynb",
      "provenance": [],
      "collapsed_sections": [],
      "include_colab_link": true
    },
    "kernelspec": {
      "display_name": "Python 3",
      "name": "python3"
    }
  },
  "cells": [
    {
      "cell_type": "markdown",
      "metadata": {
        "id": "view-in-github",
        "colab_type": "text"
      },
      "source": [
        "<a href=\"https://colab.research.google.com/github/Marlrero/AI_PrimaryEducation/blob/main/azml_taejun_minwoo_CNN_1.ipynb\" target=\"_parent\"><img src=\"https://colab.research.google.com/assets/colab-badge.svg\" alt=\"Open In Colab\"/></a>"
      ]
    },
    {
      "cell_type": "markdown",
      "metadata": {
        "id": "g-_mbZxCbrnP"
      },
      "source": [
        "### Keras CNN으로 패션 아이템 구분 - 과제"
      ]
    },
    {
      "cell_type": "markdown",
      "metadata": {
        "id": "U_UQ6UisWp79"
      },
      "source": [
        "### 1. CNN 채널을 모두 4배 늘려 보세요. 어떤 결과를 얻나요?"
      ]
    },
    {
      "cell_type": "markdown",
      "metadata": {
        "id": "TPFtnK_3Ww-_"
      },
      "source": [
        "기존 손실값 및 정확도 : 0.25 / 0.91\r\n",
        "\r\n",
        "채널 4배 손실값 및 정확도 : 0.23 / 0.92\r\n",
        "\r\n",
        "기존의 채널 수를 4배 늘리니 정확도와 로스율 모두 좋은 성능을 보임"
      ]
    },
    {
      "cell_type": "code",
      "metadata": {
        "colab": {
          "base_uri": "https://localhost:8080/",
          "height": 1000
        },
        "id": "yUALsU9Pbnq7",
        "outputId": "307c999c-6a11-478c-bdbc-f6323295d87b"
      },
      "source": [
        "import matplotlib.pyplot as plt\r\n",
        "from time import time\r\n",
        "import numpy as np\r\n",
        "from keras.datasets import fashion_mnist # dataset\r\n",
        "from keras.models import Sequential\r\n",
        "from keras.utils import np_utils # One-hot encoding\r\n",
        "from keras.layers import Conv2D, Dense, Flatten, InputLayer, MaxPool2D\r\n",
        "\r\n",
        "# hyperparameter\r\n",
        "MY_EPOCH = 10\r\n",
        "MY_BATCH = 500\r\n",
        "\r\n",
        "\r\n",
        "(X_train, Y_train), (X_test, Y_test) = fashion_mnist.load_data()\r\n",
        "\r\n",
        "# 훈련 데이터, 훈련 레이블, 검증 데이터, 검증 레이블\r\n",
        "X_train.shape, Y_train.shape, X_test.shape, Y_test.shape\r\n",
        "\r\n",
        "# 0 ~ 1 사이의 정규화(Normalization)\r\n",
        "X_train = X_train / 255.0\r\n",
        "X_test = X_test / 255.0\r\n",
        "\r\n",
        "# 입력 데이터 모양 전환\r\n",
        "# 60000*28*28 -> 60000*28*28*1(채널정보) 1:grayscale, 3:rgb\r\n",
        "X_train = X_train.reshape(X_train.shape[0], 28, 28, 1)\r\n",
        "X_test = X_test.reshape(X_test.shape[0], 28, 28, 1)\r\n",
        "\r\n",
        "# 라벨 데이터 One-hot encoding\r\n",
        "Y_train = np_utils.to_categorical(Y_train, 10)\r\n",
        "Y_test = np_utils.to_categorical(Y_test, 10)\r\n",
        "\r\n",
        "model = Sequential()\r\n",
        "\r\n",
        "# 28*28*1\r\n",
        "model.add(InputLayer(input_shape=(X_train.shape[1], X_train.shape[2], X_train.shape[3])))\r\n",
        "model.add(Conv2D(filters=32 * 4, kernel_size=2, padding='same', activation='relu'))\r\n",
        "model.add(MaxPool2D(pool_size=2))\r\n",
        "model.add(Conv2D(filters=64 * 4, kernel_size=2, padding='same', activation='relu'))\r\n",
        "model.add(MaxPool2D(pool_size=2))\r\n",
        "# 7*7*64\r\n",
        "\r\n",
        "model.add(Flatten())\r\n",
        "# 7*7*64 = 3,136\r\n",
        "\r\n",
        "model.add(Dense(units=128, activation='relu'))\r\n",
        "# 파라미터 수: 3,136 * 128 + 128(bias) = 401,408 + 128 = 401,536\r\n",
        "\r\n",
        "model.add(Dense(units=10, activation='softmax'))\r\n",
        "# 파라미터 수: 128 * 10 + 10(bias) = 1,280 + 10 = 1,290\r\n",
        "# 분류 문제이므로 softmax (확률값 출력)\r\n",
        "# 회귀 문제는 항등함수 사용\r\n",
        "\r\n",
        "model.summary()\r\n",
        "\r\n",
        "model.compile(optimizer='adam', loss='categorical_crossentropy', metrics=['acc'])\r\n",
        "# 교차엔트로피 손실 값과 정확도를 넘겨줌\r\n",
        "\r\n",
        "begin = time()\r\n",
        "model.fit(x=X_train, y=Y_train, epochs=MY_EPOCH, batch_size=MY_BATCH, verbose=1)\r\n",
        "end =time()\r\n",
        "print(\"learning time: {:.2f}sec\".format(end - begin))\r\n",
        "\r\n",
        "score = model.evaluate(x=X_test, y=Y_test, verbose=1)\r\n",
        "print(\"Total loss: {:.2f}\".format(score[0]))\r\n",
        "# mse인 경우, rmse로 바꾸려면 score[0]에다가 sqrt 하면 됨\r\n",
        "print(\"Accuracy: {:.2f}\".format(score[1]))\r\n",
        "\r\n",
        "\r\n",
        "#                이미지숫자, width, height, channels\r\n",
        "image = X_test[0].reshape(1, 28, 28, 1) # 4차원으로 (batch 정보 추가)\r\n",
        "pred = model.predict(x=image)\r\n",
        "print(np.argmax(pred, axis=1))\r\n",
        "\r\n",
        "img = X_test[0].reshape(28, 28) # 채널 정보를 넣었으니(CNN), 이를 다시 빼줘야 한다.\r\n",
        "img = (img * 255.0).astype(np.int) # 정규화 돌리기 (아까 255로 나눴음)\r\n",
        "plt.imshow(img, cmap='gray')\r\n",
        "plt.show()"
      ],
      "execution_count": null,
      "outputs": [
        {
          "output_type": "stream",
          "text": [
            "Model: \"sequential\"\n",
            "_________________________________________________________________\n",
            "Layer (type)                 Output Shape              Param #   \n",
            "=================================================================\n",
            "conv2d (Conv2D)              (None, 28, 28, 128)       640       \n",
            "_________________________________________________________________\n",
            "max_pooling2d (MaxPooling2D) (None, 14, 14, 128)       0         \n",
            "_________________________________________________________________\n",
            "conv2d_1 (Conv2D)            (None, 14, 14, 256)       131328    \n",
            "_________________________________________________________________\n",
            "max_pooling2d_1 (MaxPooling2 (None, 7, 7, 256)         0         \n",
            "_________________________________________________________________\n",
            "flatten (Flatten)            (None, 12544)             0         \n",
            "_________________________________________________________________\n",
            "dense (Dense)                (None, 128)               1605760   \n",
            "_________________________________________________________________\n",
            "dense_1 (Dense)              (None, 10)                1290      \n",
            "=================================================================\n",
            "Total params: 1,739,018\n",
            "Trainable params: 1,739,018\n",
            "Non-trainable params: 0\n",
            "_________________________________________________________________\n",
            "Epoch 1/10\n",
            "120/120 [==============================] - 8s 44ms/step - loss: 0.8917 - acc: 0.6898\n",
            "Epoch 2/10\n",
            "120/120 [==============================] - 5s 44ms/step - loss: 0.3577 - acc: 0.8724\n",
            "Epoch 3/10\n",
            "120/120 [==============================] - 5s 44ms/step - loss: 0.3041 - acc: 0.8926\n",
            "Epoch 4/10\n",
            "120/120 [==============================] - 5s 45ms/step - loss: 0.2752 - acc: 0.9012\n",
            "Epoch 5/10\n",
            "120/120 [==============================] - 5s 45ms/step - loss: 0.2467 - acc: 0.9108\n",
            "Epoch 6/10\n",
            "120/120 [==============================] - 5s 45ms/step - loss: 0.2348 - acc: 0.9157\n",
            "Epoch 7/10\n",
            "120/120 [==============================] - 5s 44ms/step - loss: 0.2156 - acc: 0.9200\n",
            "Epoch 8/10\n",
            "120/120 [==============================] - 5s 44ms/step - loss: 0.1972 - acc: 0.9292\n",
            "Epoch 9/10\n",
            "120/120 [==============================] - 5s 44ms/step - loss: 0.1831 - acc: 0.9344\n",
            "Epoch 10/10\n",
            "120/120 [==============================] - 5s 44ms/step - loss: 0.1686 - acc: 0.9388\n",
            "learning time: 55.76sec\n",
            "313/313 [==============================] - 1s 3ms/step - loss: 0.2319 - acc: 0.9197\n",
            "Total loss: 0.23\n",
            "Accuracy: 0.92\n",
            "[9]\n"
          ],
          "name": "stdout"
        },
        {
          "output_type": "display_data",
          "data": {
            "image/png": "[encoded data removed]",
            "text/plain": [
              "<Figure size 432x288 with 1 Axes>"
            ]
          },
          "metadata": {
            "tags": [],
            "needs_background": "light"
          }
        }
      ]
    },
    {
      "cell_type": "markdown",
      "metadata": {
        "id": "0VZCcS_1aJjA"
      },
      "source": [
        "### 2. 화소 데이터 [-1, 1] 정규화를 생략해 보세요. 어떤 결과를 얻나요?"
      ]
    },
    {
      "cell_type": "markdown",
      "metadata": {
        "id": "jtF8xUxxaqeE"
      },
      "source": [
        "정규화 전 손실값 및 정확도 : 0.25 / 0.91\r\n",
        "\r\n",
        "정규화 후 손실값 및 정확도 : 0.32 / 0.90\r\n",
        "\r\n",
        "손실값은 조금 상승하였고, 정확도는 조금 낮아졌다. 정규화한 것이 더 좋은 성능을 보인다.\r\n",
        "\r\n"
      ]
    },
    {
      "cell_type": "code",
      "metadata": {
        "colab": {
          "base_uri": "https://localhost:8080/",
          "height": 1000
        },
        "id": "if9jGJn4W1Gj",
        "outputId": "6be08dfb-dce0-4feb-82b1-60768ddde345"
      },
      "source": [
        "# import \r\n",
        "import matplotlib.pyplot as plt\r\n",
        "import numpy as np\r\n",
        "\r\n",
        "from time import time\r\n",
        "from keras.models import Sequential\r\n",
        "from keras.utils import np_utils\r\n",
        "from keras.datasets import fashion_mnist\r\n",
        "\r\n",
        "from keras.layers import Flatten\r\n",
        "from keras.layers import Dense, MaxPool2D\r\n",
        "from keras.layers import Conv2D, InputLayer\r\n",
        "\r\n",
        "#파라미터\r\n",
        "MY_EPOCH=10\r\n",
        "MY_BATCH=500\r\n",
        "\r\n",
        "(X_train,Y_train),(X_test,Y_test)=fashion_mnist.load_data()\r\n",
        "\r\n",
        "print('학습용 입력 데이터:',X_train.shape)\r\n",
        "print('학습용 출력 데이터:',Y_train.shape)\r\n",
        "\r\n",
        "print('평가용 입력 데이터:',X_test.shape)\r\n",
        "print('평가용 출력 데이터:',Y_test.shape)\r\n",
        "\r\n",
        "#데이터 샘플 출력\r\n",
        "#print('학습용 데이터 첫번째 이미지 화소 정보')\r\n",
        "#print(X_train[0])\r\n",
        "plt.figure(figsize=(10,10))\r\n",
        "plt.imshow(X_train[0],cmap='gray')\r\n",
        "plt.show\r\n",
        "\r\n",
        "#정규화 하지 않음\r\n",
        "#X_train=X_train/255.0\r\n",
        "#X_test=X_test/255.0\r\n",
        "\r\n",
        "#데이터 모양 정보 전환\r\n",
        "X_train=X_train.reshape(X_train.shape[0],28,28,1) \r\n",
        "X_test=X_test.reshape(X_test.shape[0],28,28 ,1)\r\n",
        "\r\n",
        "#라벨 정보 수정\r\n",
        "Y_train = np_utils.to_categorical(Y_train,10)\r\n",
        "Y_test=np_utils.to_categorical(Y_test,10)\r\n",
        "\r\n",
        "print('학습용 입력 데이터:',X_train.shape)\r\n",
        "print('학습용 출력 데이터:',Y_train.shape)\r\n",
        "\r\n",
        "print('평가용 입력 데이터:',X_test.shape)\r\n",
        "print('평가용 출력 데이터:',Y_test.shape)\r\n",
        "\r\n",
        "model=Sequential()\r\n",
        "model.add(InputLayer(input_shape=(28,28,1)))\r\n",
        "\r\n",
        "# 첫번째 합성곱 블럭\r\n",
        "model.add(Conv2D(filters=32*4,\r\n",
        "                 kernel_size=2,\r\n",
        "                 padding='same',\r\n",
        "                 activation='relu'))\r\n",
        "\r\n",
        "model.add(MaxPool2D(pool_size=2))\r\n",
        "\r\n",
        "# 두번째 합성곱 블럭\r\n",
        "model.add(Conv2D(filters=64*4,\r\n",
        "                 kernel_size=2,\r\n",
        "                 padding='same',\r\n",
        "                 activation='relu'))\r\n",
        "\r\n",
        "model.add(MaxPool2D(pool_size=2))\r\n",
        "\r\n",
        "# DNN 입성\r\n",
        "model.add(Flatten())\r\n",
        "\r\n",
        "model.add(Dense(units=128,\r\n",
        "                activation='relu'))\r\n",
        "model.add(Dense(units=10,\r\n",
        "                activation='softmax'))\r\n",
        "\r\n",
        "print('CNN 요약')\r\n",
        "model.summary()\r\n",
        "\r\n",
        "#학습 방식 설정\r\n",
        "model.compile(optimizer='adam',\r\n",
        "              loss='categorical_crossentropy',\r\n",
        "              metrics=['acc'])\r\n",
        "\r\n",
        "#CNN 학습\r\n",
        "print('학습 시작')\r\n",
        "begin=time()\r\n",
        "\r\n",
        "model.fit(x=X_train,\r\n",
        "          y=Y_train,\r\n",
        "          epochs=MY_EPOCH,\r\n",
        "          batch_size=MY_BATCH,\r\n",
        "          verbose=1)\r\n",
        "\r\n",
        "end=time()\r\n",
        "print('총 학습시간 : {:.2f}초'.format(end-begin))\r\n",
        "\r\n",
        "score = model.evaluate(x=X_test,y=Y_test,verbose=1)\r\n",
        "\r\n",
        "print('최종 손실값: {:.2f}'.format(score[0]))\r\n",
        "print('최종 정확도: {:.2f}'.format(score[1]))\r\n",
        "\r\n",
        "#샘플 이미지\r\n",
        "image=X_test[1234]\r\n",
        "print(image.shape)\r\n",
        "# batch 정보 추가\r\n",
        "image=image.reshape(1,28,28,1)\r\n",
        "pred=model.predict(image)\r\n",
        "abc=X_train[1234].reshape(28,28)\r\n",
        "abc=abc*255\r\n",
        "\r\n",
        "print('평가용 첫번째 이미지 라벨: ',Y_test[1234])\r\n",
        "print('CNN 예측값 (확률 10개):',pred)\r\n",
        "print('CNN 예측 라벨:',np.argmax(pred,axis=1))\r\n",
        "\r\n",
        "\r\n",
        "plt.figure(figsize=(10,10))\r\n",
        "plt.imshow(abc,cmap='gray')"
      ],
      "execution_count": null,
      "outputs": [
        {
          "output_type": "stream",
          "text": [
            "학습용 입력 데이터: (60000, 28, 28)\n",
            "학습용 출력 데이터: (60000,)\n",
            "평가용 입력 데이터: (10000, 28, 28)\n",
            "평가용 출력 데이터: (10000,)\n",
            "학습용 입력 데이터: (60000, 28, 28, 1)\n",
            "학습용 출력 데이터: (60000, 10)\n",
            "평가용 입력 데이터: (10000, 28, 28, 1)\n",
            "평가용 출력 데이터: (10000, 10)\n",
            "CNN 요약\n",
            "Model: \"sequential_1\"\n",
            "_________________________________________________________________\n",
            "Layer (type)                 Output Shape              Param #   \n",
            "=================================================================\n",
            "conv2d_2 (Conv2D)            (None, 28, 28, 128)       640       \n",
            "_________________________________________________________________\n",
            "max_pooling2d_2 (MaxPooling2 (None, 14, 14, 128)       0         \n",
            "_________________________________________________________________\n",
            "conv2d_3 (Conv2D)            (None, 14, 14, 256)       131328    \n",
            "_________________________________________________________________\n",
            "max_pooling2d_3 (MaxPooling2 (None, 7, 7, 256)         0         \n",
            "_________________________________________________________________\n",
            "flatten_1 (Flatten)          (None, 12544)             0         \n",
            "_________________________________________________________________\n",
            "dense_2 (Dense)              (None, 128)               1605760   \n",
            "_________________________________________________________________\n",
            "dense_3 (Dense)              (None, 10)                1290      \n",
            "=================================================================\n",
            "Total params: 1,739,018\n",
            "Trainable params: 1,739,018\n",
            "Non-trainable params: 0\n",
            "_________________________________________________________________\n",
            "학습 시작\n",
            "Epoch 1/10\n",
            "120/120 [==============================] - 5s 42ms/step - loss: 9.2383 - acc: 0.6365\n",
            "Epoch 2/10\n",
            "120/120 [==============================] - 5s 42ms/step - loss: 0.3086 - acc: 0.8891\n",
            "Epoch 3/10\n",
            "120/120 [==============================] - 5s 42ms/step - loss: 0.2640 - acc: 0.9038\n",
            "Epoch 4/10\n",
            "120/120 [==============================] - 5s 42ms/step - loss: 0.2290 - acc: 0.9153\n",
            "Epoch 5/10\n",
            "120/120 [==============================] - 5s 43ms/step - loss: 0.2072 - acc: 0.9236\n",
            "Epoch 6/10\n",
            "120/120 [==============================] - 5s 43ms/step - loss: 0.1847 - acc: 0.9302\n",
            "Epoch 7/10\n",
            "120/120 [==============================] - 5s 43ms/step - loss: 0.1631 - acc: 0.9408\n",
            "Epoch 8/10\n",
            "120/120 [==============================] - 5s 43ms/step - loss: 0.1518 - acc: 0.9420\n",
            "Epoch 9/10\n",
            "120/120 [==============================] - 5s 43ms/step - loss: 0.1423 - acc: 0.9481\n",
            "Epoch 10/10\n",
            "120/120 [==============================] - 5s 43ms/step - loss: 0.1297 - acc: 0.9514\n",
            "총 학습시간 : 51.48초\n",
            "313/313 [==============================] - 1s 3ms/step - loss: 0.3241 - acc: 0.8965\n",
            "최종 손실값: 0.32\n",
            "최종 정확도: 0.90\n",
            "(28, 28, 1)\n",
            "평가용 첫번째 이미지 라벨:  [0. 0. 0. 0. 1. 0. 0. 0. 0. 0.]\n",
            "CNN 예측값 (확률 10개): [[2.3225948e-06 1.9715008e-08 1.3333573e-02 5.5141154e-09 9.8430908e-01\n",
            "  1.7265424e-10 2.3549849e-03 8.8608870e-11 7.3811939e-09 8.3857039e-11]]\n",
            "CNN 예측 라벨: [4]\n"
          ],
          "name": "stdout"
        },
        {
          "output_type": "execute_result",
          "data": {
            "text/plain": [
              "<matplotlib.image.AxesImage at 0x7f51aead82e8>"
            ]
          },
          "metadata": {
            "tags": []
          },
          "execution_count": 2
        },
        {
          "output_type": "display_data",
          "data": {
            "image/png": "[encoded data removed]",
            "text/plain": [
              "<Figure size 720x720 with 1 Axes>"
            ]
          },
          "metadata": {
            "tags": [],
            "needs_background": "light"
          }
        },
        {
          "output_type": "display_data",
          "data": {
            "image/png": "[encoded data removed]",
            "text/plain": [
              "<Figure size 720x720 with 1 Axes>"
            ]
          },
          "metadata": {
            "tags": [],
            "needs_background": "light"
          }
        }
      ]
    },
    {
      "cell_type": "markdown",
      "metadata": {
        "id": "cdNbXDbcqtrb"
      },
      "source": [
        "#### 3. "
      ]
    },
    {
      "cell_type": "markdown",
      "metadata": {
        "id": "Dni0pJK6VyXZ"
      },
      "source": [
        "GridSearchCV 를 통해 다른 조건은 같은 상태에서\r\n",
        "\r\n",
        "optimizer를 ['SGD', 'RMSprop', 'Adagrad', 'Adam'] 4가지로 테스트했을 떄\r\n",
        "\r\n",
        "RMSprop이 가장 좋은 성능을 보였습니다."
      ]
    },
    {
      "cell_type": "code",
      "metadata": {
        "colab": {
          "base_uri": "https://localhost:8080/"
        },
        "id": "5Lhib20SqtKz",
        "outputId": "7e0c0eff-72b7-461d-a812-963b237fac5e"
      },
      "source": [
        "# 추가\r\n",
        "from sklearn.model_selection import GridSearchCV\r\n",
        "from keras.wrappers.scikit_learn import KerasClassifier\r\n",
        "####################################\r\n",
        "\r\n",
        "\r\n",
        "import matplotlib.pyplot as plt\r\n",
        "from time import time\r\n",
        "import numpy as np\r\n",
        "from keras.datasets import fashion_mnist # dataset\r\n",
        "from keras.models import Sequential\r\n",
        "from keras.utils import np_utils # One-hot encoding\r\n",
        "from keras.layers import Conv2D, Dense, Flatten, InputLayer, MaxPool2D\r\n",
        "\r\n",
        "# hyperparameter\r\n",
        "MY_EPOCH = 10\r\n",
        "MY_BATCH = 500\r\n",
        "\r\n",
        "(X_train, Y_train), (X_test, Y_test) = fashion_mnist.load_data()\r\n",
        "\r\n",
        "# 0 ~ 1 사이의 정규화(Normalization)\r\n",
        "X_train = X_train / 255.0\r\n",
        "X_test = X_test / 255.0\r\n",
        "\r\n",
        "# 입력 데이터 모양 전환\r\n",
        "# 60000*28*28 -> 60000*28*28*1(채널정보) 1:grayscale, 3:rgb\r\n",
        "X_train = X_train.reshape(X_train.shape[0], 28, 28, 1)\r\n",
        "X_test = X_test.reshape(X_test.shape[0], 28, 28, 1)\r\n",
        "\r\n",
        "# 라벨 데이터 One-hot encoding\r\n",
        "Y_train = np_utils.to_categorical(Y_train, 10)\r\n",
        "Y_test = np_utils.to_categorical(Y_test, 10)\r\n",
        "\r\n",
        "def create_model(optimizer='adam'):\r\n",
        "    model = Sequential()\r\n",
        "    model.add(InputLayer(input_shape=(X_train.shape[1], X_train.shape[2], X_train.shape[3])))\r\n",
        "    model.add(Conv2D(filters=32, kernel_size=2, padding='same', activation='relu'))\r\n",
        "    model.add(MaxPool2D(pool_size=2))\r\n",
        "    model.add(Conv2D(filters=64, kernel_size=2, padding='same', activation='relu'))\r\n",
        "    model.add(MaxPool2D(pool_size=2))\r\n",
        "    model.add(Flatten())\r\n",
        "    model.add(Dense(units=128, activation='relu'))\r\n",
        "    model.add(Dense(units=10, activation='softmax'))\r\n",
        "    model.compile(optimizer=optimizer, loss='categorical_crossentropy', metrics=['acc'])\r\n",
        "    return model\r\n",
        "\r\n",
        "param_grid = [ \r\n",
        "        {'optimizer': ['SGD', 'RMSprop', 'Adagrad', 'Adam'], },\r\n",
        "      ]\r\n",
        "\r\n",
        "model = KerasClassifier(build_fn=create_model, epochs=MY_EPOCH, batch_size=MY_BATCH, verbose=0)\r\n",
        "grid = GridSearchCV(estimator=model, param_grid=param_grid)\r\n",
        "\r\n",
        "# 교차엔트로피 손실 값과 정확도를 넘겨줌\r\n",
        "begin = time()\r\n",
        "grid_result = grid.fit(X=X_train, y=Y_train)\r\n",
        "#model.fit(x=X_train, y=Y_train, epochs=MY_EPOCH, batch_size=MY_BATCH, verbose=0)\r\n",
        "end =time()\r\n",
        "print(\"learning time: {:.2f}sec\".format(end - begin))\r\n",
        "\r\n",
        "print(grid.best_score_, grid.best_params_)\r\n",
        "print(\"Test Score:\", grid_result.score(X_test, Y_test))"
      ],
      "execution_count": null,
      "outputs": [
        {
          "output_type": "stream",
          "text": [
            "learning time: 199.19sec\n",
            "0.9014166593551636 {'optimizer': 'RMSprop'}\n",
            "Test Score: 0.8925999999046326\n"
          ],
          "name": "stdout"
        }
      ]
    },
    {
      "cell_type": "markdown",
      "metadata": {
        "id": "csIYWh3O_3hb"
      },
      "source": [
        "4."
      ]
    },
    {
      "cell_type": "markdown",
      "metadata": {
        "id": "rFQlQdfhcAEC"
      },
      "source": [
        "GridSearchCV 를 통해 3번에서 실행한 결과를 바탕으로 optimizer를 RMSprop으로 사용하고 다른 조건은 같을 때\r\n",
        "\r\n",
        "batch_size: [250, 500, 1000, 2000, 3000], epochs: [5, 10, 25, 50] 총 20가지 조건으로 테스트 하였을 떄,\r\n",
        "배치사이즈 500, 에포크25의 경우 가장 높은 성능을 보였습니다."
      ]
    },
    {
      "cell_type": "code",
      "metadata": {
        "id": "_l5kQgXq5rjj",
        "colab": {
          "base_uri": "https://localhost:8080/"
        },
        "outputId": "d8f780c3-5743-4f98-af3f-7b78e7b326fa"
      },
      "source": [
        "# 추가\r\n",
        "from sklearn.model_selection import GridSearchCV\r\n",
        "from keras.wrappers.scikit_learn import KerasClassifier\r\n",
        "####################################\r\n",
        "\r\n",
        "\r\n",
        "import matplotlib.pyplot as plt\r\n",
        "from time import time\r\n",
        "import numpy as np\r\n",
        "from keras.datasets import fashion_mnist # dataset\r\n",
        "from keras.models import Sequential\r\n",
        "from keras.utils import np_utils # One-hot encoding\r\n",
        "from keras.layers import Conv2D, Dense, Flatten, InputLayer, MaxPool2D\r\n",
        "\r\n",
        "# hyperparameter\r\n",
        "MY_EPOCH = 10\r\n",
        "MY_BATCH = 500\r\n",
        "\r\n",
        "(X_train, Y_train), (X_test, Y_test) = fashion_mnist.load_data()\r\n",
        "\r\n",
        "# 0 ~ 1 사이의 정규화(Normalization)\r\n",
        "X_train = X_train / 255.0\r\n",
        "X_test = X_test / 255.0\r\n",
        "\r\n",
        "# 입력 데이터 모양 전환\r\n",
        "# 60000*28*28 -> 60000*28*28*1(채널정보) 1:grayscale, 3:rgb\r\n",
        "X_train = X_train.reshape(X_train.shape[0], 28, 28, 1)\r\n",
        "X_test = X_test.reshape(X_test.shape[0], 28, 28, 1)\r\n",
        "\r\n",
        "# 라벨 데이터 One-hot encoding\r\n",
        "Y_train = np_utils.to_categorical(Y_train, 10)\r\n",
        "Y_test = np_utils.to_categorical(Y_test, 10)\r\n",
        "\r\n",
        "def create_model():\r\n",
        "    model = Sequential()\r\n",
        "    model.add(InputLayer(input_shape=(X_train.shape[1], X_train.shape[2], X_train.shape[3])))\r\n",
        "    model.add(Conv2D(filters=32, kernel_size=2, padding='same', activation='relu'))\r\n",
        "    model.add(MaxPool2D(pool_size=2))\r\n",
        "    model.add(Conv2D(filters=64, kernel_size=2, padding='same', activation='relu'))\r\n",
        "    model.add(MaxPool2D(pool_size=2))\r\n",
        "    model.add(Flatten())\r\n",
        "    model.add(Dense(units=128, activation='relu'))\r\n",
        "    model.add(Dense(units=10, activation='softmax'))\r\n",
        "    model.compile(optimizer='RMSprop', loss='categorical_crossentropy', metrics=['acc'])\r\n",
        "    return model\r\n",
        "  \r\n",
        "param_grid = [ \r\n",
        "        {'batch_size': [250, 500, 1000, 2000, 3000], 'epochs': [5, 10, 25, 50], },\r\n",
        "      ]\r\n",
        "\r\n",
        "model = KerasClassifier(build_fn=create_model, verbose=0)\r\n",
        "grid = GridSearchCV(estimator=model, param_grid=param_grid)\r\n",
        "\r\n",
        "# 교차엔트로피 손실 값과 정확도를 넘겨줌\r\n",
        "begin = time()\r\n",
        "grid_result = grid.fit(X=X_train, y=Y_train)\r\n",
        "#model.fit(x=X_train, y=Y_train, epochs=MY_EPOCH, batch_size=MY_BATCH, verbose=0)\r\n",
        "end =time()\r\n",
        "print(\"learning time: {:.2f}sec\".format(end - begin))\r\n",
        "\r\n",
        "print(grid.best_score_, grid.best_params_)\r\n",
        "\r\n",
        "print(\"Test Score:\", grid_result.score(X_test, Y_test))"
      ],
      "execution_count": null,
      "outputs": [
        {
          "output_type": "stream",
          "text": [
            "learning time: 2052.68sec\n",
            "0.9190499901771545 {'batch_size': 500, 'epochs': 25}\n",
            "Test Score: 0.9144999980926514\n"
          ],
          "name": "stdout"
        }
      ]
    }
  ]
}